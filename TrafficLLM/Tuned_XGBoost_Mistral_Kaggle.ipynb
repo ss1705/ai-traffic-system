{
  "metadata": {
    "kernelspec": {
      "language": "python",
      "display_name": "Python 3",
      "name": "python3"
    },
    "language_info": {
      "name": "python",
      "version": "3.10.12",
      "mimetype": "text/x-python",
      "codemirror_mode": {
        "name": "ipython",
        "version": 3
      },
      "pygments_lexer": "ipython3",
      "nbconvert_exporter": "python",
      "file_extension": ".py"
    },
    "kaggle": {
      "accelerator": "nvidiaTeslaT4",
      "dataSources": [
        {
          "sourceId": 10859913,
          "sourceType": "datasetVersion",
          "datasetId": 6746109
        }
      ],
      "dockerImageVersionId": 30919,
      "isInternetEnabled": true,
      "language": "python",
      "sourceType": "notebook",
      "isGpuEnabled": true
    },
    "colab": {
      "name": "XGBoost-Mistral-Kaggle",
      "provenance": [],
      "include_colab_link": true
    }
  },
  "nbformat_minor": 0,
  "nbformat": 4,
  "cells": [
    {
      "cell_type": "markdown",
      "metadata": {
        "id": "view-in-github",
        "colab_type": "text"
      },
      "source": [
        "<a href=\"https://colab.research.google.com/github/ss1705/ai-traffic-system/blob/main/TrafficLLM/Tuned_XGBoost_Mistral_Kaggle.ipynb\" target=\"_parent\"><img src=\"https://colab.research.google.com/assets/colab-badge.svg\" alt=\"Open In Colab\"/></a>"
      ]
    },
    {
      "source": [
        "# IMPORTANT: SOME KAGGLE DATA SOURCES ARE PRIVATE\n",
        "# RUN THIS CELL IN ORDER TO IMPORT YOUR KAGGLE DATA SOURCES.\n",
        "import kagglehub\n",
        "kagglehub.login()\n"
      ],
      "metadata": {
        "id": "r2idLsQzPfnx"
      },
      "cell_type": "code",
      "outputs": [],
      "execution_count": null
    },
    {
      "source": [
        "# IMPORTANT: RUN THIS CELL IN ORDER TO IMPORT YOUR KAGGLE DATA SOURCES,\n",
        "# THEN FEEL FREE TO DELETE THIS CELL.\n",
        "# NOTE: THIS NOTEBOOK ENVIRONMENT DIFFERS FROM KAGGLE'S PYTHON\n",
        "# ENVIRONMENT SO THERE MAY BE MISSING LIBRARIES USED BY YOUR\n",
        "# NOTEBOOK.\n",
        "\n",
        "shwethasadanand_congestion_data_path = kagglehub.dataset_download('shwethasadanand/congestion-data')\n",
        "\n",
        "print('Data source import complete.')\n"
      ],
      "metadata": {
        "id": "uONXn9TZPfn1"
      },
      "cell_type": "code",
      "outputs": [],
      "execution_count": null
    },
    {
      "cell_type": "code",
      "source": [
        "import pandas as pd\n",
        "import numpy as np"
      ],
      "metadata": {
        "trusted": true,
        "execution": {
          "iopub.status.busy": "2025-03-04T06:39:22.834873Z",
          "iopub.execute_input": "2025-03-04T06:39:22.835434Z",
          "iopub.status.idle": "2025-03-04T06:39:23.760176Z",
          "shell.execute_reply.started": "2025-03-04T06:39:22.835366Z",
          "shell.execute_reply": "2025-03-04T06:39:23.759247Z"
        },
        "id": "h1yQtq6WPfn1"
      },
      "outputs": [],
      "execution_count": null
    },
    {
      "cell_type": "code",
      "source": [
        "df = pd.read_csv('/kaggle/input/congestion-data/us_congestion_2016_2022_sample_2m.csv')"
      ],
      "metadata": {
        "trusted": true,
        "execution": {
          "iopub.status.busy": "2025-03-04T06:39:40.820874Z",
          "iopub.execute_input": "2025-03-04T06:39:40.821178Z",
          "iopub.status.idle": "2025-03-04T06:40:01.783989Z",
          "shell.execute_reply.started": "2025-03-04T06:39:40.821156Z",
          "shell.execute_reply": "2025-03-04T06:40:01.783065Z"
        },
        "id": "IEOUHsRyPfn2"
      },
      "outputs": [],
      "execution_count": null
    },
    {
      "cell_type": "code",
      "source": [
        "import xgboost as xgb\n",
        "from sklearn.model_selection import train_test_split\n",
        "from sklearn.preprocessing import LabelEncoder\n",
        "from sklearn.metrics import mean_absolute_error, accuracy_score"
      ],
      "metadata": {
        "trusted": true,
        "execution": {
          "iopub.status.busy": "2025-03-04T06:40:08.578613Z",
          "iopub.execute_input": "2025-03-04T06:40:08.578916Z",
          "iopub.status.idle": "2025-03-04T06:40:09.420457Z",
          "shell.execute_reply.started": "2025-03-04T06:40:08.578892Z",
          "shell.execute_reply": "2025-03-04T06:40:09.419781Z"
        },
        "id": "gj8Lfbk0Pfn2"
      },
      "outputs": [],
      "execution_count": null
    },
    {
      "cell_type": "code",
      "source": [
        "df = df.drop([\"Description\", \"Street\", \"City\", \"County\", \"State\", \"Country\", \"ZipCode\", \"LocalTimeZone\",\n",
        "               \"WeatherStation_AirportCode\", \"WeatherTimeStamp\",\"ID\"], axis=1, errors=\"ignore\")"
      ],
      "metadata": {
        "trusted": true,
        "execution": {
          "iopub.status.busy": "2025-03-04T06:40:10.596941Z",
          "iopub.execute_input": "2025-03-04T06:40:10.597362Z",
          "iopub.status.idle": "2025-03-04T06:40:11.007957Z",
          "shell.execute_reply.started": "2025-03-04T06:40:10.59734Z",
          "shell.execute_reply": "2025-03-04T06:40:11.007276Z"
        },
        "id": "A-aFdlwIPfn2"
      },
      "outputs": [],
      "execution_count": null
    },
    {
      "cell_type": "code",
      "source": [
        "df_original = pd.read_csv('/kaggle/input/congestion-data/us_congestion_2016_2022_sample_2m.csv')"
      ],
      "metadata": {
        "trusted": true,
        "execution": {
          "iopub.status.busy": "2025-03-04T06:40:13.122417Z",
          "iopub.execute_input": "2025-03-04T06:40:13.12273Z",
          "iopub.status.idle": "2025-03-04T06:40:28.323767Z",
          "shell.execute_reply.started": "2025-03-04T06:40:13.122708Z",
          "shell.execute_reply": "2025-03-04T06:40:28.323016Z"
        },
        "id": "344QN50TPfn2"
      },
      "outputs": [],
      "execution_count": null
    },
    {
      "cell_type": "code",
      "source": [
        "encoding_maps = {}"
      ],
      "metadata": {
        "trusted": true,
        "execution": {
          "iopub.status.busy": "2025-03-04T06:40:29.091167Z",
          "iopub.execute_input": "2025-03-04T06:40:29.091433Z",
          "iopub.status.idle": "2025-03-04T06:40:29.095033Z",
          "shell.execute_reply.started": "2025-03-04T06:40:29.091413Z",
          "shell.execute_reply": "2025-03-04T06:40:29.094093Z"
        },
        "id": "aqEIwb74Pfn3"
      },
      "outputs": [],
      "execution_count": null
    },
    {
      "cell_type": "code",
      "source": [
        "categorical_cols = [\"Weather_Event\", \"Weather_Conditions\", \"WindDir\",\"Congestion_Speed\"]\n",
        "for col in categorical_cols:\n",
        "    encoder = LabelEncoder()\n",
        "    encoder.fit(df_original[col].astype(str))\n",
        "    encoding_maps[col] = dict(zip(encoder.classes_, encoder.transform(encoder.classes_)))"
      ],
      "metadata": {
        "trusted": true,
        "execution": {
          "iopub.status.busy": "2025-03-04T06:40:36.02113Z",
          "iopub.execute_input": "2025-03-04T06:40:36.021504Z",
          "iopub.status.idle": "2025-03-04T06:40:36.758438Z",
          "shell.execute_reply.started": "2025-03-04T06:40:36.021476Z",
          "shell.execute_reply": "2025-03-04T06:40:36.757771Z"
        },
        "id": "rGtjeNL0Pfn3"
      },
      "outputs": [],
      "execution_count": null
    },
    {
      "cell_type": "code",
      "source": [
        "categorical_cols = [\"Weather_Event\", \"Weather_Conditions\", \"WindDir\",\"Congestion_Speed\"]\n",
        "for col in categorical_cols:\n",
        "    df[col] = LabelEncoder().fit_transform(df[col].astype(str))"
      ],
      "metadata": {
        "trusted": true,
        "execution": {
          "iopub.status.busy": "2025-03-04T06:40:41.136982Z",
          "iopub.execute_input": "2025-03-04T06:40:41.137281Z",
          "iopub.status.idle": "2025-03-04T06:40:44.430111Z",
          "shell.execute_reply.started": "2025-03-04T06:40:41.137258Z",
          "shell.execute_reply": "2025-03-04T06:40:44.429448Z"
        },
        "id": "kNrdDj1QPfn3"
      },
      "outputs": [],
      "execution_count": null
    },
    {
      "cell_type": "code",
      "source": [
        "weather_conditions_map = encoding_maps[\"Weather_Conditions\"]\n",
        "print(weather_conditions_map)"
      ],
      "metadata": {
        "trusted": true,
        "execution": {
          "iopub.status.busy": "2025-03-04T06:41:16.696785Z",
          "iopub.execute_input": "2025-03-04T06:41:16.697108Z",
          "iopub.status.idle": "2025-03-04T06:41:16.702156Z",
          "shell.execute_reply.started": "2025-03-04T06:41:16.697079Z",
          "shell.execute_reply": "2025-03-04T06:41:16.701307Z"
        },
        "id": "lC4mPCakPfn3",
        "outputId": "49d4d7f4-ea47-44bb-f7c2-48f8655d8ae9"
      },
      "outputs": [
        {
          "name": "stdout",
          "text": "{'Blowing Dust': 0, 'Blowing Dust / Windy': 1, 'Blowing Sand': 2, 'Blowing Snow': 3, 'Blowing Snow / Windy': 4, 'Blowing Snow Nearby': 5, 'Blowing Snow Nearby / Windy': 6, 'Clear': 7, 'Cloudy': 8, 'Cloudy / Windy': 9, 'Drifting Snow': 10, 'Drizzle': 11, 'Drizzle / Windy': 12, 'Drizzle and Fog': 13, 'Fair': 14, 'Fair / Windy': 15, 'Fog': 16, 'Fog / Windy': 17, 'Freezing Drizzle': 18, 'Freezing Rain': 19, 'Freezing Rain / Windy': 20, 'Funnel Cloud': 21, 'Hail': 22, 'Haze': 23, 'Haze / Windy': 24, 'Heavy Blowing Snow': 25, 'Heavy Drizzle': 26, 'Heavy Freezing Drizzle': 27, 'Heavy Freezing Rain': 28, 'Heavy Ice Pellets': 29, 'Heavy Rain': 30, 'Heavy Rain / Windy': 31, 'Heavy Rain Shower': 32, 'Heavy Rain Showers': 33, 'Heavy Sleet': 34, 'Heavy Sleet / Windy': 35, 'Heavy Sleet and Thunder': 36, 'Heavy Snow': 37, 'Heavy Snow / Windy': 38, 'Heavy Snow Showers': 39, 'Heavy Snow with Thunder': 40, 'Heavy T-Storm': 41, 'Heavy T-Storm / Windy': 42, 'Heavy Thunderstorm': 43, 'Heavy Thunderstorms and Rain': 44, 'Heavy Thunderstorms and Snow': 45, 'Heavy Thunderstorms with Hail': 46, 'Heavy Thunderstorms with Ice Pellets': 47, 'Ice Crystals': 48, 'Ice Pellets': 49, 'Light Blowing Snow': 50, 'Light Drizzle': 51, 'Light Drizzle / Windy': 52, 'Light Freezing Drizzle': 53, 'Light Freezing Fog': 54, 'Light Freezing Rain': 55, 'Light Freezing Rain / Windy': 56, 'Light Ice Pellet Showers': 57, 'Light Ice Pellets': 58, 'Light Rain': 59, 'Light Rain / Windy': 60, 'Light Rain Shower': 61, 'Light Rain Shower / Windy': 62, 'Light Rain Showers': 63, 'Light Rain with Thunder': 64, 'Light Sleet': 65, 'Light Sleet / Windy': 66, 'Light Sleet and Thunder': 67, 'Light Snow': 68, 'Light Snow / Windy': 69, 'Light Snow Grains': 70, 'Light Snow Grains / Windy': 71, 'Light Snow Shower': 72, 'Light Snow Shower / Windy': 73, 'Light Snow Showers': 74, 'Light Snow and Sleet': 75, 'Light Snow and Sleet / Windy': 76, 'Light Snow with Thunder': 77, 'Light Thunderstorm': 78, 'Light Thunderstorms and Ice Pellets': 79, 'Light Thunderstorms and Rain': 80, 'Light Thunderstorms and Snow': 81, 'Low Drifting Snow': 82, 'Mist': 83, 'Mist / Windy': 84, 'Mostly Cloudy': 85, 'Mostly Cloudy / Windy': 86, 'N/A Precipitation': 87, 'Overcast': 88, 'Partial Fog': 89, 'Partly Cloudy': 90, 'Partly Cloudy / Windy': 91, 'Patches of Fog': 92, 'Rain': 93, 'Rain / Windy': 94, 'Rain Shower': 95, 'Rain Shower / Windy': 96, 'Rain Showers': 97, 'Sand': 98, 'Sand / Dust Whirls Nearby': 99, 'Sand / Dust Whirlwinds': 100, 'Sandstorm': 101, 'Scattered Clouds': 102, 'Shallow Fog': 103, 'Showers in the Vicinity': 104, 'Sleet': 105, 'Sleet / Windy': 106, 'Sleet and Thunder': 107, 'Small Hail': 108, 'Smoke': 109, 'Smoke / Windy': 110, 'Snow': 111, 'Snow / Windy': 112, 'Snow Showers': 113, 'Snow and Sleet': 114, 'Snow and Sleet / Windy': 115, 'Snow and Thunder': 116, 'Snow and Thunder / Windy': 117, 'Squalls': 118, 'Squalls / Windy': 119, 'T-Storm': 120, 'T-Storm / Windy': 121, 'Thunder': 122, 'Thunder / Windy': 123, 'Thunder / Wintry Mix': 124, 'Thunder and Hail': 125, 'Thunder and Hail / Windy': 126, 'Thunder and Small Hail': 127, 'Thunder in the Vicinity': 128, 'Thunderstorm': 129, 'Thunderstorms and Ice Pellets': 130, 'Thunderstorms and Rain': 131, 'Thunderstorms and Snow': 132, 'Volcanic Ash': 133, 'Widespread Dust': 134, 'Widespread Dust / Windy': 135, 'Wintry Mix': 136, 'Wintry Mix / Windy': 137, 'nan': 138}\n",
          "output_type": "stream"
        }
      ],
      "execution_count": null
    },
    {
      "cell_type": "code",
      "source": [
        "weather_event_map = encoding_maps[\"Weather_Event\"]\n",
        "print(weather_event_map)"
      ],
      "metadata": {
        "trusted": true,
        "execution": {
          "iopub.status.busy": "2025-03-04T07:09:00.6729Z",
          "iopub.execute_input": "2025-03-04T07:09:00.673288Z",
          "iopub.status.idle": "2025-03-04T07:09:00.678288Z",
          "shell.execute_reply.started": "2025-03-04T07:09:00.673248Z",
          "shell.execute_reply": "2025-03-04T07:09:00.677305Z"
        },
        "id": "HvqtUFaSPfn4",
        "outputId": "7fff8883-962f-4599-bdc5-7e249b18ee98"
      },
      "outputs": [
        {
          "name": "stdout",
          "text": "{'Fog': 0, 'Fog ;Rain': 1, 'Fog ;Rain ;Hail ;Thunderstorm': 2, 'Fog ;Rain ;Snow': 3, 'Fog ;Rain ;Snow ;Thunderstorm': 4, 'Fog ;Rain ;Thunderstorm': 5, 'Fog ;Rain ;Thunderstorm ;Tornado': 6, 'Fog ;Snow': 7, 'Fog ;Snow ;Thunderstorm': 8, 'Fog ;Thunderstorm': 9, 'Hail': 10, 'Hail ;Thunderstorm': 11, 'Rain': 12, 'Rain ;Hail ;Thunderstorm': 13, 'Rain ;Snow': 14, 'Rain ;Snow ;Thunderstorm': 15, 'Rain ;Thunderstorm': 16, 'Rain ;Thunderstorm ;Tornado': 17, 'Snow': 18, 'Snow ;Hail': 19, 'Snow ;Thunderstorm': 20, 'Thunderstorm': 21, 'Thunderstorm ;Tornado': 22, 'Tornado': 23, 'nan': 24}\n",
          "output_type": "stream"
        }
      ],
      "execution_count": null
    },
    {
      "cell_type": "code",
      "source": [
        "df[\"StartTime\"] = pd.to_datetime(df[\"StartTime\"], utc=True, errors=\"coerce\")\n",
        "df[\"EndTime\"] = pd.to_datetime(df[\"EndTime\"], utc=True, errors=\"coerce\")"
      ],
      "metadata": {
        "trusted": true,
        "execution": {
          "iopub.status.busy": "2025-03-04T06:42:03.133176Z",
          "iopub.execute_input": "2025-03-04T06:42:03.133508Z",
          "iopub.status.idle": "2025-03-04T06:42:04.310245Z",
          "shell.execute_reply.started": "2025-03-04T06:42:03.133483Z",
          "shell.execute_reply": "2025-03-04T06:42:04.30959Z"
        },
        "id": "rI4sUjvbPfn4"
      },
      "outputs": [],
      "execution_count": null
    },
    {
      "cell_type": "code",
      "source": [
        "df = df.dropna(subset=[\"StartTime\", \"EndTime\"])"
      ],
      "metadata": {
        "trusted": true,
        "execution": {
          "iopub.status.busy": "2025-03-04T06:42:05.775952Z",
          "iopub.execute_input": "2025-03-04T06:42:05.776266Z",
          "iopub.status.idle": "2025-03-04T06:42:05.913234Z",
          "shell.execute_reply.started": "2025-03-04T06:42:05.776204Z",
          "shell.execute_reply": "2025-03-04T06:42:05.912596Z"
        },
        "id": "-YOvYKx9Pfn4"
      },
      "outputs": [],
      "execution_count": null
    },
    {
      "cell_type": "code",
      "source": [
        "df[\"StartTime\"] = (df[\"StartTime\"] - df[\"StartTime\"].min()).dt.total_seconds()\n",
        "df[\"EndTime\"] = (df[\"EndTime\"] - df[\"EndTime\"].min()).dt.total_seconds()"
      ],
      "metadata": {
        "trusted": true,
        "execution": {
          "iopub.status.busy": "2025-03-04T06:42:07.335065Z",
          "iopub.execute_input": "2025-03-04T06:42:07.335377Z",
          "iopub.status.idle": "2025-03-04T06:42:07.403245Z",
          "shell.execute_reply.started": "2025-03-04T06:42:07.335353Z",
          "shell.execute_reply": "2025-03-04T06:42:07.40259Z"
        },
        "id": "HvCD57xgPfn4"
      },
      "outputs": [],
      "execution_count": null
    },
    {
      "cell_type": "code",
      "source": [
        "X = df.drop([\"DelayFromTypicalTraffic(mins)\", \"Congestion_Speed\"], axis=1)\n",
        "y_regression = df[\"DelayFromTypicalTraffic(mins)\"]  # Regression target\n",
        "y_classification = df[\"Congestion_Speed\"]  # Binary Classification (0 = Fast, 1 = Moderate, 2 = Slow)"
      ],
      "metadata": {
        "trusted": true,
        "execution": {
          "iopub.status.busy": "2025-03-04T06:42:12.564643Z",
          "iopub.execute_input": "2025-03-04T06:42:12.564862Z",
          "iopub.status.idle": "2025-03-04T06:42:12.646249Z",
          "shell.execute_reply.started": "2025-03-04T06:42:12.564842Z",
          "shell.execute_reply": "2025-03-04T06:42:12.6453Z"
        },
        "id": "5Bwqk_GjPfn4"
      },
      "outputs": [],
      "execution_count": null
    },
    {
      "cell_type": "code",
      "source": [
        "X_train, X_test, y_reg_train, y_reg_test, y_cls_train, y_cls_test = train_test_split(\n",
        "    X, y_regression, y_classification, test_size=0.2, random_state=42\n",
        ")"
      ],
      "metadata": {
        "trusted": true,
        "execution": {
          "iopub.status.busy": "2025-03-04T06:42:18.953792Z",
          "iopub.execute_input": "2025-03-04T06:42:18.954081Z",
          "iopub.status.idle": "2025-03-04T06:42:19.462062Z",
          "shell.execute_reply.started": "2025-03-04T06:42:18.954058Z",
          "shell.execute_reply": "2025-03-04T06:42:19.461296Z"
        },
        "id": "CbtvxqnpPfn4"
      },
      "outputs": [],
      "execution_count": null
    },
    {
      "cell_type": "code",
      "source": [
        "model = xgb.XGBRegressor(objective=\"reg:squarederror\", enable_categorical=True)\n",
        "clf = xgb.XGBClassifier(objective=\"binary:logistic\", enable_categorical=True)"
      ],
      "metadata": {
        "trusted": true,
        "execution": {
          "iopub.status.busy": "2025-03-04T06:42:21.980179Z",
          "iopub.execute_input": "2025-03-04T06:42:21.980644Z",
          "iopub.status.idle": "2025-03-04T06:42:21.984916Z",
          "shell.execute_reply.started": "2025-03-04T06:42:21.980613Z",
          "shell.execute_reply": "2025-03-04T06:42:21.984037Z"
        },
        "id": "aDMstXyDPfn4"
      },
      "outputs": [],
      "execution_count": null
    },
    {
      "cell_type": "code",
      "source": [
        "model.fit(X_train, y_reg_train)\n",
        "clf.fit(X_train, y_cls_train)"
      ],
      "metadata": {
        "trusted": true,
        "execution": {
          "iopub.status.busy": "2025-03-04T06:43:09.987081Z",
          "iopub.execute_input": "2025-03-04T06:43:09.987374Z",
          "iopub.status.idle": "2025-03-04T06:43:55.944076Z",
          "shell.execute_reply.started": "2025-03-04T06:43:09.987341Z",
          "shell.execute_reply": "2025-03-04T06:43:55.943111Z"
        },
        "id": "GJSEBzifPfn4",
        "outputId": "245410b6-da47-45eb-b707-734f47ed18ea"
      },
      "outputs": [
        {
          "execution_count": 25,
          "output_type": "execute_result",
          "data": {
            "text/plain": "XGBClassifier(base_score=None, booster=None, callbacks=None,\n              colsample_bylevel=None, colsample_bynode=None,\n              colsample_bytree=None, device=None, early_stopping_rounds=None,\n              enable_categorical=True, eval_metric=None, feature_types=None,\n              gamma=None, grow_policy=None, importance_type=None,\n              interaction_constraints=None, learning_rate=None, max_bin=None,\n              max_cat_threshold=None, max_cat_to_onehot=None,\n              max_delta_step=None, max_depth=None, max_leaves=None,\n              min_child_weight=None, missing=nan, monotone_constraints=None,\n              multi_strategy=None, n_estimators=None, n_jobs=None,\n              num_parallel_tree=None, objective='multi:softprob', ...)",
            "text/html": "<style>#sk-container-id-2 {color: black;background-color: white;}#sk-container-id-2 pre{padding: 0;}#sk-container-id-2 div.sk-toggleable {background-color: white;}#sk-container-id-2 label.sk-toggleable__label {cursor: pointer;display: block;width: 100%;margin-bottom: 0;padding: 0.3em;box-sizing: border-box;text-align: center;}#sk-container-id-2 label.sk-toggleable__label-arrow:before {content: \"▸\";float: left;margin-right: 0.25em;color: #696969;}#sk-container-id-2 label.sk-toggleable__label-arrow:hover:before {color: black;}#sk-container-id-2 div.sk-estimator:hover label.sk-toggleable__label-arrow:before {color: black;}#sk-container-id-2 div.sk-toggleable__content {max-height: 0;max-width: 0;overflow: hidden;text-align: left;background-color: #f0f8ff;}#sk-container-id-2 div.sk-toggleable__content pre {margin: 0.2em;color: black;border-radius: 0.25em;background-color: #f0f8ff;}#sk-container-id-2 input.sk-toggleable__control:checked~div.sk-toggleable__content {max-height: 200px;max-width: 100%;overflow: auto;}#sk-container-id-2 input.sk-toggleable__control:checked~label.sk-toggleable__label-arrow:before {content: \"▾\";}#sk-container-id-2 div.sk-estimator input.sk-toggleable__control:checked~label.sk-toggleable__label {background-color: #d4ebff;}#sk-container-id-2 div.sk-label input.sk-toggleable__control:checked~label.sk-toggleable__label {background-color: #d4ebff;}#sk-container-id-2 input.sk-hidden--visually {border: 0;clip: rect(1px 1px 1px 1px);clip: rect(1px, 1px, 1px, 1px);height: 1px;margin: -1px;overflow: hidden;padding: 0;position: absolute;width: 1px;}#sk-container-id-2 div.sk-estimator {font-family: monospace;background-color: #f0f8ff;border: 1px dotted black;border-radius: 0.25em;box-sizing: border-box;margin-bottom: 0.5em;}#sk-container-id-2 div.sk-estimator:hover {background-color: #d4ebff;}#sk-container-id-2 div.sk-parallel-item::after {content: \"\";width: 100%;border-bottom: 1px solid gray;flex-grow: 1;}#sk-container-id-2 div.sk-label:hover label.sk-toggleable__label {background-color: #d4ebff;}#sk-container-id-2 div.sk-serial::before {content: \"\";position: absolute;border-left: 1px solid gray;box-sizing: border-box;top: 0;bottom: 0;left: 50%;z-index: 0;}#sk-container-id-2 div.sk-serial {display: flex;flex-direction: column;align-items: center;background-color: white;padding-right: 0.2em;padding-left: 0.2em;position: relative;}#sk-container-id-2 div.sk-item {position: relative;z-index: 1;}#sk-container-id-2 div.sk-parallel {display: flex;align-items: stretch;justify-content: center;background-color: white;position: relative;}#sk-container-id-2 div.sk-item::before, #sk-container-id-2 div.sk-parallel-item::before {content: \"\";position: absolute;border-left: 1px solid gray;box-sizing: border-box;top: 0;bottom: 0;left: 50%;z-index: -1;}#sk-container-id-2 div.sk-parallel-item {display: flex;flex-direction: column;z-index: 1;position: relative;background-color: white;}#sk-container-id-2 div.sk-parallel-item:first-child::after {align-self: flex-end;width: 50%;}#sk-container-id-2 div.sk-parallel-item:last-child::after {align-self: flex-start;width: 50%;}#sk-container-id-2 div.sk-parallel-item:only-child::after {width: 0;}#sk-container-id-2 div.sk-dashed-wrapped {border: 1px dashed gray;margin: 0 0.4em 0.5em 0.4em;box-sizing: border-box;padding-bottom: 0.4em;background-color: white;}#sk-container-id-2 div.sk-label label {font-family: monospace;font-weight: bold;display: inline-block;line-height: 1.2em;}#sk-container-id-2 div.sk-label-container {text-align: center;}#sk-container-id-2 div.sk-container {/* jupyter's `normalize.less` sets `[hidden] { display: none; }` but bootstrap.min.css set `[hidden] { display: none !important; }` so we also need the `!important` here to be able to override the default hidden behavior on the sphinx rendered scikit-learn.org. See: https://github.com/scikit-learn/scikit-learn/issues/21755 */display: inline-block !important;position: relative;}#sk-container-id-2 div.sk-text-repr-fallback {display: none;}</style><div id=\"sk-container-id-2\" class=\"sk-top-container\"><div class=\"sk-text-repr-fallback\"><pre>XGBClassifier(base_score=None, booster=None, callbacks=None,\n              colsample_bylevel=None, colsample_bynode=None,\n              colsample_bytree=None, device=None, early_stopping_rounds=None,\n              enable_categorical=True, eval_metric=None, feature_types=None,\n              gamma=None, grow_policy=None, importance_type=None,\n              interaction_constraints=None, learning_rate=None, max_bin=None,\n              max_cat_threshold=None, max_cat_to_onehot=None,\n              max_delta_step=None, max_depth=None, max_leaves=None,\n              min_child_weight=None, missing=nan, monotone_constraints=None,\n              multi_strategy=None, n_estimators=None, n_jobs=None,\n              num_parallel_tree=None, objective=&#x27;multi:softprob&#x27;, ...)</pre><b>In a Jupyter environment, please rerun this cell to show the HTML representation or trust the notebook. <br />On GitHub, the HTML representation is unable to render, please try loading this page with nbviewer.org.</b></div><div class=\"sk-container\" hidden><div class=\"sk-item\"><div class=\"sk-estimator sk-toggleable\"><input class=\"sk-toggleable__control sk-hidden--visually\" id=\"sk-estimator-id-2\" type=\"checkbox\" checked><label for=\"sk-estimator-id-2\" class=\"sk-toggleable__label sk-toggleable__label-arrow\">XGBClassifier</label><div class=\"sk-toggleable__content\"><pre>XGBClassifier(base_score=None, booster=None, callbacks=None,\n              colsample_bylevel=None, colsample_bynode=None,\n              colsample_bytree=None, device=None, early_stopping_rounds=None,\n              enable_categorical=True, eval_metric=None, feature_types=None,\n              gamma=None, grow_policy=None, importance_type=None,\n              interaction_constraints=None, learning_rate=None, max_bin=None,\n              max_cat_threshold=None, max_cat_to_onehot=None,\n              max_delta_step=None, max_depth=None, max_leaves=None,\n              min_child_weight=None, missing=nan, monotone_constraints=None,\n              multi_strategy=None, n_estimators=None, n_jobs=None,\n              num_parallel_tree=None, objective=&#x27;multi:softprob&#x27;, ...)</pre></div></div></div></div></div>"
          },
          "metadata": {}
        }
      ],
      "execution_count": null
    },
    {
      "cell_type": "code",
      "source": [
        "y_reg_pred = model.predict(X_test)\n",
        "y_cls_pred = clf.predict(X_test)"
      ],
      "metadata": {
        "trusted": true,
        "execution": {
          "iopub.status.busy": "2025-03-04T06:44:07.942623Z",
          "iopub.execute_input": "2025-03-04T06:44:07.942926Z",
          "iopub.status.idle": "2025-03-04T06:44:09.431851Z",
          "shell.execute_reply.started": "2025-03-04T06:44:07.942902Z",
          "shell.execute_reply": "2025-03-04T06:44:09.431184Z"
        },
        "id": "BivGwZsWPfn5"
      },
      "outputs": [],
      "execution_count": null
    },
    {
      "cell_type": "code",
      "source": [
        "mae = mean_absolute_error(y_reg_test, y_reg_pred)\n",
        "accuracy = accuracy_score(y_cls_test, y_cls_pred)\n",
        "\n",
        "print(f\"Mean Absolute Error (MAE) for Delay Prediction: {mae}\")\n",
        "print(f\"Accuracy for Congestion Prediction: {accuracy}\")"
      ],
      "metadata": {
        "trusted": true,
        "execution": {
          "iopub.status.busy": "2025-03-04T06:44:28.118197Z",
          "iopub.execute_input": "2025-03-04T06:44:28.118546Z",
          "iopub.status.idle": "2025-03-04T06:44:28.193381Z",
          "shell.execute_reply.started": "2025-03-04T06:44:28.11852Z",
          "shell.execute_reply": "2025-03-04T06:44:28.192473Z"
        },
        "id": "PfHGP_BfPfn5",
        "outputId": "add0db7d-adac-44b5-c08b-f7992521c2d7"
      },
      "outputs": [
        {
          "name": "stdout",
          "text": "Mean Absolute Error (MAE) for Delay Prediction: 0.7518636414487376\nAccuracy for Congestion Prediction: 0.7250497953137355\n",
          "output_type": "stream"
        }
      ],
      "execution_count": null
    },
    {
      "cell_type": "code",
      "source": [
        "from sklearn.metrics import classification_report\n",
        "print(classification_report(y_cls_test, y_cls_pred))"
      ],
      "metadata": {
        "trusted": true,
        "execution": {
          "iopub.status.busy": "2025-03-04T06:44:33.351594Z",
          "iopub.execute_input": "2025-03-04T06:44:33.351908Z",
          "iopub.status.idle": "2025-03-04T06:44:33.725313Z",
          "shell.execute_reply.started": "2025-03-04T06:44:33.351886Z",
          "shell.execute_reply": "2025-03-04T06:44:33.724455Z"
        },
        "id": "M7T5Gq5ZPfn5",
        "outputId": "1d9ab471-f53f-48a7-da96-151131f923a7"
      },
      "outputs": [
        {
          "name": "stdout",
          "text": "              precision    recall  f1-score   support\n\n           0       0.80      0.74      0.77    143084\n           1       0.67      0.74      0.70    159343\n           2       0.72      0.68      0.70     97209\n\n    accuracy                           0.73    399636\n   macro avg       0.73      0.72      0.72    399636\nweighted avg       0.73      0.73      0.73    399636\n\n",
          "output_type": "stream"
        }
      ],
      "execution_count": null
    },
    {
      "cell_type": "code",
      "source": [
        "importance = model.feature_importances_\n",
        "for feature, score in zip(X_train.columns, importance):\n",
        "    print(f\"{feature}: {score:.4f}\")"
      ],
      "metadata": {
        "trusted": true,
        "execution": {
          "iopub.status.busy": "2025-03-04T06:44:36.983414Z",
          "iopub.execute_input": "2025-03-04T06:44:36.983706Z",
          "iopub.status.idle": "2025-03-04T06:44:36.99117Z",
          "shell.execute_reply.started": "2025-03-04T06:44:36.983685Z",
          "shell.execute_reply": "2025-03-04T06:44:36.990372Z"
        },
        "id": "_6vU-WEmPfn5",
        "outputId": "5c519c19-dd93-4a2e-925a-2cab4fdb9750"
      },
      "outputs": [
        {
          "name": "stdout",
          "text": "Severity: 0.0278\nStart_Lat: 0.0278\nStart_Lng: 0.0356\nStartTime: 0.0380\nEndTime: 0.0595\nDistance(mi): 0.0506\nDelayFromFreeFlowSpeed(mins): 0.5591\nTemperature(F): 0.0578\nWindChill(F): 0.0214\nHumidity(%): 0.0211\nPressure(in): 0.0246\nVisibility(mi): 0.0195\nWindDir: 0.0117\nWindSpeed(mph): 0.0121\nPrecipitation(in): 0.0112\nWeather_Event: 0.0105\nWeather_Conditions: 0.0116\n",
          "output_type": "stream"
        }
      ],
      "execution_count": null
    },
    {
      "cell_type": "code",
      "source": [
        "import optuna"
      ],
      "metadata": {
        "trusted": true,
        "execution": {
          "iopub.status.busy": "2025-03-04T06:44:46.995552Z",
          "iopub.execute_input": "2025-03-04T06:44:46.995873Z",
          "iopub.status.idle": "2025-03-04T06:44:47.318547Z",
          "shell.execute_reply.started": "2025-03-04T06:44:46.995848Z",
          "shell.execute_reply": "2025-03-04T06:44:47.317931Z"
        },
        "id": "kDAuRDMzPfn5"
      },
      "outputs": [],
      "execution_count": null
    },
    {
      "cell_type": "code",
      "source": [
        "def objective(trial):\n",
        "    params = {\n",
        "        \"objective\": \"reg:squarederror\",  # Regression for DelayFromTypicalTraffic\n",
        "        \"n_estimators\": trial.suggest_int(\"n_estimators\", 100, 1000, step=100),\n",
        "        \"max_depth\": trial.suggest_int(\"max_depth\", 3, 12),\n",
        "        \"learning_rate\": trial.suggest_float(\"learning_rate\", 0.01, 0.3, log=True),\n",
        "        \"subsample\": trial.suggest_float(\"subsample\", 0.5, 1.0),\n",
        "        \"colsample_bytree\": trial.suggest_float(\"colsample_bytree\", 0.5, 1.0),\n",
        "        \"reg_alpha\": trial.suggest_float(\"reg_alpha\", 0.0, 1.0),\n",
        "        \"reg_lambda\": trial.suggest_float(\"reg_lambda\", 0.0, 1.0),\n",
        "        \"min_child_weight\": trial.suggest_int(\"min_child_weight\", 1, 10),\n",
        "    }\n",
        "\n",
        "    # Train model with current parameters\n",
        "    model = xgb.XGBRegressor(**params)\n",
        "    model.fit(X_train, y_reg_train)\n",
        "\n",
        "    # Predict and evaluate\n",
        "    y_pred = model.predict(X_test)\n",
        "    mae = mean_absolute_error(y_reg_test, y_pred)\n",
        "\n",
        "    return mae  # Optuna minimizes this"
      ],
      "metadata": {
        "trusted": true,
        "execution": {
          "iopub.status.busy": "2025-03-04T06:44:49.035015Z",
          "iopub.execute_input": "2025-03-04T06:44:49.035416Z",
          "iopub.status.idle": "2025-03-04T06:44:49.040917Z",
          "shell.execute_reply.started": "2025-03-04T06:44:49.035384Z",
          "shell.execute_reply": "2025-03-04T06:44:49.040009Z"
        },
        "id": "os7FSy_7Pfn5"
      },
      "outputs": [],
      "execution_count": null
    },
    {
      "cell_type": "code",
      "source": [
        "# study = optuna.create_study(direction=\"minimize\")\n",
        "# study.optimize(objective, n_trials=30)"
      ],
      "metadata": {
        "trusted": true,
        "execution": {
          "iopub.status.busy": "2025-03-03T15:33:06.275847Z",
          "iopub.execute_input": "2025-03-03T15:33:06.276143Z",
          "iopub.status.idle": "2025-03-03T16:22:08.941044Z",
          "shell.execute_reply.started": "2025-03-03T15:33:06.276102Z",
          "shell.execute_reply": "2025-03-03T16:22:08.94029Z"
        },
        "id": "6ptUL6MkPfn5"
      },
      "outputs": [],
      "execution_count": null
    },
    {
      "cell_type": "code",
      "source": [
        "best_params = {'n_estimators': 900, 'max_depth': 12, 'learning_rate': 0.05343119005856983, 'subsample': 0.897285760757781, 'colsample_bytree': 0.9980782272439057, 'reg_alpha': 0.018441364690612083, 'reg_lambda': 0.19361190668945039, 'min_child_weight': 6}\n",
        "print(\"Best parameters:\", best_params)"
      ],
      "metadata": {
        "trusted": true,
        "execution": {
          "iopub.status.busy": "2025-03-04T06:45:24.371296Z",
          "iopub.execute_input": "2025-03-04T06:45:24.371622Z",
          "iopub.status.idle": "2025-03-04T06:45:24.376839Z",
          "shell.execute_reply.started": "2025-03-04T06:45:24.371596Z",
          "shell.execute_reply": "2025-03-04T06:45:24.376061Z"
        },
        "id": "R4SwMP2EPfn5",
        "outputId": "93a853f7-f0e5-434e-a946-338e5d740737"
      },
      "outputs": [
        {
          "name": "stdout",
          "text": "Best parameters: {'n_estimators': 900, 'max_depth': 12, 'learning_rate': 0.05343119005856983, 'subsample': 0.897285760757781, 'colsample_bytree': 0.9980782272439057, 'reg_alpha': 0.018441364690612083, 'reg_lambda': 0.19361190668945039, 'min_child_weight': 6}\n",
          "output_type": "stream"
        }
      ],
      "execution_count": null
    },
    {
      "cell_type": "code",
      "source": [
        "best_model = xgb.XGBRegressor(**best_params)\n",
        "best_model.fit(X_train, y_reg_train)"
      ],
      "metadata": {
        "trusted": true,
        "execution": {
          "iopub.status.busy": "2025-03-04T06:45:30.486139Z",
          "iopub.execute_input": "2025-03-04T06:45:30.486555Z",
          "iopub.status.idle": "2025-03-04T06:48:25.513563Z",
          "shell.execute_reply.started": "2025-03-04T06:45:30.486521Z",
          "shell.execute_reply": "2025-03-04T06:48:25.512694Z"
        },
        "id": "ZK14LXlcPfn5",
        "outputId": "db779bc9-5dc7-4202-c703-039ecd542396"
      },
      "outputs": [
        {
          "execution_count": 35,
          "output_type": "execute_result",
          "data": {
            "text/plain": "XGBRegressor(base_score=None, booster=None, callbacks=None,\n             colsample_bylevel=None, colsample_bynode=None,\n             colsample_bytree=0.9980782272439057, device=None,\n             early_stopping_rounds=None, enable_categorical=False,\n             eval_metric=None, feature_types=None, gamma=None, grow_policy=None,\n             importance_type=None, interaction_constraints=None,\n             learning_rate=0.05343119005856983, max_bin=None,\n             max_cat_threshold=None, max_cat_to_onehot=None,\n             max_delta_step=None, max_depth=12, max_leaves=None,\n             min_child_weight=6, missing=nan, monotone_constraints=None,\n             multi_strategy=None, n_estimators=900, n_jobs=None,\n             num_parallel_tree=None, random_state=None, ...)",
            "text/html": "<style>#sk-container-id-3 {color: black;background-color: white;}#sk-container-id-3 pre{padding: 0;}#sk-container-id-3 div.sk-toggleable {background-color: white;}#sk-container-id-3 label.sk-toggleable__label {cursor: pointer;display: block;width: 100%;margin-bottom: 0;padding: 0.3em;box-sizing: border-box;text-align: center;}#sk-container-id-3 label.sk-toggleable__label-arrow:before {content: \"▸\";float: left;margin-right: 0.25em;color: #696969;}#sk-container-id-3 label.sk-toggleable__label-arrow:hover:before {color: black;}#sk-container-id-3 div.sk-estimator:hover label.sk-toggleable__label-arrow:before {color: black;}#sk-container-id-3 div.sk-toggleable__content {max-height: 0;max-width: 0;overflow: hidden;text-align: left;background-color: #f0f8ff;}#sk-container-id-3 div.sk-toggleable__content pre {margin: 0.2em;color: black;border-radius: 0.25em;background-color: #f0f8ff;}#sk-container-id-3 input.sk-toggleable__control:checked~div.sk-toggleable__content {max-height: 200px;max-width: 100%;overflow: auto;}#sk-container-id-3 input.sk-toggleable__control:checked~label.sk-toggleable__label-arrow:before {content: \"▾\";}#sk-container-id-3 div.sk-estimator input.sk-toggleable__control:checked~label.sk-toggleable__label {background-color: #d4ebff;}#sk-container-id-3 div.sk-label input.sk-toggleable__control:checked~label.sk-toggleable__label {background-color: #d4ebff;}#sk-container-id-3 input.sk-hidden--visually {border: 0;clip: rect(1px 1px 1px 1px);clip: rect(1px, 1px, 1px, 1px);height: 1px;margin: -1px;overflow: hidden;padding: 0;position: absolute;width: 1px;}#sk-container-id-3 div.sk-estimator {font-family: monospace;background-color: #f0f8ff;border: 1px dotted black;border-radius: 0.25em;box-sizing: border-box;margin-bottom: 0.5em;}#sk-container-id-3 div.sk-estimator:hover {background-color: #d4ebff;}#sk-container-id-3 div.sk-parallel-item::after {content: \"\";width: 100%;border-bottom: 1px solid gray;flex-grow: 1;}#sk-container-id-3 div.sk-label:hover label.sk-toggleable__label {background-color: #d4ebff;}#sk-container-id-3 div.sk-serial::before {content: \"\";position: absolute;border-left: 1px solid gray;box-sizing: border-box;top: 0;bottom: 0;left: 50%;z-index: 0;}#sk-container-id-3 div.sk-serial {display: flex;flex-direction: column;align-items: center;background-color: white;padding-right: 0.2em;padding-left: 0.2em;position: relative;}#sk-container-id-3 div.sk-item {position: relative;z-index: 1;}#sk-container-id-3 div.sk-parallel {display: flex;align-items: stretch;justify-content: center;background-color: white;position: relative;}#sk-container-id-3 div.sk-item::before, #sk-container-id-3 div.sk-parallel-item::before {content: \"\";position: absolute;border-left: 1px solid gray;box-sizing: border-box;top: 0;bottom: 0;left: 50%;z-index: -1;}#sk-container-id-3 div.sk-parallel-item {display: flex;flex-direction: column;z-index: 1;position: relative;background-color: white;}#sk-container-id-3 div.sk-parallel-item:first-child::after {align-self: flex-end;width: 50%;}#sk-container-id-3 div.sk-parallel-item:last-child::after {align-self: flex-start;width: 50%;}#sk-container-id-3 div.sk-parallel-item:only-child::after {width: 0;}#sk-container-id-3 div.sk-dashed-wrapped {border: 1px dashed gray;margin: 0 0.4em 0.5em 0.4em;box-sizing: border-box;padding-bottom: 0.4em;background-color: white;}#sk-container-id-3 div.sk-label label {font-family: monospace;font-weight: bold;display: inline-block;line-height: 1.2em;}#sk-container-id-3 div.sk-label-container {text-align: center;}#sk-container-id-3 div.sk-container {/* jupyter's `normalize.less` sets `[hidden] { display: none; }` but bootstrap.min.css set `[hidden] { display: none !important; }` so we also need the `!important` here to be able to override the default hidden behavior on the sphinx rendered scikit-learn.org. See: https://github.com/scikit-learn/scikit-learn/issues/21755 */display: inline-block !important;position: relative;}#sk-container-id-3 div.sk-text-repr-fallback {display: none;}</style><div id=\"sk-container-id-3\" class=\"sk-top-container\"><div class=\"sk-text-repr-fallback\"><pre>XGBRegressor(base_score=None, booster=None, callbacks=None,\n             colsample_bylevel=None, colsample_bynode=None,\n             colsample_bytree=0.9980782272439057, device=None,\n             early_stopping_rounds=None, enable_categorical=False,\n             eval_metric=None, feature_types=None, gamma=None, grow_policy=None,\n             importance_type=None, interaction_constraints=None,\n             learning_rate=0.05343119005856983, max_bin=None,\n             max_cat_threshold=None, max_cat_to_onehot=None,\n             max_delta_step=None, max_depth=12, max_leaves=None,\n             min_child_weight=6, missing=nan, monotone_constraints=None,\n             multi_strategy=None, n_estimators=900, n_jobs=None,\n             num_parallel_tree=None, random_state=None, ...)</pre><b>In a Jupyter environment, please rerun this cell to show the HTML representation or trust the notebook. <br />On GitHub, the HTML representation is unable to render, please try loading this page with nbviewer.org.</b></div><div class=\"sk-container\" hidden><div class=\"sk-item\"><div class=\"sk-estimator sk-toggleable\"><input class=\"sk-toggleable__control sk-hidden--visually\" id=\"sk-estimator-id-3\" type=\"checkbox\" checked><label for=\"sk-estimator-id-3\" class=\"sk-toggleable__label sk-toggleable__label-arrow\">XGBRegressor</label><div class=\"sk-toggleable__content\"><pre>XGBRegressor(base_score=None, booster=None, callbacks=None,\n             colsample_bylevel=None, colsample_bynode=None,\n             colsample_bytree=0.9980782272439057, device=None,\n             early_stopping_rounds=None, enable_categorical=False,\n             eval_metric=None, feature_types=None, gamma=None, grow_policy=None,\n             importance_type=None, interaction_constraints=None,\n             learning_rate=0.05343119005856983, max_bin=None,\n             max_cat_threshold=None, max_cat_to_onehot=None,\n             max_delta_step=None, max_depth=12, max_leaves=None,\n             min_child_weight=6, missing=nan, monotone_constraints=None,\n             multi_strategy=None, n_estimators=900, n_jobs=None,\n             num_parallel_tree=None, random_state=None, ...)</pre></div></div></div></div></div>"
          },
          "metadata": {}
        }
      ],
      "execution_count": null
    },
    {
      "cell_type": "code",
      "source": [
        "y_pred_final = best_model.predict(X_test)\n",
        "mae_final = mean_absolute_error(y_reg_test, y_pred_final)"
      ],
      "metadata": {
        "trusted": true,
        "execution": {
          "iopub.status.busy": "2025-03-04T06:49:52.448145Z",
          "iopub.execute_input": "2025-03-04T06:49:52.448505Z",
          "iopub.status.idle": "2025-03-04T06:50:02.912265Z",
          "shell.execute_reply.started": "2025-03-04T06:49:52.448478Z",
          "shell.execute_reply": "2025-03-04T06:50:02.911549Z"
        },
        "id": "W5Z6RKBpPfn5"
      },
      "outputs": [],
      "execution_count": null
    },
    {
      "cell_type": "code",
      "source": [
        "print(f\"Final Mean Absolute Error (MAE): {mae_final}\")"
      ],
      "metadata": {
        "trusted": true,
        "execution": {
          "iopub.status.busy": "2025-03-04T06:50:05.948741Z",
          "iopub.execute_input": "2025-03-04T06:50:05.949034Z",
          "iopub.status.idle": "2025-03-04T06:50:05.953559Z",
          "shell.execute_reply.started": "2025-03-04T06:50:05.949011Z",
          "shell.execute_reply": "2025-03-04T06:50:05.95266Z"
        },
        "id": "qhLf-pCvPfn5",
        "outputId": "c6b208fb-3a44-41a9-e86e-c8041c81eea6"
      },
      "outputs": [
        {
          "name": "stdout",
          "text": "Final Mean Absolute Error (MAE): 0.6562671162319853\n",
          "output_type": "stream"
        }
      ],
      "execution_count": null
    },
    {
      "cell_type": "code",
      "source": [
        "def objective_cls(trial):\n",
        "    params = {\n",
        "        \"objective\": \"multi:softmax\",\n",
        "        \"num_class\": 3,\n",
        "        \"n_estimators\": trial.suggest_int(\"n_estimators\", 100, 1000, step=100),\n",
        "        \"max_depth\": trial.suggest_int(\"max_depth\", 3, 12),\n",
        "        \"learning_rate\": trial.suggest_float(\"learning_rate\", 0.01, 0.3, log=True),\n",
        "        \"subsample\": trial.suggest_float(\"subsample\", 0.5, 1.0),\n",
        "        \"colsample_bytree\": trial.suggest_float(\"colsample_bytree\", 0.5, 1.0),\n",
        "        \"reg_alpha\": trial.suggest_float(\"reg_alpha\", 0.0, 1.0),\n",
        "        \"reg_lambda\": trial.suggest_float(\"reg_lambda\", 0.0, 1.0),\n",
        "        \"min_child_weight\": trial.suggest_int(\"min_child_weight\", 1, 10),\n",
        "    }\n",
        "\n",
        "    clf = xgb.XGBClassifier(**params)\n",
        "    clf.fit(X_train, y_cls_train)\n",
        "\n",
        "    y_pred = clf.predict(X_test)\n",
        "    acc = accuracy_score(y_cls_test, y_pred)\n",
        "\n",
        "    return 1 - acc"
      ],
      "metadata": {
        "trusted": true,
        "execution": {
          "iopub.status.busy": "2025-03-04T06:52:07.344175Z",
          "iopub.execute_input": "2025-03-04T06:52:07.344538Z",
          "iopub.status.idle": "2025-03-04T06:52:07.350008Z",
          "shell.execute_reply.started": "2025-03-04T06:52:07.34451Z",
          "shell.execute_reply": "2025-03-04T06:52:07.349079Z"
        },
        "id": "8Zi2N754Pfn5"
      },
      "outputs": [],
      "execution_count": null
    },
    {
      "cell_type": "code",
      "source": [
        "# study_cls = optuna.create_study(direction=\"minimize\")\n",
        "# study_cls.optimize(objective_cls, n_trials=30)"
      ],
      "metadata": {
        "trusted": true,
        "execution": {
          "iopub.status.busy": "2025-03-03T16:36:42.531901Z",
          "iopub.execute_input": "2025-03-03T16:36:42.532261Z",
          "iopub.status.idle": "2025-03-03T19:17:41.851646Z",
          "shell.execute_reply.started": "2025-03-03T16:36:42.532232Z",
          "shell.execute_reply": "2025-03-03T19:17:41.850772Z"
        },
        "id": "wxhTlpPMPfn5"
      },
      "outputs": [],
      "execution_count": null
    },
    {
      "cell_type": "code",
      "source": [
        "best_params_cls = {'n_estimators': 800, 'max_depth': 10, 'learning_rate': 0.09219203992461676, 'subsample': 0.9440038119184523, 'colsample_bytree': 0.6556610437910383, 'reg_alpha': 0.5921488001440582, 'reg_lambda': 0.27768888744961756, 'min_child_weight': 1}\n",
        "print(\"Best parameters for classification:\", best_params_cls)"
      ],
      "metadata": {
        "trusted": true,
        "execution": {
          "iopub.status.busy": "2025-03-04T06:52:38.032898Z",
          "iopub.execute_input": "2025-03-04T06:52:38.033187Z",
          "iopub.status.idle": "2025-03-04T06:52:38.038844Z",
          "shell.execute_reply.started": "2025-03-04T06:52:38.033166Z",
          "shell.execute_reply": "2025-03-04T06:52:38.03797Z"
        },
        "id": "SCbZDJHBPfn6",
        "outputId": "34ff0464-7238-434e-ca62-631925339fd8"
      },
      "outputs": [
        {
          "name": "stdout",
          "text": "Best parameters for classification: {'n_estimators': 800, 'max_depth': 10, 'learning_rate': 0.09219203992461676, 'subsample': 0.9440038119184523, 'colsample_bytree': 0.6556610437910383, 'reg_alpha': 0.5921488001440582, 'reg_lambda': 0.27768888744961756, 'min_child_weight': 1}\n",
          "output_type": "stream"
        }
      ],
      "execution_count": null
    },
    {
      "cell_type": "code",
      "source": [
        "best_clf = xgb.XGBClassifier(**best_params_cls)\n",
        "best_clf.fit(X_train, y_cls_train)"
      ],
      "metadata": {
        "trusted": true,
        "execution": {
          "iopub.status.busy": "2025-03-04T06:52:43.244069Z",
          "iopub.execute_input": "2025-03-04T06:52:43.244391Z",
          "iopub.status.idle": "2025-03-04T06:59:36.766891Z",
          "shell.execute_reply.started": "2025-03-04T06:52:43.244364Z",
          "shell.execute_reply": "2025-03-04T06:59:36.765979Z"
        },
        "id": "7wL5Jec6Pfn6",
        "outputId": "81c65dbd-e8c2-475f-f7c4-0768763b331e"
      },
      "outputs": [
        {
          "execution_count": 40,
          "output_type": "execute_result",
          "data": {
            "text/plain": "XGBClassifier(base_score=None, booster=None, callbacks=None,\n              colsample_bylevel=None, colsample_bynode=None,\n              colsample_bytree=0.6556610437910383, device=None,\n              early_stopping_rounds=None, enable_categorical=False,\n              eval_metric=None, feature_types=None, gamma=None,\n              grow_policy=None, importance_type=None,\n              interaction_constraints=None, learning_rate=0.09219203992461676,\n              max_bin=None, max_cat_threshold=None, max_cat_to_onehot=None,\n              max_delta_step=None, max_depth=10, max_leaves=None,\n              min_child_weight=1, missing=nan, monotone_constraints=None,\n              multi_strategy=None, n_estimators=800, n_jobs=None,\n              num_parallel_tree=None, objective='multi:softprob', ...)",
            "text/html": "<style>#sk-container-id-4 {color: black;background-color: white;}#sk-container-id-4 pre{padding: 0;}#sk-container-id-4 div.sk-toggleable {background-color: white;}#sk-container-id-4 label.sk-toggleable__label {cursor: pointer;display: block;width: 100%;margin-bottom: 0;padding: 0.3em;box-sizing: border-box;text-align: center;}#sk-container-id-4 label.sk-toggleable__label-arrow:before {content: \"▸\";float: left;margin-right: 0.25em;color: #696969;}#sk-container-id-4 label.sk-toggleable__label-arrow:hover:before {color: black;}#sk-container-id-4 div.sk-estimator:hover label.sk-toggleable__label-arrow:before {color: black;}#sk-container-id-4 div.sk-toggleable__content {max-height: 0;max-width: 0;overflow: hidden;text-align: left;background-color: #f0f8ff;}#sk-container-id-4 div.sk-toggleable__content pre {margin: 0.2em;color: black;border-radius: 0.25em;background-color: #f0f8ff;}#sk-container-id-4 input.sk-toggleable__control:checked~div.sk-toggleable__content {max-height: 200px;max-width: 100%;overflow: auto;}#sk-container-id-4 input.sk-toggleable__control:checked~label.sk-toggleable__label-arrow:before {content: \"▾\";}#sk-container-id-4 div.sk-estimator input.sk-toggleable__control:checked~label.sk-toggleable__label {background-color: #d4ebff;}#sk-container-id-4 div.sk-label input.sk-toggleable__control:checked~label.sk-toggleable__label {background-color: #d4ebff;}#sk-container-id-4 input.sk-hidden--visually {border: 0;clip: rect(1px 1px 1px 1px);clip: rect(1px, 1px, 1px, 1px);height: 1px;margin: -1px;overflow: hidden;padding: 0;position: absolute;width: 1px;}#sk-container-id-4 div.sk-estimator {font-family: monospace;background-color: #f0f8ff;border: 1px dotted black;border-radius: 0.25em;box-sizing: border-box;margin-bottom: 0.5em;}#sk-container-id-4 div.sk-estimator:hover {background-color: #d4ebff;}#sk-container-id-4 div.sk-parallel-item::after {content: \"\";width: 100%;border-bottom: 1px solid gray;flex-grow: 1;}#sk-container-id-4 div.sk-label:hover label.sk-toggleable__label {background-color: #d4ebff;}#sk-container-id-4 div.sk-serial::before {content: \"\";position: absolute;border-left: 1px solid gray;box-sizing: border-box;top: 0;bottom: 0;left: 50%;z-index: 0;}#sk-container-id-4 div.sk-serial {display: flex;flex-direction: column;align-items: center;background-color: white;padding-right: 0.2em;padding-left: 0.2em;position: relative;}#sk-container-id-4 div.sk-item {position: relative;z-index: 1;}#sk-container-id-4 div.sk-parallel {display: flex;align-items: stretch;justify-content: center;background-color: white;position: relative;}#sk-container-id-4 div.sk-item::before, #sk-container-id-4 div.sk-parallel-item::before {content: \"\";position: absolute;border-left: 1px solid gray;box-sizing: border-box;top: 0;bottom: 0;left: 50%;z-index: -1;}#sk-container-id-4 div.sk-parallel-item {display: flex;flex-direction: column;z-index: 1;position: relative;background-color: white;}#sk-container-id-4 div.sk-parallel-item:first-child::after {align-self: flex-end;width: 50%;}#sk-container-id-4 div.sk-parallel-item:last-child::after {align-self: flex-start;width: 50%;}#sk-container-id-4 div.sk-parallel-item:only-child::after {width: 0;}#sk-container-id-4 div.sk-dashed-wrapped {border: 1px dashed gray;margin: 0 0.4em 0.5em 0.4em;box-sizing: border-box;padding-bottom: 0.4em;background-color: white;}#sk-container-id-4 div.sk-label label {font-family: monospace;font-weight: bold;display: inline-block;line-height: 1.2em;}#sk-container-id-4 div.sk-label-container {text-align: center;}#sk-container-id-4 div.sk-container {/* jupyter's `normalize.less` sets `[hidden] { display: none; }` but bootstrap.min.css set `[hidden] { display: none !important; }` so we also need the `!important` here to be able to override the default hidden behavior on the sphinx rendered scikit-learn.org. See: https://github.com/scikit-learn/scikit-learn/issues/21755 */display: inline-block !important;position: relative;}#sk-container-id-4 div.sk-text-repr-fallback {display: none;}</style><div id=\"sk-container-id-4\" class=\"sk-top-container\"><div class=\"sk-text-repr-fallback\"><pre>XGBClassifier(base_score=None, booster=None, callbacks=None,\n              colsample_bylevel=None, colsample_bynode=None,\n              colsample_bytree=0.6556610437910383, device=None,\n              early_stopping_rounds=None, enable_categorical=False,\n              eval_metric=None, feature_types=None, gamma=None,\n              grow_policy=None, importance_type=None,\n              interaction_constraints=None, learning_rate=0.09219203992461676,\n              max_bin=None, max_cat_threshold=None, max_cat_to_onehot=None,\n              max_delta_step=None, max_depth=10, max_leaves=None,\n              min_child_weight=1, missing=nan, monotone_constraints=None,\n              multi_strategy=None, n_estimators=800, n_jobs=None,\n              num_parallel_tree=None, objective=&#x27;multi:softprob&#x27;, ...)</pre><b>In a Jupyter environment, please rerun this cell to show the HTML representation or trust the notebook. <br />On GitHub, the HTML representation is unable to render, please try loading this page with nbviewer.org.</b></div><div class=\"sk-container\" hidden><div class=\"sk-item\"><div class=\"sk-estimator sk-toggleable\"><input class=\"sk-toggleable__control sk-hidden--visually\" id=\"sk-estimator-id-4\" type=\"checkbox\" checked><label for=\"sk-estimator-id-4\" class=\"sk-toggleable__label sk-toggleable__label-arrow\">XGBClassifier</label><div class=\"sk-toggleable__content\"><pre>XGBClassifier(base_score=None, booster=None, callbacks=None,\n              colsample_bylevel=None, colsample_bynode=None,\n              colsample_bytree=0.6556610437910383, device=None,\n              early_stopping_rounds=None, enable_categorical=False,\n              eval_metric=None, feature_types=None, gamma=None,\n              grow_policy=None, importance_type=None,\n              interaction_constraints=None, learning_rate=0.09219203992461676,\n              max_bin=None, max_cat_threshold=None, max_cat_to_onehot=None,\n              max_delta_step=None, max_depth=10, max_leaves=None,\n              min_child_weight=1, missing=nan, monotone_constraints=None,\n              multi_strategy=None, n_estimators=800, n_jobs=None,\n              num_parallel_tree=None, objective=&#x27;multi:softprob&#x27;, ...)</pre></div></div></div></div></div>"
          },
          "metadata": {}
        }
      ],
      "execution_count": null
    },
    {
      "cell_type": "code",
      "source": [
        "y_pred_cls = best_clf.predict(X_test)\n",
        "acc_final = accuracy_score(y_cls_test, y_pred_cls)"
      ],
      "metadata": {
        "trusted": true,
        "execution": {
          "iopub.status.busy": "2025-03-04T06:59:43.321506Z",
          "iopub.execute_input": "2025-03-04T06:59:43.321798Z",
          "iopub.status.idle": "2025-03-04T07:00:05.691496Z",
          "shell.execute_reply.started": "2025-03-04T06:59:43.321767Z",
          "shell.execute_reply": "2025-03-04T07:00:05.690825Z"
        },
        "id": "4zK5fkY5Pfn6"
      },
      "outputs": [],
      "execution_count": null
    },
    {
      "cell_type": "code",
      "source": [
        "print(f\"Final Classification Accuracy: {acc_final}\")"
      ],
      "metadata": {
        "trusted": true,
        "execution": {
          "iopub.status.busy": "2025-03-04T07:00:38.22057Z",
          "iopub.execute_input": "2025-03-04T07:00:38.220876Z",
          "iopub.status.idle": "2025-03-04T07:00:38.225491Z",
          "shell.execute_reply.started": "2025-03-04T07:00:38.220853Z",
          "shell.execute_reply": "2025-03-04T07:00:38.224708Z"
        },
        "id": "XgoIkircPfn6",
        "outputId": "17b8ba8c-4248-4ad9-b2a5-4a4403ab6f1b"
      },
      "outputs": [
        {
          "name": "stdout",
          "text": "Final Classification Accuracy: 0.7543814871533095\n",
          "output_type": "stream"
        }
      ],
      "execution_count": null
    },
    {
      "cell_type": "code",
      "source": [
        "!pip install transformers accelerate torch sentencepiece --quiet"
      ],
      "metadata": {
        "trusted": true,
        "execution": {
          "iopub.status.busy": "2025-03-04T07:03:15.079488Z",
          "iopub.execute_input": "2025-03-04T07:03:15.079952Z",
          "iopub.status.idle": "2025-03-04T07:03:18.478792Z",
          "shell.execute_reply.started": "2025-03-04T07:03:15.079916Z",
          "shell.execute_reply": "2025-03-04T07:03:18.477863Z"
        },
        "id": "Jb8NmokwPfn6"
      },
      "outputs": [],
      "execution_count": null
    },
    {
      "cell_type": "code",
      "source": [
        "!pip install -U bitsandbytes"
      ],
      "metadata": {
        "trusted": true,
        "execution": {
          "iopub.status.busy": "2025-03-04T07:03:21.024187Z",
          "iopub.execute_input": "2025-03-04T07:03:21.024554Z",
          "iopub.status.idle": "2025-03-04T07:03:27.15846Z",
          "shell.execute_reply.started": "2025-03-04T07:03:21.024511Z",
          "shell.execute_reply": "2025-03-04T07:03:27.157584Z"
        },
        "id": "z7O2lthZPfn6",
        "outputId": "bf846ab0-0165-4d01-836a-463ceaccffd0"
      },
      "outputs": [
        {
          "name": "stdout",
          "text": "Collecting bitsandbytes\n  Downloading bitsandbytes-0.45.3-py3-none-manylinux_2_24_x86_64.whl.metadata (5.0 kB)\nRequirement already satisfied: torch<3,>=2.0 in /usr/local/lib/python3.10/dist-packages (from bitsandbytes) (2.5.1+cu121)\nRequirement already satisfied: numpy>=1.17 in /usr/local/lib/python3.10/dist-packages (from bitsandbytes) (1.26.4)\nRequirement already satisfied: mkl_fft in /usr/local/lib/python3.10/dist-packages (from numpy>=1.17->bitsandbytes) (1.3.8)\nRequirement already satisfied: mkl_random in /usr/local/lib/python3.10/dist-packages (from numpy>=1.17->bitsandbytes) (1.2.4)\nRequirement already satisfied: mkl_umath in /usr/local/lib/python3.10/dist-packages (from numpy>=1.17->bitsandbytes) (0.1.1)\nRequirement already satisfied: mkl in /usr/local/lib/python3.10/dist-packages (from numpy>=1.17->bitsandbytes) (2025.0.1)\nRequirement already satisfied: tbb4py in /usr/local/lib/python3.10/dist-packages (from numpy>=1.17->bitsandbytes) (2022.0.0)\nRequirement already satisfied: mkl-service in /usr/local/lib/python3.10/dist-packages (from numpy>=1.17->bitsandbytes) (2.4.1)\nRequirement already satisfied: filelock in /usr/local/lib/python3.10/dist-packages (from torch<3,>=2.0->bitsandbytes) (3.17.0)\nRequirement already satisfied: typing-extensions>=4.8.0 in /usr/local/lib/python3.10/dist-packages (from torch<3,>=2.0->bitsandbytes) (4.12.2)\nRequirement already satisfied: networkx in /usr/local/lib/python3.10/dist-packages (from torch<3,>=2.0->bitsandbytes) (3.4.2)\nRequirement already satisfied: jinja2 in /usr/local/lib/python3.10/dist-packages (from torch<3,>=2.0->bitsandbytes) (3.1.4)\nRequirement already satisfied: fsspec in /usr/local/lib/python3.10/dist-packages (from torch<3,>=2.0->bitsandbytes) (2024.12.0)\nRequirement already satisfied: sympy==1.13.1 in /usr/local/lib/python3.10/dist-packages (from torch<3,>=2.0->bitsandbytes) (1.13.1)\nRequirement already satisfied: mpmath<1.4,>=1.1.0 in /usr/local/lib/python3.10/dist-packages (from sympy==1.13.1->torch<3,>=2.0->bitsandbytes) (1.3.0)\nRequirement already satisfied: MarkupSafe>=2.0 in /usr/local/lib/python3.10/dist-packages (from jinja2->torch<3,>=2.0->bitsandbytes) (3.0.2)\nRequirement already satisfied: intel-openmp>=2024 in /usr/local/lib/python3.10/dist-packages (from mkl->numpy>=1.17->bitsandbytes) (2024.2.0)\nRequirement already satisfied: tbb==2022.* in /usr/local/lib/python3.10/dist-packages (from mkl->numpy>=1.17->bitsandbytes) (2022.0.0)\nRequirement already satisfied: tcmlib==1.* in /usr/local/lib/python3.10/dist-packages (from tbb==2022.*->mkl->numpy>=1.17->bitsandbytes) (1.2.0)\nRequirement already satisfied: intel-cmplr-lib-rt in /usr/local/lib/python3.10/dist-packages (from mkl_umath->numpy>=1.17->bitsandbytes) (2024.2.0)\nRequirement already satisfied: intel-cmplr-lib-ur==2024.2.0 in /usr/local/lib/python3.10/dist-packages (from intel-openmp>=2024->mkl->numpy>=1.17->bitsandbytes) (2024.2.0)\nDownloading bitsandbytes-0.45.3-py3-none-manylinux_2_24_x86_64.whl (76.1 MB)\n\u001b[2K   \u001b[90m━━━━━━━━━━━━━━━━━━━━━━━━━━━━━━━━━━━━━━━━\u001b[0m \u001b[32m76.1/76.1 MB\u001b[0m \u001b[31m22.7 MB/s\u001b[0m eta \u001b[36m0:00:00\u001b[0m:00:01\u001b[0m00:01\u001b[0m\n\u001b[?25hInstalling collected packages: bitsandbytes\nSuccessfully installed bitsandbytes-0.45.3\n",
          "output_type": "stream"
        }
      ],
      "execution_count": null
    },
    {
      "cell_type": "code",
      "source": [
        "from huggingface_hub import login\n",
        "login()"
      ],
      "metadata": {
        "trusted": true,
        "execution": {
          "iopub.status.busy": "2025-03-04T07:03:58.255165Z",
          "iopub.execute_input": "2025-03-04T07:03:58.255494Z",
          "iopub.status.idle": "2025-03-04T07:03:58.499683Z",
          "shell.execute_reply.started": "2025-03-04T07:03:58.25547Z",
          "shell.execute_reply": "2025-03-04T07:03:58.498412Z"
        },
        "colab": {
          "referenced_widgets": [
            "e82dcbb38f9a4db2b56a88915c3ea64a"
          ]
        },
        "id": "Mp9TGJ-2Pfn6",
        "outputId": "b1bcdb73-d700-4714-c1d4-5cb9e5ec9e9f"
      },
      "outputs": [
        {
          "output_type": "display_data",
          "data": {
            "text/plain": "VBox(children=(HTML(value='<center> <img\\nsrc=https://huggingface.co/front/assets/huggingface_logo-noborder.sv…",
            "application/vnd.jupyter.widget-view+json": {
              "version_major": 2,
              "version_minor": 0,
              "model_id": "e82dcbb38f9a4db2b56a88915c3ea64a"
            }
          },
          "metadata": {}
        }
      ],
      "execution_count": null
    },
    {
      "cell_type": "code",
      "source": [
        "from transformers import AutoModelForCausalLM, AutoTokenizer, pipeline\n",
        "import torch"
      ],
      "metadata": {
        "trusted": true,
        "execution": {
          "iopub.status.busy": "2025-03-04T07:04:40.363894Z",
          "iopub.execute_input": "2025-03-04T07:04:40.364665Z",
          "iopub.status.idle": "2025-03-04T07:04:40.370083Z",
          "shell.execute_reply.started": "2025-03-04T07:04:40.36462Z",
          "shell.execute_reply": "2025-03-04T07:04:40.368941Z"
        },
        "id": "xzhNm_g1Pfn-"
      },
      "outputs": [],
      "execution_count": null
    },
    {
      "cell_type": "code",
      "source": [
        "model_name = \"mistralai/Mistral-7B-Instruct-v0.1\""
      ],
      "metadata": {
        "trusted": true,
        "execution": {
          "iopub.status.busy": "2025-03-04T07:04:42.876124Z",
          "iopub.execute_input": "2025-03-04T07:04:42.876496Z",
          "iopub.status.idle": "2025-03-04T07:04:42.880197Z",
          "shell.execute_reply.started": "2025-03-04T07:04:42.876469Z",
          "shell.execute_reply": "2025-03-04T07:04:42.879282Z"
        },
        "id": "Spo5FRBAPfn_"
      },
      "outputs": [],
      "execution_count": null
    },
    {
      "cell_type": "code",
      "source": [
        "tokenizer = AutoTokenizer.from_pretrained(model_name)\n",
        "model = AutoModelForCausalLM.from_pretrained(\n",
        "    model_name,\n",
        "    torch_dtype=torch.float16,\n",
        "    load_in_8bit=True,\n",
        "    device_map=\"auto\"\n",
        ")"
      ],
      "metadata": {
        "trusted": true,
        "execution": {
          "iopub.status.busy": "2025-03-04T07:04:45.858738Z",
          "iopub.execute_input": "2025-03-04T07:04:45.859025Z",
          "iopub.status.idle": "2025-03-04T07:06:58.261941Z",
          "shell.execute_reply.started": "2025-03-04T07:04:45.859004Z",
          "shell.execute_reply": "2025-03-04T07:06:58.261056Z"
        },
        "colab": {
          "referenced_widgets": [
            "e97dd04ebf544631af56d04d6b20d3a6",
            "e5c2cb048f894fbba9a42d26b494b713",
            "5f7ea82a4b784b81953a8a6a420dba3a",
            "c2c7a9467f9d4ccaa0f8df195b6efd1f",
            "f74e15f0fc1e4a6da5c6b7eacebeb771",
            "4ee9e1f3400a40c483786280b8e23aaa",
            "00f502e16aef43bb8f9368e99608555b",
            "219184774fed4788a6391701aace72d0",
            "bdc302ef044f4c9390e52d0678bc64de",
            "97ecd097f3f6486fa10f21c02b842ab9",
            "26fe1aa47b3b4cf48e7d46653de56b4f"
          ]
        },
        "id": "cZ3dlzI1Pfn_",
        "outputId": "0e0ead32-9e6c-4e05-cac7-7f3eb6957a7b"
      },
      "outputs": [
        {
          "output_type": "display_data",
          "data": {
            "text/plain": "tokenizer_config.json:   0%|          | 0.00/2.10k [00:00<?, ?B/s]",
            "application/vnd.jupyter.widget-view+json": {
              "version_major": 2,
              "version_minor": 0,
              "model_id": "e97dd04ebf544631af56d04d6b20d3a6"
            }
          },
          "metadata": {}
        },
        {
          "output_type": "display_data",
          "data": {
            "text/plain": "tokenizer.model:   0%|          | 0.00/493k [00:00<?, ?B/s]",
            "application/vnd.jupyter.widget-view+json": {
              "version_major": 2,
              "version_minor": 0,
              "model_id": "e5c2cb048f894fbba9a42d26b494b713"
            }
          },
          "metadata": {}
        },
        {
          "output_type": "display_data",
          "data": {
            "text/plain": "tokenizer.json:   0%|          | 0.00/1.80M [00:00<?, ?B/s]",
            "application/vnd.jupyter.widget-view+json": {
              "version_major": 2,
              "version_minor": 0,
              "model_id": "5f7ea82a4b784b81953a8a6a420dba3a"
            }
          },
          "metadata": {}
        },
        {
          "output_type": "display_data",
          "data": {
            "text/plain": "special_tokens_map.json:   0%|          | 0.00/414 [00:00<?, ?B/s]",
            "application/vnd.jupyter.widget-view+json": {
              "version_major": 2,
              "version_minor": 0,
              "model_id": "c2c7a9467f9d4ccaa0f8df195b6efd1f"
            }
          },
          "metadata": {}
        },
        {
          "output_type": "display_data",
          "data": {
            "text/plain": "config.json:   0%|          | 0.00/571 [00:00<?, ?B/s]",
            "application/vnd.jupyter.widget-view+json": {
              "version_major": 2,
              "version_minor": 0,
              "model_id": "f74e15f0fc1e4a6da5c6b7eacebeb771"
            }
          },
          "metadata": {}
        },
        {
          "name": "stderr",
          "text": "The `load_in_4bit` and `load_in_8bit` arguments are deprecated and will be removed in the future versions. Please, pass a `BitsAndBytesConfig` object in `quantization_config` argument instead.\n",
          "output_type": "stream"
        },
        {
          "output_type": "display_data",
          "data": {
            "text/plain": "model.safetensors.index.json:   0%|          | 0.00/25.1k [00:00<?, ?B/s]",
            "application/vnd.jupyter.widget-view+json": {
              "version_major": 2,
              "version_minor": 0,
              "model_id": "4ee9e1f3400a40c483786280b8e23aaa"
            }
          },
          "metadata": {}
        },
        {
          "output_type": "display_data",
          "data": {
            "text/plain": "Downloading shards:   0%|          | 0/2 [00:00<?, ?it/s]",
            "application/vnd.jupyter.widget-view+json": {
              "version_major": 2,
              "version_minor": 0,
              "model_id": "00f502e16aef43bb8f9368e99608555b"
            }
          },
          "metadata": {}
        },
        {
          "output_type": "display_data",
          "data": {
            "text/plain": "model-00001-of-00002.safetensors:   0%|          | 0.00/9.94G [00:00<?, ?B/s]",
            "application/vnd.jupyter.widget-view+json": {
              "version_major": 2,
              "version_minor": 0,
              "model_id": "219184774fed4788a6391701aace72d0"
            }
          },
          "metadata": {}
        },
        {
          "output_type": "display_data",
          "data": {
            "text/plain": "model-00002-of-00002.safetensors:   0%|          | 0.00/4.54G [00:00<?, ?B/s]",
            "application/vnd.jupyter.widget-view+json": {
              "version_major": 2,
              "version_minor": 0,
              "model_id": "bdc302ef044f4c9390e52d0678bc64de"
            }
          },
          "metadata": {}
        },
        {
          "output_type": "display_data",
          "data": {
            "text/plain": "Loading checkpoint shards:   0%|          | 0/2 [00:00<?, ?it/s]",
            "application/vnd.jupyter.widget-view+json": {
              "version_major": 2,
              "version_minor": 0,
              "model_id": "97ecd097f3f6486fa10f21c02b842ab9"
            }
          },
          "metadata": {}
        },
        {
          "output_type": "display_data",
          "data": {
            "text/plain": "generation_config.json:   0%|          | 0.00/116 [00:00<?, ?B/s]",
            "application/vnd.jupyter.widget-view+json": {
              "version_major": 2,
              "version_minor": 0,
              "model_id": "26fe1aa47b3b4cf48e7d46653de56b4f"
            }
          },
          "metadata": {}
        }
      ],
      "execution_count": null
    },
    {
      "cell_type": "code",
      "source": [
        "llm_pipeline = pipeline(\"text-generation\", model=model, tokenizer=tokenizer)"
      ],
      "metadata": {
        "trusted": true,
        "execution": {
          "iopub.status.busy": "2025-03-04T07:07:28.295826Z",
          "iopub.execute_input": "2025-03-04T07:07:28.296155Z",
          "iopub.status.idle": "2025-03-04T07:07:28.303554Z",
          "shell.execute_reply.started": "2025-03-04T07:07:28.296128Z",
          "shell.execute_reply": "2025-03-04T07:07:28.302883Z"
        },
        "id": "DNK58_G5Pfn_",
        "outputId": "99539060-5cf7-43b5-fdf1-7063cafc76bc"
      },
      "outputs": [
        {
          "name": "stderr",
          "text": "Device set to use cuda:0\n",
          "output_type": "stream"
        }
      ],
      "execution_count": null
    },
    {
      "cell_type": "code",
      "source": [
        "weather_conditions_map_rev = {v: k for k, v in weather_conditions_map.items()}\n",
        "weather_event_map_rev = {v: k for k, v in weather_event_map.items()}"
      ],
      "metadata": {
        "trusted": true,
        "execution": {
          "iopub.status.busy": "2025-03-04T07:09:09.817384Z",
          "iopub.execute_input": "2025-03-04T07:09:09.817694Z",
          "iopub.status.idle": "2025-03-04T07:09:09.8217Z",
          "shell.execute_reply.started": "2025-03-04T07:09:09.817668Z",
          "shell.execute_reply": "2025-03-04T07:09:09.820745Z"
        },
        "id": "BQiHo32dPfn_"
      },
      "outputs": [],
      "execution_count": null
    },
    {
      "cell_type": "code",
      "source": [
        "def generate_explanation(features, delay_pred, congestion_pred):\n",
        "    weather_condition = weather_conditions_map_rev.get(features[\"Weather_Conditions\"], \"Unknown\")\n",
        "    weather_event = weather_event_map_rev.get(features[\"Weather_Event\"], \"Unknown\")\n",
        "\n",
        "    prompt = f\"\"\"\n",
        "    Given the following traffic data:\n",
        "    - Weather Conditions: {weather_condition} (Event: {weather_event})\n",
        "    - Temperature: {features['Temperature(F)']}°F\n",
        "    - Wind Speed: {features['WindSpeed(mph)']} mph\n",
        "    - Wind Direction: {features['WindDir']}\n",
        "    - Visibility: {features['Visibility(mi)']} miles\n",
        "    - Precipitation: {features['Precipitation(in)']} inches\n",
        "\n",
        "    The model has predicted:\n",
        "    - Delay: {delay_pred:.2f} minutes\n",
        "    - Congestion Level: {\"Fast\" if congestion_pred == 0 else \"Moderate\" if congestion_pred == 1 else \"Slow\"}\n",
        "\n",
        "    Explain why the delay and congestion level might be as predicted. Keep the explanation concise and suitable for traffic management personnel. Suggest measures to handle the predicted situation.\n",
        "    \"\"\"\n",
        "\n",
        "    response = llm_pipeline(prompt, max_new_tokens=200, return_full_text=False)[0][\"generated_text\"]\n",
        "    return response"
      ],
      "metadata": {
        "trusted": true,
        "execution": {
          "iopub.status.busy": "2025-03-04T07:14:24.027578Z",
          "iopub.execute_input": "2025-03-04T07:14:24.02792Z",
          "iopub.status.idle": "2025-03-04T07:14:24.032847Z",
          "shell.execute_reply.started": "2025-03-04T07:14:24.027892Z",
          "shell.execute_reply": "2025-03-04T07:14:24.03188Z"
        },
        "id": "ppEbqG1iPfn_"
      },
      "outputs": [],
      "execution_count": null
    },
    {
      "cell_type": "code",
      "source": [
        "sample_idx = 18\n",
        "sample_features = df.iloc[sample_idx].to_dict()\n",
        "sample_delay_pred = y_reg_pred[sample_idx]\n",
        "sample_congestion_pred = y_cls_pred[sample_idx]"
      ],
      "metadata": {
        "trusted": true,
        "execution": {
          "iopub.status.busy": "2025-03-04T07:10:38.733248Z",
          "iopub.execute_input": "2025-03-04T07:10:38.733564Z",
          "iopub.status.idle": "2025-03-04T07:10:38.738264Z",
          "shell.execute_reply.started": "2025-03-04T07:10:38.733533Z",
          "shell.execute_reply": "2025-03-04T07:10:38.737191Z"
        },
        "id": "tr7Q35FvPfn_"
      },
      "outputs": [],
      "execution_count": null
    },
    {
      "cell_type": "code",
      "source": [
        "explanation = generate_explanation(sample_features, sample_delay_pred, sample_congestion_pred)\n",
        "print(explanation)"
      ],
      "metadata": {
        "trusted": true,
        "execution": {
          "iopub.status.busy": "2025-03-04T07:14:27.908292Z",
          "iopub.execute_input": "2025-03-04T07:14:27.908591Z",
          "iopub.status.idle": "2025-03-04T07:14:51.979575Z",
          "shell.execute_reply.started": "2025-03-04T07:14:27.908566Z",
          "shell.execute_reply": "2025-03-04T07:14:51.978792Z"
        },
        "id": "nEsPcXIDPfn_",
        "outputId": "f2fe1dae-8ff5-4f3d-d929-580ff686c977"
      },
      "outputs": [
        {
          "name": "stderr",
          "text": "Setting `pad_token_id` to `eos_token_id`:2 for open-end generation.\n",
          "output_type": "stream"
        },
        {
          "name": "stdout",
          "text": "\n    The delay and congestion level might be as predicted due to the combination of fair weather conditions, windy conditions, and low visibility. These factors can make it difficult for drivers to maintain control of their vehicles and can lead to accidents and delays. Additionally, the tornado event can cause further disruptions and delays.\n\n    To handle the predicted situation, traffic management personnel should consider implementing traffic control measures such as reducing speed limits, increasing traffic signals, and implementing traffic diversions. Additionally, they should consider providing drivers with information on the weather conditions and potential hazards to help them make informed decisions about their driving behavior.\n",
          "output_type": "stream"
        }
      ],
      "execution_count": null
    }
  ]
}