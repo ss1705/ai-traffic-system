{
 "cells": [
  {
   "cell_type": "code",
   "execution_count": 1,
   "id": "5e65e386",
   "metadata": {
    "execution": {
     "iopub.execute_input": "2025-03-04T08:31:22.570723Z",
     "iopub.status.busy": "2025-03-04T08:31:22.570356Z",
     "iopub.status.idle": "2025-03-04T08:31:23.984733Z",
     "shell.execute_reply": "2025-03-04T08:31:23.984035Z"
    },
    "papermill": {
     "duration": 1.424591,
     "end_time": "2025-03-04T08:31:23.986232",
     "exception": false,
     "start_time": "2025-03-04T08:31:22.561641",
     "status": "completed"
    },
    "tags": []
   },
   "outputs": [],
   "source": [
    "import pandas as pd\n",
    "import numpy as np"
   ]
  },
  {
   "cell_type": "code",
   "execution_count": 2,
   "id": "23e2927c",
   "metadata": {
    "execution": {
     "iopub.execute_input": "2025-03-04T08:31:24.003036Z",
     "iopub.status.busy": "2025-03-04T08:31:24.002661Z",
     "iopub.status.idle": "2025-03-04T08:31:48.043742Z",
     "shell.execute_reply": "2025-03-04T08:31:48.042982Z"
    },
    "papermill": {
     "duration": 24.050951,
     "end_time": "2025-03-04T08:31:48.045245",
     "exception": false,
     "start_time": "2025-03-04T08:31:23.994294",
     "status": "completed"
    },
    "tags": []
   },
   "outputs": [],
   "source": [
    "df = pd.read_csv('/kaggle/input/congestion-data/us_congestion_2016_2022_sample_2m.csv')"
   ]
  },
  {
   "cell_type": "code",
   "execution_count": 3,
   "id": "b814feb6",
   "metadata": {
    "execution": {
     "iopub.execute_input": "2025-03-04T08:31:48.060325Z",
     "iopub.status.busy": "2025-03-04T08:31:48.060062Z",
     "iopub.status.idle": "2025-03-04T08:31:51.053896Z",
     "shell.execute_reply": "2025-03-04T08:31:51.053162Z"
    },
    "papermill": {
     "duration": 3.002848,
     "end_time": "2025-03-04T08:31:51.055393",
     "exception": false,
     "start_time": "2025-03-04T08:31:48.052545",
     "status": "completed"
    },
    "tags": []
   },
   "outputs": [],
   "source": [
    "import xgboost as xgb\n",
    "from sklearn.model_selection import train_test_split\n",
    "from sklearn.preprocessing import LabelEncoder\n",
    "from sklearn.metrics import mean_absolute_error, accuracy_score"
   ]
  },
  {
   "cell_type": "code",
   "execution_count": 4,
   "id": "5d8df135",
   "metadata": {
    "execution": {
     "iopub.execute_input": "2025-03-04T08:31:51.070508Z",
     "iopub.status.busy": "2025-03-04T08:31:51.070120Z",
     "iopub.status.idle": "2025-03-04T08:31:51.488464Z",
     "shell.execute_reply": "2025-03-04T08:31:51.487753Z"
    },
    "papermill": {
     "duration": 0.427326,
     "end_time": "2025-03-04T08:31:51.489981",
     "exception": false,
     "start_time": "2025-03-04T08:31:51.062655",
     "status": "completed"
    },
    "tags": []
   },
   "outputs": [],
   "source": [
    "df = df.drop([\"Description\", \"Street\", \"City\", \"County\", \"State\", \"Country\", \"ZipCode\", \"LocalTimeZone\",\n",
    "               \"WeatherStation_AirportCode\", \"WeatherTimeStamp\",\"ID\"], axis=1, errors=\"ignore\")"
   ]
  },
  {
   "cell_type": "code",
   "execution_count": 5,
   "id": "45508edb",
   "metadata": {
    "execution": {
     "iopub.execute_input": "2025-03-04T08:31:51.504640Z",
     "iopub.status.busy": "2025-03-04T08:31:51.504384Z",
     "iopub.status.idle": "2025-03-04T08:32:06.915521Z",
     "shell.execute_reply": "2025-03-04T08:32:06.914759Z"
    },
    "papermill": {
     "duration": 15.420107,
     "end_time": "2025-03-04T08:32:06.917134",
     "exception": false,
     "start_time": "2025-03-04T08:31:51.497027",
     "status": "completed"
    },
    "tags": []
   },
   "outputs": [],
   "source": [
    "df_original = pd.read_csv('/kaggle/input/congestion-data/us_congestion_2016_2022_sample_2m.csv')"
   ]
  },
  {
   "cell_type": "code",
   "execution_count": 6,
   "id": "65be7ca8",
   "metadata": {
    "execution": {
     "iopub.execute_input": "2025-03-04T08:32:06.932885Z",
     "iopub.status.busy": "2025-03-04T08:32:06.932635Z",
     "iopub.status.idle": "2025-03-04T08:32:06.935841Z",
     "shell.execute_reply": "2025-03-04T08:32:06.935175Z"
    },
    "papermill": {
     "duration": 0.012202,
     "end_time": "2025-03-04T08:32:06.937028",
     "exception": false,
     "start_time": "2025-03-04T08:32:06.924826",
     "status": "completed"
    },
    "tags": []
   },
   "outputs": [],
   "source": [
    "encoding_maps = {}"
   ]
  },
  {
   "cell_type": "code",
   "execution_count": 7,
   "id": "f66a508f",
   "metadata": {
    "execution": {
     "iopub.execute_input": "2025-03-04T08:32:06.951774Z",
     "iopub.status.busy": "2025-03-04T08:32:06.951538Z",
     "iopub.status.idle": "2025-03-04T08:32:07.737580Z",
     "shell.execute_reply": "2025-03-04T08:32:07.736951Z"
    },
    "papermill": {
     "duration": 0.794933,
     "end_time": "2025-03-04T08:32:07.739081",
     "exception": false,
     "start_time": "2025-03-04T08:32:06.944148",
     "status": "completed"
    },
    "tags": []
   },
   "outputs": [],
   "source": [
    "categorical_cols = [\"Weather_Event\", \"Weather_Conditions\", \"WindDir\",\"Congestion_Speed\"]\n",
    "for col in categorical_cols:\n",
    "    encoder = LabelEncoder()\n",
    "    encoder.fit(df_original[col].astype(str))  # Fit on the original unencoded data\n",
    "    encoding_maps[col] = dict(zip(encoder.classes_, encoder.transform(encoder.classes_)))  # Store mapping"
   ]
  },
  {
   "cell_type": "code",
   "execution_count": 8,
   "id": "f284e484",
   "metadata": {
    "execution": {
     "iopub.execute_input": "2025-03-04T08:32:07.755080Z",
     "iopub.status.busy": "2025-03-04T08:32:07.754845Z",
     "iopub.status.idle": "2025-03-04T08:32:09.587118Z",
     "shell.execute_reply": "2025-03-04T08:32:09.586445Z"
    },
    "papermill": {
     "duration": 1.841112,
     "end_time": "2025-03-04T08:32:09.588568",
     "exception": false,
     "start_time": "2025-03-04T08:32:07.747456",
     "status": "completed"
    },
    "tags": []
   },
   "outputs": [],
   "source": [
    "categorical_cols = [\"Weather_Event\", \"Weather_Conditions\", \"WindDir\",\"Congestion_Speed\"]\n",
    "for col in categorical_cols:\n",
    "    df[col] = LabelEncoder().fit_transform(df[col].astype(str))"
   ]
  },
  {
   "cell_type": "code",
   "execution_count": 9,
   "id": "792f5b21",
   "metadata": {
    "execution": {
     "iopub.execute_input": "2025-03-04T08:32:09.603235Z",
     "iopub.status.busy": "2025-03-04T08:32:09.602992Z",
     "iopub.status.idle": "2025-03-04T08:32:09.607381Z",
     "shell.execute_reply": "2025-03-04T08:32:09.606700Z"
    },
    "papermill": {
     "duration": 0.012719,
     "end_time": "2025-03-04T08:32:09.608508",
     "exception": false,
     "start_time": "2025-03-04T08:32:09.595789",
     "status": "completed"
    },
    "tags": []
   },
   "outputs": [
    {
     "name": "stdout",
     "output_type": "stream",
     "text": [
      "{'Blowing Dust': 0, 'Blowing Dust / Windy': 1, 'Blowing Sand': 2, 'Blowing Snow': 3, 'Blowing Snow / Windy': 4, 'Blowing Snow Nearby': 5, 'Blowing Snow Nearby / Windy': 6, 'Clear': 7, 'Cloudy': 8, 'Cloudy / Windy': 9, 'Drifting Snow': 10, 'Drizzle': 11, 'Drizzle / Windy': 12, 'Drizzle and Fog': 13, 'Fair': 14, 'Fair / Windy': 15, 'Fog': 16, 'Fog / Windy': 17, 'Freezing Drizzle': 18, 'Freezing Rain': 19, 'Freezing Rain / Windy': 20, 'Funnel Cloud': 21, 'Hail': 22, 'Haze': 23, 'Haze / Windy': 24, 'Heavy Blowing Snow': 25, 'Heavy Drizzle': 26, 'Heavy Freezing Drizzle': 27, 'Heavy Freezing Rain': 28, 'Heavy Ice Pellets': 29, 'Heavy Rain': 30, 'Heavy Rain / Windy': 31, 'Heavy Rain Shower': 32, 'Heavy Rain Showers': 33, 'Heavy Sleet': 34, 'Heavy Sleet / Windy': 35, 'Heavy Sleet and Thunder': 36, 'Heavy Snow': 37, 'Heavy Snow / Windy': 38, 'Heavy Snow Showers': 39, 'Heavy Snow with Thunder': 40, 'Heavy T-Storm': 41, 'Heavy T-Storm / Windy': 42, 'Heavy Thunderstorm': 43, 'Heavy Thunderstorms and Rain': 44, 'Heavy Thunderstorms and Snow': 45, 'Heavy Thunderstorms with Hail': 46, 'Heavy Thunderstorms with Ice Pellets': 47, 'Ice Crystals': 48, 'Ice Pellets': 49, 'Light Blowing Snow': 50, 'Light Drizzle': 51, 'Light Drizzle / Windy': 52, 'Light Freezing Drizzle': 53, 'Light Freezing Fog': 54, 'Light Freezing Rain': 55, 'Light Freezing Rain / Windy': 56, 'Light Ice Pellet Showers': 57, 'Light Ice Pellets': 58, 'Light Rain': 59, 'Light Rain / Windy': 60, 'Light Rain Shower': 61, 'Light Rain Shower / Windy': 62, 'Light Rain Showers': 63, 'Light Rain with Thunder': 64, 'Light Sleet': 65, 'Light Sleet / Windy': 66, 'Light Sleet and Thunder': 67, 'Light Snow': 68, 'Light Snow / Windy': 69, 'Light Snow Grains': 70, 'Light Snow Grains / Windy': 71, 'Light Snow Shower': 72, 'Light Snow Shower / Windy': 73, 'Light Snow Showers': 74, 'Light Snow and Sleet': 75, 'Light Snow and Sleet / Windy': 76, 'Light Snow with Thunder': 77, 'Light Thunderstorm': 78, 'Light Thunderstorms and Ice Pellets': 79, 'Light Thunderstorms and Rain': 80, 'Light Thunderstorms and Snow': 81, 'Low Drifting Snow': 82, 'Mist': 83, 'Mist / Windy': 84, 'Mostly Cloudy': 85, 'Mostly Cloudy / Windy': 86, 'N/A Precipitation': 87, 'Overcast': 88, 'Partial Fog': 89, 'Partly Cloudy': 90, 'Partly Cloudy / Windy': 91, 'Patches of Fog': 92, 'Rain': 93, 'Rain / Windy': 94, 'Rain Shower': 95, 'Rain Shower / Windy': 96, 'Rain Showers': 97, 'Sand': 98, 'Sand / Dust Whirls Nearby': 99, 'Sand / Dust Whirlwinds': 100, 'Sandstorm': 101, 'Scattered Clouds': 102, 'Shallow Fog': 103, 'Showers in the Vicinity': 104, 'Sleet': 105, 'Sleet / Windy': 106, 'Sleet and Thunder': 107, 'Small Hail': 108, 'Smoke': 109, 'Smoke / Windy': 110, 'Snow': 111, 'Snow / Windy': 112, 'Snow Showers': 113, 'Snow and Sleet': 114, 'Snow and Sleet / Windy': 115, 'Snow and Thunder': 116, 'Snow and Thunder / Windy': 117, 'Squalls': 118, 'Squalls / Windy': 119, 'T-Storm': 120, 'T-Storm / Windy': 121, 'Thunder': 122, 'Thunder / Windy': 123, 'Thunder / Wintry Mix': 124, 'Thunder and Hail': 125, 'Thunder and Hail / Windy': 126, 'Thunder and Small Hail': 127, 'Thunder in the Vicinity': 128, 'Thunderstorm': 129, 'Thunderstorms and Ice Pellets': 130, 'Thunderstorms and Rain': 131, 'Thunderstorms and Snow': 132, 'Volcanic Ash': 133, 'Widespread Dust': 134, 'Widespread Dust / Windy': 135, 'Wintry Mix': 136, 'Wintry Mix / Windy': 137, 'nan': 138}\n"
     ]
    }
   ],
   "source": [
    "weather_conditions_map = encoding_maps[\"Weather_Conditions\"]\n",
    "print(weather_conditions_map)"
   ]
  },
  {
   "cell_type": "code",
   "execution_count": 10,
   "id": "19e63a47",
   "metadata": {
    "execution": {
     "iopub.execute_input": "2025-03-04T08:32:09.624276Z",
     "iopub.status.busy": "2025-03-04T08:32:09.624069Z",
     "iopub.status.idle": "2025-03-04T08:32:09.628163Z",
     "shell.execute_reply": "2025-03-04T08:32:09.627422Z"
    },
    "papermill": {
     "duration": 0.012601,
     "end_time": "2025-03-04T08:32:09.629341",
     "exception": false,
     "start_time": "2025-03-04T08:32:09.616740",
     "status": "completed"
    },
    "tags": []
   },
   "outputs": [
    {
     "name": "stdout",
     "output_type": "stream",
     "text": [
      "{'Fog': 0, 'Fog ;Rain': 1, 'Fog ;Rain ;Hail ;Thunderstorm': 2, 'Fog ;Rain ;Snow': 3, 'Fog ;Rain ;Snow ;Thunderstorm': 4, 'Fog ;Rain ;Thunderstorm': 5, 'Fog ;Rain ;Thunderstorm ;Tornado': 6, 'Fog ;Snow': 7, 'Fog ;Snow ;Thunderstorm': 8, 'Fog ;Thunderstorm': 9, 'Hail': 10, 'Hail ;Thunderstorm': 11, 'Rain': 12, 'Rain ;Hail ;Thunderstorm': 13, 'Rain ;Snow': 14, 'Rain ;Snow ;Thunderstorm': 15, 'Rain ;Thunderstorm': 16, 'Rain ;Thunderstorm ;Tornado': 17, 'Snow': 18, 'Snow ;Hail': 19, 'Snow ;Thunderstorm': 20, 'Thunderstorm': 21, 'Thunderstorm ;Tornado': 22, 'Tornado': 23, 'nan': 24}\n"
     ]
    }
   ],
   "source": [
    "weather_event_map = encoding_maps[\"Weather_Event\"]\n",
    "print(weather_event_map)"
   ]
  },
  {
   "cell_type": "code",
   "execution_count": 11,
   "id": "690a5646",
   "metadata": {
    "execution": {
     "iopub.execute_input": "2025-03-04T08:32:09.644094Z",
     "iopub.status.busy": "2025-03-04T08:32:09.643890Z",
     "iopub.status.idle": "2025-03-04T08:32:32.070310Z",
     "shell.execute_reply": "2025-03-04T08:32:32.069314Z"
    },
    "papermill": {
     "duration": 22.435673,
     "end_time": "2025-03-04T08:32:32.072079",
     "exception": false,
     "start_time": "2025-03-04T08:32:09.636406",
     "status": "completed"
    },
    "tags": []
   },
   "outputs": [],
   "source": [
    "df[\"StartTime\"] = pd.to_datetime(df[\"StartTime\"], utc=True, errors=\"coerce\")\n",
    "df[\"EndTime\"] = pd.to_datetime(df[\"EndTime\"], utc=True, errors=\"coerce\")"
   ]
  },
  {
   "cell_type": "code",
   "execution_count": 12,
   "id": "b03bb9b7",
   "metadata": {
    "execution": {
     "iopub.execute_input": "2025-03-04T08:32:32.087550Z",
     "iopub.status.busy": "2025-03-04T08:32:32.087237Z",
     "iopub.status.idle": "2025-03-04T08:32:32.215160Z",
     "shell.execute_reply": "2025-03-04T08:32:32.214457Z"
    },
    "papermill": {
     "duration": 0.137136,
     "end_time": "2025-03-04T08:32:32.216779",
     "exception": false,
     "start_time": "2025-03-04T08:32:32.079643",
     "status": "completed"
    },
    "tags": []
   },
   "outputs": [],
   "source": [
    "df = df.dropna(subset=[\"StartTime\", \"EndTime\"])"
   ]
  },
  {
   "cell_type": "code",
   "execution_count": 13,
   "id": "dda70371",
   "metadata": {
    "execution": {
     "iopub.execute_input": "2025-03-04T08:32:32.232493Z",
     "iopub.status.busy": "2025-03-04T08:32:32.232191Z",
     "iopub.status.idle": "2025-03-04T08:32:32.298126Z",
     "shell.execute_reply": "2025-03-04T08:32:32.297405Z"
    },
    "papermill": {
     "duration": 0.07521,
     "end_time": "2025-03-04T08:32:32.299733",
     "exception": false,
     "start_time": "2025-03-04T08:32:32.224523",
     "status": "completed"
    },
    "tags": []
   },
   "outputs": [],
   "source": [
    "df[\"StartTime\"] = (df[\"StartTime\"] - df[\"StartTime\"].min()).dt.total_seconds()\n",
    "df[\"EndTime\"] = (df[\"EndTime\"] - df[\"EndTime\"].min()).dt.total_seconds()"
   ]
  },
  {
   "cell_type": "code",
   "execution_count": 14,
   "id": "31a78e8c",
   "metadata": {
    "execution": {
     "iopub.execute_input": "2025-03-04T08:32:32.315907Z",
     "iopub.status.busy": "2025-03-04T08:32:32.315660Z",
     "iopub.status.idle": "2025-03-04T08:32:32.382972Z",
     "shell.execute_reply": "2025-03-04T08:32:32.382308Z"
    },
    "papermill": {
     "duration": 0.076608,
     "end_time": "2025-03-04T08:32:32.384350",
     "exception": false,
     "start_time": "2025-03-04T08:32:32.307742",
     "status": "completed"
    },
    "tags": []
   },
   "outputs": [],
   "source": [
    "X = df.drop([\"DelayFromTypicalTraffic(mins)\", \"Congestion_Speed\"], axis=1)\n",
    "y_regression = df[\"DelayFromTypicalTraffic(mins)\"]  # Regression target\n",
    "y_classification = df[\"Congestion_Speed\"]  # Binary Classification (0 = Fast, 1 = Moderate, 2 = Slow)"
   ]
  },
  {
   "cell_type": "code",
   "execution_count": 15,
   "id": "bbbc195d",
   "metadata": {
    "execution": {
     "iopub.execute_input": "2025-03-04T08:32:32.399165Z",
     "iopub.status.busy": "2025-03-04T08:32:32.398913Z",
     "iopub.status.idle": "2025-03-04T08:32:32.961512Z",
     "shell.execute_reply": "2025-03-04T08:32:32.960455Z"
    },
    "papermill": {
     "duration": 0.571558,
     "end_time": "2025-03-04T08:32:32.963228",
     "exception": false,
     "start_time": "2025-03-04T08:32:32.391670",
     "status": "completed"
    },
    "tags": []
   },
   "outputs": [],
   "source": [
    "X_train, X_test, y_reg_train, y_reg_test, y_cls_train, y_cls_test = train_test_split(\n",
    "    X, y_regression, y_classification, test_size=0.2, random_state=42\n",
    ")"
   ]
  },
  {
   "cell_type": "code",
   "execution_count": 16,
   "id": "6c04ccf2",
   "metadata": {
    "execution": {
     "iopub.execute_input": "2025-03-04T08:32:32.978144Z",
     "iopub.status.busy": "2025-03-04T08:32:32.977871Z",
     "iopub.status.idle": "2025-03-04T08:32:32.981505Z",
     "shell.execute_reply": "2025-03-04T08:32:32.980723Z"
    },
    "papermill": {
     "duration": 0.012131,
     "end_time": "2025-03-04T08:32:32.982756",
     "exception": false,
     "start_time": "2025-03-04T08:32:32.970625",
     "status": "completed"
    },
    "tags": []
   },
   "outputs": [],
   "source": [
    "model = xgb.XGBRegressor(objective=\"reg:squarederror\", enable_categorical=True)\n",
    "clf = xgb.XGBClassifier(objective=\"binary:logistic\", enable_categorical=True)"
   ]
  },
  {
   "cell_type": "code",
   "execution_count": 17,
   "id": "e9f8228e",
   "metadata": {
    "execution": {
     "iopub.execute_input": "2025-03-04T08:32:32.996967Z",
     "iopub.status.busy": "2025-03-04T08:32:32.996721Z",
     "iopub.status.idle": "2025-03-04T08:33:21.221734Z",
     "shell.execute_reply": "2025-03-04T08:33:21.220749Z"
    },
    "papermill": {
     "duration": 48.240455,
     "end_time": "2025-03-04T08:33:21.229965",
     "exception": false,
     "start_time": "2025-03-04T08:32:32.989510",
     "status": "completed"
    },
    "tags": []
   },
   "outputs": [
    {
     "data": {
      "text/html": [
       "<style>#sk-container-id-1 {color: black;background-color: white;}#sk-container-id-1 pre{padding: 0;}#sk-container-id-1 div.sk-toggleable {background-color: white;}#sk-container-id-1 label.sk-toggleable__label {cursor: pointer;display: block;width: 100%;margin-bottom: 0;padding: 0.3em;box-sizing: border-box;text-align: center;}#sk-container-id-1 label.sk-toggleable__label-arrow:before {content: \"▸\";float: left;margin-right: 0.25em;color: #696969;}#sk-container-id-1 label.sk-toggleable__label-arrow:hover:before {color: black;}#sk-container-id-1 div.sk-estimator:hover label.sk-toggleable__label-arrow:before {color: black;}#sk-container-id-1 div.sk-toggleable__content {max-height: 0;max-width: 0;overflow: hidden;text-align: left;background-color: #f0f8ff;}#sk-container-id-1 div.sk-toggleable__content pre {margin: 0.2em;color: black;border-radius: 0.25em;background-color: #f0f8ff;}#sk-container-id-1 input.sk-toggleable__control:checked~div.sk-toggleable__content {max-height: 200px;max-width: 100%;overflow: auto;}#sk-container-id-1 input.sk-toggleable__control:checked~label.sk-toggleable__label-arrow:before {content: \"▾\";}#sk-container-id-1 div.sk-estimator input.sk-toggleable__control:checked~label.sk-toggleable__label {background-color: #d4ebff;}#sk-container-id-1 div.sk-label input.sk-toggleable__control:checked~label.sk-toggleable__label {background-color: #d4ebff;}#sk-container-id-1 input.sk-hidden--visually {border: 0;clip: rect(1px 1px 1px 1px);clip: rect(1px, 1px, 1px, 1px);height: 1px;margin: -1px;overflow: hidden;padding: 0;position: absolute;width: 1px;}#sk-container-id-1 div.sk-estimator {font-family: monospace;background-color: #f0f8ff;border: 1px dotted black;border-radius: 0.25em;box-sizing: border-box;margin-bottom: 0.5em;}#sk-container-id-1 div.sk-estimator:hover {background-color: #d4ebff;}#sk-container-id-1 div.sk-parallel-item::after {content: \"\";width: 100%;border-bottom: 1px solid gray;flex-grow: 1;}#sk-container-id-1 div.sk-label:hover label.sk-toggleable__label {background-color: #d4ebff;}#sk-container-id-1 div.sk-serial::before {content: \"\";position: absolute;border-left: 1px solid gray;box-sizing: border-box;top: 0;bottom: 0;left: 50%;z-index: 0;}#sk-container-id-1 div.sk-serial {display: flex;flex-direction: column;align-items: center;background-color: white;padding-right: 0.2em;padding-left: 0.2em;position: relative;}#sk-container-id-1 div.sk-item {position: relative;z-index: 1;}#sk-container-id-1 div.sk-parallel {display: flex;align-items: stretch;justify-content: center;background-color: white;position: relative;}#sk-container-id-1 div.sk-item::before, #sk-container-id-1 div.sk-parallel-item::before {content: \"\";position: absolute;border-left: 1px solid gray;box-sizing: border-box;top: 0;bottom: 0;left: 50%;z-index: -1;}#sk-container-id-1 div.sk-parallel-item {display: flex;flex-direction: column;z-index: 1;position: relative;background-color: white;}#sk-container-id-1 div.sk-parallel-item:first-child::after {align-self: flex-end;width: 50%;}#sk-container-id-1 div.sk-parallel-item:last-child::after {align-self: flex-start;width: 50%;}#sk-container-id-1 div.sk-parallel-item:only-child::after {width: 0;}#sk-container-id-1 div.sk-dashed-wrapped {border: 1px dashed gray;margin: 0 0.4em 0.5em 0.4em;box-sizing: border-box;padding-bottom: 0.4em;background-color: white;}#sk-container-id-1 div.sk-label label {font-family: monospace;font-weight: bold;display: inline-block;line-height: 1.2em;}#sk-container-id-1 div.sk-label-container {text-align: center;}#sk-container-id-1 div.sk-container {/* jupyter's `normalize.less` sets `[hidden] { display: none; }` but bootstrap.min.css set `[hidden] { display: none !important; }` so we also need the `!important` here to be able to override the default hidden behavior on the sphinx rendered scikit-learn.org. See: https://github.com/scikit-learn/scikit-learn/issues/21755 */display: inline-block !important;position: relative;}#sk-container-id-1 div.sk-text-repr-fallback {display: none;}</style><div id=\"sk-container-id-1\" class=\"sk-top-container\"><div class=\"sk-text-repr-fallback\"><pre>XGBClassifier(base_score=None, booster=None, callbacks=None,\n",
       "              colsample_bylevel=None, colsample_bynode=None,\n",
       "              colsample_bytree=None, device=None, early_stopping_rounds=None,\n",
       "              enable_categorical=True, eval_metric=None, feature_types=None,\n",
       "              gamma=None, grow_policy=None, importance_type=None,\n",
       "              interaction_constraints=None, learning_rate=None, max_bin=None,\n",
       "              max_cat_threshold=None, max_cat_to_onehot=None,\n",
       "              max_delta_step=None, max_depth=None, max_leaves=None,\n",
       "              min_child_weight=None, missing=nan, monotone_constraints=None,\n",
       "              multi_strategy=None, n_estimators=None, n_jobs=None,\n",
       "              num_parallel_tree=None, objective=&#x27;multi:softprob&#x27;, ...)</pre><b>In a Jupyter environment, please rerun this cell to show the HTML representation or trust the notebook. <br />On GitHub, the HTML representation is unable to render, please try loading this page with nbviewer.org.</b></div><div class=\"sk-container\" hidden><div class=\"sk-item\"><div class=\"sk-estimator sk-toggleable\"><input class=\"sk-toggleable__control sk-hidden--visually\" id=\"sk-estimator-id-1\" type=\"checkbox\" checked><label for=\"sk-estimator-id-1\" class=\"sk-toggleable__label sk-toggleable__label-arrow\">XGBClassifier</label><div class=\"sk-toggleable__content\"><pre>XGBClassifier(base_score=None, booster=None, callbacks=None,\n",
       "              colsample_bylevel=None, colsample_bynode=None,\n",
       "              colsample_bytree=None, device=None, early_stopping_rounds=None,\n",
       "              enable_categorical=True, eval_metric=None, feature_types=None,\n",
       "              gamma=None, grow_policy=None, importance_type=None,\n",
       "              interaction_constraints=None, learning_rate=None, max_bin=None,\n",
       "              max_cat_threshold=None, max_cat_to_onehot=None,\n",
       "              max_delta_step=None, max_depth=None, max_leaves=None,\n",
       "              min_child_weight=None, missing=nan, monotone_constraints=None,\n",
       "              multi_strategy=None, n_estimators=None, n_jobs=None,\n",
       "              num_parallel_tree=None, objective=&#x27;multi:softprob&#x27;, ...)</pre></div></div></div></div></div>"
      ],
      "text/plain": [
       "XGBClassifier(base_score=None, booster=None, callbacks=None,\n",
       "              colsample_bylevel=None, colsample_bynode=None,\n",
       "              colsample_bytree=None, device=None, early_stopping_rounds=None,\n",
       "              enable_categorical=True, eval_metric=None, feature_types=None,\n",
       "              gamma=None, grow_policy=None, importance_type=None,\n",
       "              interaction_constraints=None, learning_rate=None, max_bin=None,\n",
       "              max_cat_threshold=None, max_cat_to_onehot=None,\n",
       "              max_delta_step=None, max_depth=None, max_leaves=None,\n",
       "              min_child_weight=None, missing=nan, monotone_constraints=None,\n",
       "              multi_strategy=None, n_estimators=None, n_jobs=None,\n",
       "              num_parallel_tree=None, objective='multi:softprob', ...)"
      ]
     },
     "execution_count": 17,
     "metadata": {},
     "output_type": "execute_result"
    }
   ],
   "source": [
    "model.fit(X_train, y_reg_train)\n",
    "clf.fit(X_train, y_cls_train)"
   ]
  },
  {
   "cell_type": "code",
   "execution_count": 18,
   "id": "bbdbb042",
   "metadata": {
    "execution": {
     "iopub.execute_input": "2025-03-04T08:33:21.246097Z",
     "iopub.status.busy": "2025-03-04T08:33:21.245835Z",
     "iopub.status.idle": "2025-03-04T08:33:22.817224Z",
     "shell.execute_reply": "2025-03-04T08:33:22.816447Z"
    },
    "papermill": {
     "duration": 1.581443,
     "end_time": "2025-03-04T08:33:22.819134",
     "exception": false,
     "start_time": "2025-03-04T08:33:21.237691",
     "status": "completed"
    },
    "tags": []
   },
   "outputs": [],
   "source": [
    "y_reg_pred = model.predict(X_test)\n",
    "y_cls_pred = clf.predict(X_test)"
   ]
  },
  {
   "cell_type": "code",
   "execution_count": 19,
   "id": "3f20ecb2",
   "metadata": {
    "execution": {
     "iopub.execute_input": "2025-03-04T08:33:22.835093Z",
     "iopub.status.busy": "2025-03-04T08:33:22.834865Z",
     "iopub.status.idle": "2025-03-04T08:33:22.891128Z",
     "shell.execute_reply": "2025-03-04T08:33:22.890256Z"
    },
    "papermill": {
     "duration": 0.065673,
     "end_time": "2025-03-04T08:33:22.892561",
     "exception": false,
     "start_time": "2025-03-04T08:33:22.826888",
     "status": "completed"
    },
    "tags": []
   },
   "outputs": [
    {
     "name": "stdout",
     "output_type": "stream",
     "text": [
      "Mean Absolute Error (MAE) for Delay Prediction: 0.7487718644020829\n",
      "Accuracy for Congestion Prediction: 0.7246844628612037\n"
     ]
    }
   ],
   "source": [
    "mae = mean_absolute_error(y_reg_test, y_reg_pred)\n",
    "accuracy = accuracy_score(y_cls_test, y_cls_pred)\n",
    "\n",
    "print(f\"Mean Absolute Error (MAE) for Delay Prediction: {mae}\")\n",
    "print(f\"Accuracy for Congestion Prediction: {accuracy}\")"
   ]
  },
  {
   "cell_type": "code",
   "execution_count": 20,
   "id": "77400a88",
   "metadata": {
    "execution": {
     "iopub.execute_input": "2025-03-04T08:33:22.908707Z",
     "iopub.status.busy": "2025-03-04T08:33:22.908447Z",
     "iopub.status.idle": "2025-03-04T08:33:23.044047Z",
     "shell.execute_reply": "2025-03-04T08:33:23.042862Z"
    },
    "papermill": {
     "duration": 0.14536,
     "end_time": "2025-03-04T08:33:23.045564",
     "exception": false,
     "start_time": "2025-03-04T08:33:22.900204",
     "status": "completed"
    },
    "tags": []
   },
   "outputs": [
    {
     "name": "stdout",
     "output_type": "stream",
     "text": [
      "              precision    recall  f1-score   support\n",
      "\n",
      "           0       0.80      0.74      0.77    143084\n",
      "           1       0.67      0.74      0.70    159343\n",
      "           2       0.71      0.68      0.70     97209\n",
      "\n",
      "    accuracy                           0.72    399636\n",
      "   macro avg       0.73      0.72      0.72    399636\n",
      "weighted avg       0.73      0.72      0.73    399636\n",
      "\n"
     ]
    }
   ],
   "source": [
    "from sklearn.metrics import classification_report\n",
    "print(classification_report(y_cls_test, y_cls_pred))"
   ]
  },
  {
   "cell_type": "code",
   "execution_count": 21,
   "id": "58055e3e",
   "metadata": {
    "execution": {
     "iopub.execute_input": "2025-03-04T08:33:23.061960Z",
     "iopub.status.busy": "2025-03-04T08:33:23.061703Z",
     "iopub.status.idle": "2025-03-04T08:33:23.068840Z",
     "shell.execute_reply": "2025-03-04T08:33:23.068015Z"
    },
    "papermill": {
     "duration": 0.016497,
     "end_time": "2025-03-04T08:33:23.070132",
     "exception": false,
     "start_time": "2025-03-04T08:33:23.053635",
     "status": "completed"
    },
    "tags": []
   },
   "outputs": [
    {
     "name": "stdout",
     "output_type": "stream",
     "text": [
      "Severity: 0.0288\n",
      "Start_Lat: 0.0275\n",
      "Start_Lng: 0.0342\n",
      "StartTime: 0.0393\n",
      "EndTime: 0.0543\n",
      "Distance(mi): 0.0496\n",
      "DelayFromFreeFlowSpeed(mins): 0.5441\n",
      "Temperature(F): 0.0516\n",
      "WindChill(F): 0.0228\n",
      "Humidity(%): 0.0216\n",
      "Pressure(in): 0.0230\n",
      "Visibility(mi): 0.0209\n",
      "WindDir: 0.0156\n",
      "WindSpeed(mph): 0.0116\n",
      "Precipitation(in): 0.0163\n",
      "Weather_Event: 0.0257\n",
      "Weather_Conditions: 0.0131\n"
     ]
    }
   ],
   "source": [
    "importance = model.feature_importances_\n",
    "for feature, score in zip(X_train.columns, importance):\n",
    "    print(f\"{feature}: {score:.4f}\")"
   ]
  },
  {
   "cell_type": "code",
   "execution_count": 22,
   "id": "0351e460",
   "metadata": {
    "execution": {
     "iopub.execute_input": "2025-03-04T08:33:23.086524Z",
     "iopub.status.busy": "2025-03-04T08:33:23.086271Z",
     "iopub.status.idle": "2025-03-04T08:33:23.588833Z",
     "shell.execute_reply": "2025-03-04T08:33:23.587864Z"
    },
    "papermill": {
     "duration": 0.512447,
     "end_time": "2025-03-04T08:33:23.590448",
     "exception": false,
     "start_time": "2025-03-04T08:33:23.078001",
     "status": "completed"
    },
    "tags": []
   },
   "outputs": [],
   "source": [
    "import optuna"
   ]
  },
  {
   "cell_type": "code",
   "execution_count": 23,
   "id": "6c0f1ac3",
   "metadata": {
    "execution": {
     "iopub.execute_input": "2025-03-04T08:33:23.606089Z",
     "iopub.status.busy": "2025-03-04T08:33:23.605809Z",
     "iopub.status.idle": "2025-03-04T08:33:23.610873Z",
     "shell.execute_reply": "2025-03-04T08:33:23.610060Z"
    },
    "papermill": {
     "duration": 0.013962,
     "end_time": "2025-03-04T08:33:23.612045",
     "exception": false,
     "start_time": "2025-03-04T08:33:23.598083",
     "status": "completed"
    },
    "tags": []
   },
   "outputs": [],
   "source": [
    "def objective(trial):\n",
    "    params = {\n",
    "        \"objective\": \"reg:squarederror\",  # Regression for DelayFromTypicalTraffic\n",
    "        \"n_estimators\": trial.suggest_int(\"n_estimators\", 100, 1000, step=100),\n",
    "        \"max_depth\": trial.suggest_int(\"max_depth\", 3, 12),\n",
    "        \"learning_rate\": trial.suggest_float(\"learning_rate\", 0.01, 0.3, log=True),\n",
    "        \"subsample\": trial.suggest_float(\"subsample\", 0.5, 1.0),\n",
    "        \"colsample_bytree\": trial.suggest_float(\"colsample_bytree\", 0.5, 1.0),\n",
    "        \"reg_alpha\": trial.suggest_float(\"reg_alpha\", 0.0, 1.0),\n",
    "        \"reg_lambda\": trial.suggest_float(\"reg_lambda\", 0.0, 1.0),\n",
    "        \"min_child_weight\": trial.suggest_int(\"min_child_weight\", 1, 10),\n",
    "    }\n",
    "\n",
    "    model = xgb.XGBRegressor(**params)\n",
    "    model.fit(X_train, y_reg_train)\n",
    "\n",
    "    y_pred = model.predict(X_test)\n",
    "    mae = mean_absolute_error(y_reg_test, y_pred)\n",
    "\n",
    "    return mae"
   ]
  },
  {
   "cell_type": "code",
   "execution_count": 24,
   "id": "2f301e6f",
   "metadata": {
    "execution": {
     "iopub.execute_input": "2025-03-04T08:33:23.627432Z",
     "iopub.status.busy": "2025-03-04T08:33:23.627161Z",
     "iopub.status.idle": "2025-03-04T08:33:23.630134Z",
     "shell.execute_reply": "2025-03-04T08:33:23.629309Z"
    },
    "papermill": {
     "duration": 0.012059,
     "end_time": "2025-03-04T08:33:23.631300",
     "exception": false,
     "start_time": "2025-03-04T08:33:23.619241",
     "status": "completed"
    },
    "tags": []
   },
   "outputs": [],
   "source": [
    "# study = optuna.create_study(direction=\"minimize\")\n",
    "# study.optimize(objective, n_trials=30)"
   ]
  },
  {
   "cell_type": "code",
   "execution_count": 25,
   "id": "4d6bf9e2",
   "metadata": {
    "execution": {
     "iopub.execute_input": "2025-03-04T08:33:23.646578Z",
     "iopub.status.busy": "2025-03-04T08:33:23.646331Z",
     "iopub.status.idle": "2025-03-04T08:33:23.650666Z",
     "shell.execute_reply": "2025-03-04T08:33:23.650001Z"
    },
    "papermill": {
     "duration": 0.013144,
     "end_time": "2025-03-04T08:33:23.651764",
     "exception": false,
     "start_time": "2025-03-04T08:33:23.638620",
     "status": "completed"
    },
    "tags": []
   },
   "outputs": [
    {
     "name": "stdout",
     "output_type": "stream",
     "text": [
      "Best parameters: {'n_estimators': 900, 'max_depth': 12, 'learning_rate': 0.05343119005856983, 'subsample': 0.897285760757781, 'colsample_bytree': 0.9980782272439057, 'reg_alpha': 0.018441364690612083, 'reg_lambda': 0.19361190668945039, 'min_child_weight': 6}\n"
     ]
    }
   ],
   "source": [
    "best_params = {'n_estimators': 900, 'max_depth': 12, 'learning_rate': 0.05343119005856983, 'subsample': 0.897285760757781, 'colsample_bytree': 0.9980782272439057, 'reg_alpha': 0.018441364690612083, 'reg_lambda': 0.19361190668945039, 'min_child_weight': 6}\n",
    "print(\"Best parameters:\", best_params)"
   ]
  },
  {
   "cell_type": "code",
   "execution_count": 26,
   "id": "c2212b24",
   "metadata": {
    "execution": {
     "iopub.execute_input": "2025-03-04T08:33:23.666844Z",
     "iopub.status.busy": "2025-03-04T08:33:23.666599Z",
     "iopub.status.idle": "2025-03-04T08:36:22.683753Z",
     "shell.execute_reply": "2025-03-04T08:36:22.682778Z"
    },
    "papermill": {
     "duration": 179.034277,
     "end_time": "2025-03-04T08:36:22.693192",
     "exception": false,
     "start_time": "2025-03-04T08:33:23.658915",
     "status": "completed"
    },
    "tags": []
   },
   "outputs": [
    {
     "data": {
      "text/html": [
       "<style>#sk-container-id-2 {color: black;background-color: white;}#sk-container-id-2 pre{padding: 0;}#sk-container-id-2 div.sk-toggleable {background-color: white;}#sk-container-id-2 label.sk-toggleable__label {cursor: pointer;display: block;width: 100%;margin-bottom: 0;padding: 0.3em;box-sizing: border-box;text-align: center;}#sk-container-id-2 label.sk-toggleable__label-arrow:before {content: \"▸\";float: left;margin-right: 0.25em;color: #696969;}#sk-container-id-2 label.sk-toggleable__label-arrow:hover:before {color: black;}#sk-container-id-2 div.sk-estimator:hover label.sk-toggleable__label-arrow:before {color: black;}#sk-container-id-2 div.sk-toggleable__content {max-height: 0;max-width: 0;overflow: hidden;text-align: left;background-color: #f0f8ff;}#sk-container-id-2 div.sk-toggleable__content pre {margin: 0.2em;color: black;border-radius: 0.25em;background-color: #f0f8ff;}#sk-container-id-2 input.sk-toggleable__control:checked~div.sk-toggleable__content {max-height: 200px;max-width: 100%;overflow: auto;}#sk-container-id-2 input.sk-toggleable__control:checked~label.sk-toggleable__label-arrow:before {content: \"▾\";}#sk-container-id-2 div.sk-estimator input.sk-toggleable__control:checked~label.sk-toggleable__label {background-color: #d4ebff;}#sk-container-id-2 div.sk-label input.sk-toggleable__control:checked~label.sk-toggleable__label {background-color: #d4ebff;}#sk-container-id-2 input.sk-hidden--visually {border: 0;clip: rect(1px 1px 1px 1px);clip: rect(1px, 1px, 1px, 1px);height: 1px;margin: -1px;overflow: hidden;padding: 0;position: absolute;width: 1px;}#sk-container-id-2 div.sk-estimator {font-family: monospace;background-color: #f0f8ff;border: 1px dotted black;border-radius: 0.25em;box-sizing: border-box;margin-bottom: 0.5em;}#sk-container-id-2 div.sk-estimator:hover {background-color: #d4ebff;}#sk-container-id-2 div.sk-parallel-item::after {content: \"\";width: 100%;border-bottom: 1px solid gray;flex-grow: 1;}#sk-container-id-2 div.sk-label:hover label.sk-toggleable__label {background-color: #d4ebff;}#sk-container-id-2 div.sk-serial::before {content: \"\";position: absolute;border-left: 1px solid gray;box-sizing: border-box;top: 0;bottom: 0;left: 50%;z-index: 0;}#sk-container-id-2 div.sk-serial {display: flex;flex-direction: column;align-items: center;background-color: white;padding-right: 0.2em;padding-left: 0.2em;position: relative;}#sk-container-id-2 div.sk-item {position: relative;z-index: 1;}#sk-container-id-2 div.sk-parallel {display: flex;align-items: stretch;justify-content: center;background-color: white;position: relative;}#sk-container-id-2 div.sk-item::before, #sk-container-id-2 div.sk-parallel-item::before {content: \"\";position: absolute;border-left: 1px solid gray;box-sizing: border-box;top: 0;bottom: 0;left: 50%;z-index: -1;}#sk-container-id-2 div.sk-parallel-item {display: flex;flex-direction: column;z-index: 1;position: relative;background-color: white;}#sk-container-id-2 div.sk-parallel-item:first-child::after {align-self: flex-end;width: 50%;}#sk-container-id-2 div.sk-parallel-item:last-child::after {align-self: flex-start;width: 50%;}#sk-container-id-2 div.sk-parallel-item:only-child::after {width: 0;}#sk-container-id-2 div.sk-dashed-wrapped {border: 1px dashed gray;margin: 0 0.4em 0.5em 0.4em;box-sizing: border-box;padding-bottom: 0.4em;background-color: white;}#sk-container-id-2 div.sk-label label {font-family: monospace;font-weight: bold;display: inline-block;line-height: 1.2em;}#sk-container-id-2 div.sk-label-container {text-align: center;}#sk-container-id-2 div.sk-container {/* jupyter's `normalize.less` sets `[hidden] { display: none; }` but bootstrap.min.css set `[hidden] { display: none !important; }` so we also need the `!important` here to be able to override the default hidden behavior on the sphinx rendered scikit-learn.org. See: https://github.com/scikit-learn/scikit-learn/issues/21755 */display: inline-block !important;position: relative;}#sk-container-id-2 div.sk-text-repr-fallback {display: none;}</style><div id=\"sk-container-id-2\" class=\"sk-top-container\"><div class=\"sk-text-repr-fallback\"><pre>XGBRegressor(base_score=None, booster=None, callbacks=None,\n",
       "             colsample_bylevel=None, colsample_bynode=None,\n",
       "             colsample_bytree=0.9980782272439057, device=None,\n",
       "             early_stopping_rounds=None, enable_categorical=False,\n",
       "             eval_metric=None, feature_types=None, gamma=None, grow_policy=None,\n",
       "             importance_type=None, interaction_constraints=None,\n",
       "             learning_rate=0.05343119005856983, max_bin=None,\n",
       "             max_cat_threshold=None, max_cat_to_onehot=None,\n",
       "             max_delta_step=None, max_depth=12, max_leaves=None,\n",
       "             min_child_weight=6, missing=nan, monotone_constraints=None,\n",
       "             multi_strategy=None, n_estimators=900, n_jobs=None,\n",
       "             num_parallel_tree=None, random_state=None, ...)</pre><b>In a Jupyter environment, please rerun this cell to show the HTML representation or trust the notebook. <br />On GitHub, the HTML representation is unable to render, please try loading this page with nbviewer.org.</b></div><div class=\"sk-container\" hidden><div class=\"sk-item\"><div class=\"sk-estimator sk-toggleable\"><input class=\"sk-toggleable__control sk-hidden--visually\" id=\"sk-estimator-id-2\" type=\"checkbox\" checked><label for=\"sk-estimator-id-2\" class=\"sk-toggleable__label sk-toggleable__label-arrow\">XGBRegressor</label><div class=\"sk-toggleable__content\"><pre>XGBRegressor(base_score=None, booster=None, callbacks=None,\n",
       "             colsample_bylevel=None, colsample_bynode=None,\n",
       "             colsample_bytree=0.9980782272439057, device=None,\n",
       "             early_stopping_rounds=None, enable_categorical=False,\n",
       "             eval_metric=None, feature_types=None, gamma=None, grow_policy=None,\n",
       "             importance_type=None, interaction_constraints=None,\n",
       "             learning_rate=0.05343119005856983, max_bin=None,\n",
       "             max_cat_threshold=None, max_cat_to_onehot=None,\n",
       "             max_delta_step=None, max_depth=12, max_leaves=None,\n",
       "             min_child_weight=6, missing=nan, monotone_constraints=None,\n",
       "             multi_strategy=None, n_estimators=900, n_jobs=None,\n",
       "             num_parallel_tree=None, random_state=None, ...)</pre></div></div></div></div></div>"
      ],
      "text/plain": [
       "XGBRegressor(base_score=None, booster=None, callbacks=None,\n",
       "             colsample_bylevel=None, colsample_bynode=None,\n",
       "             colsample_bytree=0.9980782272439057, device=None,\n",
       "             early_stopping_rounds=None, enable_categorical=False,\n",
       "             eval_metric=None, feature_types=None, gamma=None, grow_policy=None,\n",
       "             importance_type=None, interaction_constraints=None,\n",
       "             learning_rate=0.05343119005856983, max_bin=None,\n",
       "             max_cat_threshold=None, max_cat_to_onehot=None,\n",
       "             max_delta_step=None, max_depth=12, max_leaves=None,\n",
       "             min_child_weight=6, missing=nan, monotone_constraints=None,\n",
       "             multi_strategy=None, n_estimators=900, n_jobs=None,\n",
       "             num_parallel_tree=None, random_state=None, ...)"
      ]
     },
     "execution_count": 26,
     "metadata": {},
     "output_type": "execute_result"
    }
   ],
   "source": [
    "best_model = xgb.XGBRegressor(**best_params)\n",
    "best_model.fit(X_train, y_reg_train)"
   ]
  },
  {
   "cell_type": "code",
   "execution_count": 27,
   "id": "ec03a939",
   "metadata": {
    "execution": {
     "iopub.execute_input": "2025-03-04T08:36:22.710110Z",
     "iopub.status.busy": "2025-03-04T08:36:22.709859Z",
     "iopub.status.idle": "2025-03-04T08:36:34.247413Z",
     "shell.execute_reply": "2025-03-04T08:36:34.246676Z"
    },
    "papermill": {
     "duration": 11.548259,
     "end_time": "2025-03-04T08:36:34.249383",
     "exception": false,
     "start_time": "2025-03-04T08:36:22.701124",
     "status": "completed"
    },
    "tags": []
   },
   "outputs": [],
   "source": [
    "y_pred_final = best_model.predict(X_test)\n",
    "mae_final = mean_absolute_error(y_reg_test, y_pred_final)"
   ]
  },
  {
   "cell_type": "code",
   "execution_count": 28,
   "id": "5316c341",
   "metadata": {
    "execution": {
     "iopub.execute_input": "2025-03-04T08:36:34.267888Z",
     "iopub.status.busy": "2025-03-04T08:36:34.267582Z",
     "iopub.status.idle": "2025-03-04T08:36:34.271803Z",
     "shell.execute_reply": "2025-03-04T08:36:34.270926Z"
    },
    "papermill": {
     "duration": 0.013958,
     "end_time": "2025-03-04T08:36:34.273186",
     "exception": false,
     "start_time": "2025-03-04T08:36:34.259228",
     "status": "completed"
    },
    "tags": []
   },
   "outputs": [
    {
     "name": "stdout",
     "output_type": "stream",
     "text": [
      "Final Mean Absolute Error (MAE): 0.653894843878839\n"
     ]
    }
   ],
   "source": [
    "print(f\"Final Mean Absolute Error (MAE): {mae_final}\")"
   ]
  },
  {
   "cell_type": "code",
   "execution_count": 29,
   "id": "a66e692c",
   "metadata": {
    "execution": {
     "iopub.execute_input": "2025-03-04T08:36:34.289851Z",
     "iopub.status.busy": "2025-03-04T08:36:34.289613Z",
     "iopub.status.idle": "2025-03-04T08:36:34.294923Z",
     "shell.execute_reply": "2025-03-04T08:36:34.294270Z"
    },
    "papermill": {
     "duration": 0.015057,
     "end_time": "2025-03-04T08:36:34.296112",
     "exception": false,
     "start_time": "2025-03-04T08:36:34.281055",
     "status": "completed"
    },
    "tags": []
   },
   "outputs": [],
   "source": [
    "def objective_cls(trial):\n",
    "    params = {\n",
    "        \"objective\": \"multi:softmax\", \n",
    "        \"num_class\": 3,  \n",
    "        \"n_estimators\": trial.suggest_int(\"n_estimators\", 100, 1000, step=100),\n",
    "        \"max_depth\": trial.suggest_int(\"max_depth\", 3, 12),\n",
    "        \"learning_rate\": trial.suggest_float(\"learning_rate\", 0.01, 0.3, log=True),\n",
    "        \"subsample\": trial.suggest_float(\"subsample\", 0.5, 1.0),\n",
    "        \"colsample_bytree\": trial.suggest_float(\"colsample_bytree\", 0.5, 1.0),\n",
    "        \"reg_alpha\": trial.suggest_float(\"reg_alpha\", 0.0, 1.0),\n",
    "        \"reg_lambda\": trial.suggest_float(\"reg_lambda\", 0.0, 1.0),\n",
    "        \"min_child_weight\": trial.suggest_int(\"min_child_weight\", 1, 10),\n",
    "    }\n",
    "\n",
    "    clf = xgb.XGBClassifier(**params)\n",
    "    clf.fit(X_train, y_cls_train)\n",
    "\n",
    "    y_pred = clf.predict(X_test)\n",
    "    acc = accuracy_score(y_cls_test, y_pred)\n",
    "\n",
    "    return 1 - acc  "
   ]
  },
  {
   "cell_type": "code",
   "execution_count": 30,
   "id": "7edfdcb0",
   "metadata": {
    "execution": {
     "iopub.execute_input": "2025-03-04T08:36:34.312817Z",
     "iopub.status.busy": "2025-03-04T08:36:34.312583Z",
     "iopub.status.idle": "2025-03-04T08:36:34.315198Z",
     "shell.execute_reply": "2025-03-04T08:36:34.314630Z"
    },
    "papermill": {
     "duration": 0.012496,
     "end_time": "2025-03-04T08:36:34.316517",
     "exception": false,
     "start_time": "2025-03-04T08:36:34.304021",
     "status": "completed"
    },
    "tags": []
   },
   "outputs": [],
   "source": [
    "# study_cls = optuna.create_study(direction=\"minimize\")\n",
    "# study_cls.optimize(objective_cls, n_trials=30)"
   ]
  },
  {
   "cell_type": "code",
   "execution_count": 31,
   "id": "1c7b1180",
   "metadata": {
    "execution": {
     "iopub.execute_input": "2025-03-04T08:36:34.333236Z",
     "iopub.status.busy": "2025-03-04T08:36:34.333008Z",
     "iopub.status.idle": "2025-03-04T08:36:34.337606Z",
     "shell.execute_reply": "2025-03-04T08:36:34.336721Z"
    },
    "papermill": {
     "duration": 0.014175,
     "end_time": "2025-03-04T08:36:34.338969",
     "exception": false,
     "start_time": "2025-03-04T08:36:34.324794",
     "status": "completed"
    },
    "tags": []
   },
   "outputs": [
    {
     "name": "stdout",
     "output_type": "stream",
     "text": [
      "Best parameters for classification: {'n_estimators': 800, 'max_depth': 10, 'learning_rate': 0.09219203992461676, 'subsample': 0.9440038119184523, 'colsample_bytree': 0.6556610437910383, 'reg_alpha': 0.5921488001440582, 'reg_lambda': 0.27768888744961756, 'min_child_weight': 1}\n"
     ]
    }
   ],
   "source": [
    "best_params_cls = {'n_estimators': 800, 'max_depth': 10, 'learning_rate': 0.09219203992461676, 'subsample': 0.9440038119184523, 'colsample_bytree': 0.6556610437910383, 'reg_alpha': 0.5921488001440582, 'reg_lambda': 0.27768888744961756, 'min_child_weight': 1}\n",
    "print(\"Best parameters for classification:\", best_params_cls)"
   ]
  },
  {
   "cell_type": "code",
   "execution_count": 32,
   "id": "83ffc54a",
   "metadata": {
    "execution": {
     "iopub.execute_input": "2025-03-04T08:36:34.355249Z",
     "iopub.status.busy": "2025-03-04T08:36:34.355038Z",
     "iopub.status.idle": "2025-03-04T08:43:31.646472Z",
     "shell.execute_reply": "2025-03-04T08:43:31.645678Z"
    },
    "papermill": {
     "duration": 417.309327,
     "end_time": "2025-03-04T08:43:31.656123",
     "exception": false,
     "start_time": "2025-03-04T08:36:34.346796",
     "status": "completed"
    },
    "tags": []
   },
   "outputs": [
    {
     "data": {
      "text/html": [
       "<style>#sk-container-id-3 {color: black;background-color: white;}#sk-container-id-3 pre{padding: 0;}#sk-container-id-3 div.sk-toggleable {background-color: white;}#sk-container-id-3 label.sk-toggleable__label {cursor: pointer;display: block;width: 100%;margin-bottom: 0;padding: 0.3em;box-sizing: border-box;text-align: center;}#sk-container-id-3 label.sk-toggleable__label-arrow:before {content: \"▸\";float: left;margin-right: 0.25em;color: #696969;}#sk-container-id-3 label.sk-toggleable__label-arrow:hover:before {color: black;}#sk-container-id-3 div.sk-estimator:hover label.sk-toggleable__label-arrow:before {color: black;}#sk-container-id-3 div.sk-toggleable__content {max-height: 0;max-width: 0;overflow: hidden;text-align: left;background-color: #f0f8ff;}#sk-container-id-3 div.sk-toggleable__content pre {margin: 0.2em;color: black;border-radius: 0.25em;background-color: #f0f8ff;}#sk-container-id-3 input.sk-toggleable__control:checked~div.sk-toggleable__content {max-height: 200px;max-width: 100%;overflow: auto;}#sk-container-id-3 input.sk-toggleable__control:checked~label.sk-toggleable__label-arrow:before {content: \"▾\";}#sk-container-id-3 div.sk-estimator input.sk-toggleable__control:checked~label.sk-toggleable__label {background-color: #d4ebff;}#sk-container-id-3 div.sk-label input.sk-toggleable__control:checked~label.sk-toggleable__label {background-color: #d4ebff;}#sk-container-id-3 input.sk-hidden--visually {border: 0;clip: rect(1px 1px 1px 1px);clip: rect(1px, 1px, 1px, 1px);height: 1px;margin: -1px;overflow: hidden;padding: 0;position: absolute;width: 1px;}#sk-container-id-3 div.sk-estimator {font-family: monospace;background-color: #f0f8ff;border: 1px dotted black;border-radius: 0.25em;box-sizing: border-box;margin-bottom: 0.5em;}#sk-container-id-3 div.sk-estimator:hover {background-color: #d4ebff;}#sk-container-id-3 div.sk-parallel-item::after {content: \"\";width: 100%;border-bottom: 1px solid gray;flex-grow: 1;}#sk-container-id-3 div.sk-label:hover label.sk-toggleable__label {background-color: #d4ebff;}#sk-container-id-3 div.sk-serial::before {content: \"\";position: absolute;border-left: 1px solid gray;box-sizing: border-box;top: 0;bottom: 0;left: 50%;z-index: 0;}#sk-container-id-3 div.sk-serial {display: flex;flex-direction: column;align-items: center;background-color: white;padding-right: 0.2em;padding-left: 0.2em;position: relative;}#sk-container-id-3 div.sk-item {position: relative;z-index: 1;}#sk-container-id-3 div.sk-parallel {display: flex;align-items: stretch;justify-content: center;background-color: white;position: relative;}#sk-container-id-3 div.sk-item::before, #sk-container-id-3 div.sk-parallel-item::before {content: \"\";position: absolute;border-left: 1px solid gray;box-sizing: border-box;top: 0;bottom: 0;left: 50%;z-index: -1;}#sk-container-id-3 div.sk-parallel-item {display: flex;flex-direction: column;z-index: 1;position: relative;background-color: white;}#sk-container-id-3 div.sk-parallel-item:first-child::after {align-self: flex-end;width: 50%;}#sk-container-id-3 div.sk-parallel-item:last-child::after {align-self: flex-start;width: 50%;}#sk-container-id-3 div.sk-parallel-item:only-child::after {width: 0;}#sk-container-id-3 div.sk-dashed-wrapped {border: 1px dashed gray;margin: 0 0.4em 0.5em 0.4em;box-sizing: border-box;padding-bottom: 0.4em;background-color: white;}#sk-container-id-3 div.sk-label label {font-family: monospace;font-weight: bold;display: inline-block;line-height: 1.2em;}#sk-container-id-3 div.sk-label-container {text-align: center;}#sk-container-id-3 div.sk-container {/* jupyter's `normalize.less` sets `[hidden] { display: none; }` but bootstrap.min.css set `[hidden] { display: none !important; }` so we also need the `!important` here to be able to override the default hidden behavior on the sphinx rendered scikit-learn.org. See: https://github.com/scikit-learn/scikit-learn/issues/21755 */display: inline-block !important;position: relative;}#sk-container-id-3 div.sk-text-repr-fallback {display: none;}</style><div id=\"sk-container-id-3\" class=\"sk-top-container\"><div class=\"sk-text-repr-fallback\"><pre>XGBClassifier(base_score=None, booster=None, callbacks=None,\n",
       "              colsample_bylevel=None, colsample_bynode=None,\n",
       "              colsample_bytree=0.6556610437910383, device=None,\n",
       "              early_stopping_rounds=None, enable_categorical=False,\n",
       "              eval_metric=None, feature_types=None, gamma=None,\n",
       "              grow_policy=None, importance_type=None,\n",
       "              interaction_constraints=None, learning_rate=0.09219203992461676,\n",
       "              max_bin=None, max_cat_threshold=None, max_cat_to_onehot=None,\n",
       "              max_delta_step=None, max_depth=10, max_leaves=None,\n",
       "              min_child_weight=1, missing=nan, monotone_constraints=None,\n",
       "              multi_strategy=None, n_estimators=800, n_jobs=None,\n",
       "              num_parallel_tree=None, objective=&#x27;multi:softprob&#x27;, ...)</pre><b>In a Jupyter environment, please rerun this cell to show the HTML representation or trust the notebook. <br />On GitHub, the HTML representation is unable to render, please try loading this page with nbviewer.org.</b></div><div class=\"sk-container\" hidden><div class=\"sk-item\"><div class=\"sk-estimator sk-toggleable\"><input class=\"sk-toggleable__control sk-hidden--visually\" id=\"sk-estimator-id-3\" type=\"checkbox\" checked><label for=\"sk-estimator-id-3\" class=\"sk-toggleable__label sk-toggleable__label-arrow\">XGBClassifier</label><div class=\"sk-toggleable__content\"><pre>XGBClassifier(base_score=None, booster=None, callbacks=None,\n",
       "              colsample_bylevel=None, colsample_bynode=None,\n",
       "              colsample_bytree=0.6556610437910383, device=None,\n",
       "              early_stopping_rounds=None, enable_categorical=False,\n",
       "              eval_metric=None, feature_types=None, gamma=None,\n",
       "              grow_policy=None, importance_type=None,\n",
       "              interaction_constraints=None, learning_rate=0.09219203992461676,\n",
       "              max_bin=None, max_cat_threshold=None, max_cat_to_onehot=None,\n",
       "              max_delta_step=None, max_depth=10, max_leaves=None,\n",
       "              min_child_weight=1, missing=nan, monotone_constraints=None,\n",
       "              multi_strategy=None, n_estimators=800, n_jobs=None,\n",
       "              num_parallel_tree=None, objective=&#x27;multi:softprob&#x27;, ...)</pre></div></div></div></div></div>"
      ],
      "text/plain": [
       "XGBClassifier(base_score=None, booster=None, callbacks=None,\n",
       "              colsample_bylevel=None, colsample_bynode=None,\n",
       "              colsample_bytree=0.6556610437910383, device=None,\n",
       "              early_stopping_rounds=None, enable_categorical=False,\n",
       "              eval_metric=None, feature_types=None, gamma=None,\n",
       "              grow_policy=None, importance_type=None,\n",
       "              interaction_constraints=None, learning_rate=0.09219203992461676,\n",
       "              max_bin=None, max_cat_threshold=None, max_cat_to_onehot=None,\n",
       "              max_delta_step=None, max_depth=10, max_leaves=None,\n",
       "              min_child_weight=1, missing=nan, monotone_constraints=None,\n",
       "              multi_strategy=None, n_estimators=800, n_jobs=None,\n",
       "              num_parallel_tree=None, objective='multi:softprob', ...)"
      ]
     },
     "execution_count": 32,
     "metadata": {},
     "output_type": "execute_result"
    }
   ],
   "source": [
    "best_clf = xgb.XGBClassifier(**best_params_cls)\n",
    "best_clf.fit(X_train, y_cls_train)"
   ]
  },
  {
   "cell_type": "code",
   "execution_count": 33,
   "id": "ad939913",
   "metadata": {
    "execution": {
     "iopub.execute_input": "2025-03-04T08:43:31.673013Z",
     "iopub.status.busy": "2025-03-04T08:43:31.672772Z",
     "iopub.status.idle": "2025-03-04T08:43:54.572156Z",
     "shell.execute_reply": "2025-03-04T08:43:54.571195Z"
    },
    "papermill": {
     "duration": 22.909544,
     "end_time": "2025-03-04T08:43:54.573843",
     "exception": false,
     "start_time": "2025-03-04T08:43:31.664299",
     "status": "completed"
    },
    "tags": []
   },
   "outputs": [],
   "source": [
    "y_pred_cls = best_clf.predict(X_test)\n",
    "acc_final = accuracy_score(y_cls_test, y_pred_cls)"
   ]
  },
  {
   "cell_type": "code",
   "execution_count": 34,
   "id": "a5d315f4",
   "metadata": {
    "execution": {
     "iopub.execute_input": "2025-03-04T08:43:54.590676Z",
     "iopub.status.busy": "2025-03-04T08:43:54.590438Z",
     "iopub.status.idle": "2025-03-04T08:43:54.594315Z",
     "shell.execute_reply": "2025-03-04T08:43:54.593308Z"
    },
    "papermill": {
     "duration": 0.01348,
     "end_time": "2025-03-04T08:43:54.595590",
     "exception": false,
     "start_time": "2025-03-04T08:43:54.582110",
     "status": "completed"
    },
    "tags": []
   },
   "outputs": [
    {
     "name": "stdout",
     "output_type": "stream",
     "text": [
      "Final Classification Accuracy: 0.7544390395259686\n"
     ]
    }
   ],
   "source": [
    "print(f\"Final Classification Accuracy: {acc_final}\")"
   ]
  },
  {
   "cell_type": "code",
   "execution_count": 35,
   "id": "4d0d5417",
   "metadata": {
    "execution": {
     "iopub.execute_input": "2025-03-04T08:43:54.649851Z",
     "iopub.status.busy": "2025-03-04T08:43:54.649584Z",
     "iopub.status.idle": "2025-03-04T08:44:02.866776Z",
     "shell.execute_reply": "2025-03-04T08:44:02.865485Z"
    },
    "papermill": {
     "duration": 8.265394,
     "end_time": "2025-03-04T08:44:02.868971",
     "exception": false,
     "start_time": "2025-03-04T08:43:54.603577",
     "status": "completed"
    },
    "tags": []
   },
   "outputs": [],
   "source": [
    "!pip install transformers accelerate torch sentencepiece --quiet"
   ]
  },
  {
   "cell_type": "code",
   "execution_count": 36,
   "id": "3bd220ac",
   "metadata": {
    "execution": {
     "iopub.execute_input": "2025-03-04T08:44:02.886355Z",
     "iopub.status.busy": "2025-03-04T08:44:02.886069Z",
     "iopub.status.idle": "2025-03-04T08:44:09.133058Z",
     "shell.execute_reply": "2025-03-04T08:44:09.132202Z"
    },
    "papermill": {
     "duration": 6.25744,
     "end_time": "2025-03-04T08:44:09.134849",
     "exception": false,
     "start_time": "2025-03-04T08:44:02.877409",
     "status": "completed"
    },
    "tags": []
   },
   "outputs": [
    {
     "name": "stdout",
     "output_type": "stream",
     "text": [
      "Collecting bitsandbytes\r\n",
      "  Downloading bitsandbytes-0.45.3-py3-none-manylinux_2_24_x86_64.whl.metadata (5.0 kB)\r\n",
      "Requirement already satisfied: torch<3,>=2.0 in /usr/local/lib/python3.10/dist-packages (from bitsandbytes) (2.5.1+cu121)\r\n",
      "Requirement already satisfied: numpy>=1.17 in /usr/local/lib/python3.10/dist-packages (from bitsandbytes) (1.26.4)\r\n",
      "Requirement already satisfied: mkl_fft in /usr/local/lib/python3.10/dist-packages (from numpy>=1.17->bitsandbytes) (1.3.8)\r\n",
      "Requirement already satisfied: mkl_random in /usr/local/lib/python3.10/dist-packages (from numpy>=1.17->bitsandbytes) (1.2.4)\r\n",
      "Requirement already satisfied: mkl_umath in /usr/local/lib/python3.10/dist-packages (from numpy>=1.17->bitsandbytes) (0.1.1)\r\n",
      "Requirement already satisfied: mkl in /usr/local/lib/python3.10/dist-packages (from numpy>=1.17->bitsandbytes) (2025.0.1)\r\n",
      "Requirement already satisfied: tbb4py in /usr/local/lib/python3.10/dist-packages (from numpy>=1.17->bitsandbytes) (2022.0.0)\r\n",
      "Requirement already satisfied: mkl-service in /usr/local/lib/python3.10/dist-packages (from numpy>=1.17->bitsandbytes) (2.4.1)\r\n",
      "Requirement already satisfied: filelock in /usr/local/lib/python3.10/dist-packages (from torch<3,>=2.0->bitsandbytes) (3.17.0)\r\n",
      "Requirement already satisfied: typing-extensions>=4.8.0 in /usr/local/lib/python3.10/dist-packages (from torch<3,>=2.0->bitsandbytes) (4.12.2)\r\n",
      "Requirement already satisfied: networkx in /usr/local/lib/python3.10/dist-packages (from torch<3,>=2.0->bitsandbytes) (3.4.2)\r\n",
      "Requirement already satisfied: jinja2 in /usr/local/lib/python3.10/dist-packages (from torch<3,>=2.0->bitsandbytes) (3.1.4)\r\n",
      "Requirement already satisfied: fsspec in /usr/local/lib/python3.10/dist-packages (from torch<3,>=2.0->bitsandbytes) (2024.12.0)\r\n",
      "Requirement already satisfied: sympy==1.13.1 in /usr/local/lib/python3.10/dist-packages (from torch<3,>=2.0->bitsandbytes) (1.13.1)\r\n",
      "Requirement already satisfied: mpmath<1.4,>=1.1.0 in /usr/local/lib/python3.10/dist-packages (from sympy==1.13.1->torch<3,>=2.0->bitsandbytes) (1.3.0)\r\n",
      "Requirement already satisfied: MarkupSafe>=2.0 in /usr/local/lib/python3.10/dist-packages (from jinja2->torch<3,>=2.0->bitsandbytes) (3.0.2)\r\n",
      "Requirement already satisfied: intel-openmp>=2024 in /usr/local/lib/python3.10/dist-packages (from mkl->numpy>=1.17->bitsandbytes) (2024.2.0)\r\n",
      "Requirement already satisfied: tbb==2022.* in /usr/local/lib/python3.10/dist-packages (from mkl->numpy>=1.17->bitsandbytes) (2022.0.0)\r\n",
      "Requirement already satisfied: tcmlib==1.* in /usr/local/lib/python3.10/dist-packages (from tbb==2022.*->mkl->numpy>=1.17->bitsandbytes) (1.2.0)\r\n",
      "Requirement already satisfied: intel-cmplr-lib-rt in /usr/local/lib/python3.10/dist-packages (from mkl_umath->numpy>=1.17->bitsandbytes) (2024.2.0)\r\n",
      "Requirement already satisfied: intel-cmplr-lib-ur==2024.2.0 in /usr/local/lib/python3.10/dist-packages (from intel-openmp>=2024->mkl->numpy>=1.17->bitsandbytes) (2024.2.0)\r\n",
      "Downloading bitsandbytes-0.45.3-py3-none-manylinux_2_24_x86_64.whl (76.1 MB)\r\n",
      "\u001b[2K   \u001b[90m━━━━━━━━━━━━━━━━━━━━━━━━━━━━━━━━━━━━━━━━\u001b[0m \u001b[32m76.1/76.1 MB\u001b[0m \u001b[31m23.2 MB/s\u001b[0m eta \u001b[36m0:00:00\u001b[0m\r\n",
      "\u001b[?25hInstalling collected packages: bitsandbytes\r\n",
      "Successfully installed bitsandbytes-0.45.3\r\n"
     ]
    }
   ],
   "source": [
    "!pip install -U bitsandbytes"
   ]
  },
  {
   "cell_type": "code",
   "execution_count": 37,
   "id": "26011daa",
   "metadata": {
    "execution": {
     "iopub.execute_input": "2025-03-04T08:44:09.154008Z",
     "iopub.status.busy": "2025-03-04T08:44:09.153743Z",
     "iopub.status.idle": "2025-03-04T08:44:09.453041Z",
     "shell.execute_reply": "2025-03-04T08:44:09.452386Z"
    },
    "papermill": {
     "duration": 0.310203,
     "end_time": "2025-03-04T08:44:09.454493",
     "exception": false,
     "start_time": "2025-03-04T08:44:09.144290",
     "status": "completed"
    },
    "tags": []
   },
   "outputs": [],
   "source": [
    "from kaggle_secrets import UserSecretsClient\n",
    "user_secrets = UserSecretsClient()\n",
    "secret_value_0 = user_secrets.get_secret(\"HF_KEY\")"
   ]
  },
  {
   "cell_type": "code",
   "execution_count": 38,
   "id": "09ee09c3",
   "metadata": {
    "execution": {
     "iopub.execute_input": "2025-03-04T08:44:09.473546Z",
     "iopub.status.busy": "2025-03-04T08:44:09.473274Z",
     "iopub.status.idle": "2025-03-04T08:44:10.175720Z",
     "shell.execute_reply": "2025-03-04T08:44:10.174784Z"
    },
    "papermill": {
     "duration": 0.713497,
     "end_time": "2025-03-04T08:44:10.177309",
     "exception": false,
     "start_time": "2025-03-04T08:44:09.463812",
     "status": "completed"
    },
    "tags": []
   },
   "outputs": [],
   "source": [
    "from huggingface_hub import login\n",
    "login(token=secret_value_0)"
   ]
  },
  {
   "cell_type": "code",
   "execution_count": 39,
   "id": "429a2a8d",
   "metadata": {
    "execution": {
     "iopub.execute_input": "2025-03-04T08:44:10.196908Z",
     "iopub.status.busy": "2025-03-04T08:44:10.196675Z",
     "iopub.status.idle": "2025-03-04T08:44:43.970244Z",
     "shell.execute_reply": "2025-03-04T08:44:43.969497Z"
    },
    "papermill": {
     "duration": 33.784895,
     "end_time": "2025-03-04T08:44:43.971874",
     "exception": false,
     "start_time": "2025-03-04T08:44:10.186979",
     "status": "completed"
    },
    "tags": []
   },
   "outputs": [],
   "source": [
    "from transformers import AutoModelForCausalLM, AutoTokenizer, pipeline\n",
    "import torch"
   ]
  },
  {
   "cell_type": "code",
   "execution_count": 40,
   "id": "d8758b29",
   "metadata": {
    "execution": {
     "iopub.execute_input": "2025-03-04T08:44:43.993720Z",
     "iopub.status.busy": "2025-03-04T08:44:43.993126Z",
     "iopub.status.idle": "2025-03-04T08:44:43.996775Z",
     "shell.execute_reply": "2025-03-04T08:44:43.996064Z"
    },
    "papermill": {
     "duration": 0.015489,
     "end_time": "2025-03-04T08:44:43.998068",
     "exception": false,
     "start_time": "2025-03-04T08:44:43.982579",
     "status": "completed"
    },
    "tags": []
   },
   "outputs": [],
   "source": [
    "model_name = \"mistralai/Mistral-7B-Instruct-v0.1\""
   ]
  },
  {
   "cell_type": "code",
   "execution_count": 41,
   "id": "2180f774",
   "metadata": {
    "execution": {
     "iopub.execute_input": "2025-03-04T08:44:44.017776Z",
     "iopub.status.busy": "2025-03-04T08:44:44.017543Z",
     "iopub.status.idle": "2025-03-04T08:46:47.970852Z",
     "shell.execute_reply": "2025-03-04T08:46:47.970107Z"
    },
    "papermill": {
     "duration": 123.964743,
     "end_time": "2025-03-04T08:46:47.972314",
     "exception": false,
     "start_time": "2025-03-04T08:44:44.007571",
     "status": "completed"
    },
    "tags": []
   },
   "outputs": [
    {
     "data": {
      "application/vnd.jupyter.widget-view+json": {
       "model_id": "e2f2c64b4f2e4b71bf7e5ff392c0b253",
       "version_major": 2,
       "version_minor": 0
      },
      "text/plain": [
       "tokenizer_config.json:   0%|          | 0.00/2.10k [00:00<?, ?B/s]"
      ]
     },
     "metadata": {},
     "output_type": "display_data"
    },
    {
     "data": {
      "application/vnd.jupyter.widget-view+json": {
       "model_id": "7b7b7961279e495b82ce3756a3b75731",
       "version_major": 2,
       "version_minor": 0
      },
      "text/plain": [
       "tokenizer.model:   0%|          | 0.00/493k [00:00<?, ?B/s]"
      ]
     },
     "metadata": {},
     "output_type": "display_data"
    },
    {
     "data": {
      "application/vnd.jupyter.widget-view+json": {
       "model_id": "aa389a644f014850a68c90f0dcdc8e1c",
       "version_major": 2,
       "version_minor": 0
      },
      "text/plain": [
       "tokenizer.json:   0%|          | 0.00/1.80M [00:00<?, ?B/s]"
      ]
     },
     "metadata": {},
     "output_type": "display_data"
    },
    {
     "data": {
      "application/vnd.jupyter.widget-view+json": {
       "model_id": "5bcebbb2436f4b0b9d6ca2ae33bcba44",
       "version_major": 2,
       "version_minor": 0
      },
      "text/plain": [
       "special_tokens_map.json:   0%|          | 0.00/414 [00:00<?, ?B/s]"
      ]
     },
     "metadata": {},
     "output_type": "display_data"
    },
    {
     "data": {
      "application/vnd.jupyter.widget-view+json": {
       "model_id": "c0c58d8e165b439ebdeff0756780bc15",
       "version_major": 2,
       "version_minor": 0
      },
      "text/plain": [
       "config.json:   0%|          | 0.00/571 [00:00<?, ?B/s]"
      ]
     },
     "metadata": {},
     "output_type": "display_data"
    },
    {
     "name": "stderr",
     "output_type": "stream",
     "text": [
      "The `load_in_4bit` and `load_in_8bit` arguments are deprecated and will be removed in the future versions. Please, pass a `BitsAndBytesConfig` object in `quantization_config` argument instead.\n"
     ]
    },
    {
     "data": {
      "application/vnd.jupyter.widget-view+json": {
       "model_id": "9e8ec23d4fdb46a09322f29e69584363",
       "version_major": 2,
       "version_minor": 0
      },
      "text/plain": [
       "model.safetensors.index.json:   0%|          | 0.00/25.1k [00:00<?, ?B/s]"
      ]
     },
     "metadata": {},
     "output_type": "display_data"
    },
    {
     "data": {
      "application/vnd.jupyter.widget-view+json": {
       "model_id": "cd11a846b3494633b60593026a426805",
       "version_major": 2,
       "version_minor": 0
      },
      "text/plain": [
       "Downloading shards:   0%|          | 0/2 [00:00<?, ?it/s]"
      ]
     },
     "metadata": {},
     "output_type": "display_data"
    },
    {
     "data": {
      "application/vnd.jupyter.widget-view+json": {
       "model_id": "2cb48a28ac2c4f1e9e666f1dd08f5da2",
       "version_major": 2,
       "version_minor": 0
      },
      "text/plain": [
       "model-00001-of-00002.safetensors:   0%|          | 0.00/9.94G [00:00<?, ?B/s]"
      ]
     },
     "metadata": {},
     "output_type": "display_data"
    },
    {
     "data": {
      "application/vnd.jupyter.widget-view+json": {
       "model_id": "38fdb29d793e4293930fd548d3763a20",
       "version_major": 2,
       "version_minor": 0
      },
      "text/plain": [
       "model-00002-of-00002.safetensors:   0%|          | 0.00/4.54G [00:00<?, ?B/s]"
      ]
     },
     "metadata": {},
     "output_type": "display_data"
    },
    {
     "data": {
      "application/vnd.jupyter.widget-view+json": {
       "model_id": "fe4a2e54fcea451e910a7b271f54e7b9",
       "version_major": 2,
       "version_minor": 0
      },
      "text/plain": [
       "Loading checkpoint shards:   0%|          | 0/2 [00:00<?, ?it/s]"
      ]
     },
     "metadata": {},
     "output_type": "display_data"
    },
    {
     "data": {
      "application/vnd.jupyter.widget-view+json": {
       "model_id": "ad017fc3efe44fd9869e5620c1dc2e94",
       "version_major": 2,
       "version_minor": 0
      },
      "text/plain": [
       "generation_config.json:   0%|          | 0.00/116 [00:00<?, ?B/s]"
      ]
     },
     "metadata": {},
     "output_type": "display_data"
    }
   ],
   "source": [
    "tokenizer = AutoTokenizer.from_pretrained(model_name)\n",
    "model = AutoModelForCausalLM.from_pretrained(\n",
    "    model_name,\n",
    "    torch_dtype=torch.float16,\n",
    "    load_in_8bit=True,  \n",
    "    device_map=\"auto\"  \n",
    ")"
   ]
  },
  {
   "cell_type": "code",
   "execution_count": 42,
   "id": "0da1246c",
   "metadata": {
    "execution": {
     "iopub.execute_input": "2025-03-04T08:46:47.996138Z",
     "iopub.status.busy": "2025-03-04T08:46:47.995872Z",
     "iopub.status.idle": "2025-03-04T08:46:48.001868Z",
     "shell.execute_reply": "2025-03-04T08:46:48.000985Z"
    },
    "papermill": {
     "duration": 0.018945,
     "end_time": "2025-03-04T08:46:48.003130",
     "exception": false,
     "start_time": "2025-03-04T08:46:47.984185",
     "status": "completed"
    },
    "tags": []
   },
   "outputs": [
    {
     "name": "stderr",
     "output_type": "stream",
     "text": [
      "Device set to use cuda:0\n"
     ]
    }
   ],
   "source": [
    "llm_pipeline = pipeline(\"text-generation\", model=model, tokenizer=tokenizer)"
   ]
  },
  {
   "cell_type": "code",
   "execution_count": 43,
   "id": "95b7cd83",
   "metadata": {
    "execution": {
     "iopub.execute_input": "2025-03-04T08:46:48.025259Z",
     "iopub.status.busy": "2025-03-04T08:46:48.025037Z",
     "iopub.status.idle": "2025-03-04T08:46:48.028755Z",
     "shell.execute_reply": "2025-03-04T08:46:48.028048Z"
    },
    "papermill": {
     "duration": 0.016066,
     "end_time": "2025-03-04T08:46:48.029926",
     "exception": false,
     "start_time": "2025-03-04T08:46:48.013860",
     "status": "completed"
    },
    "tags": []
   },
   "outputs": [],
   "source": [
    "weather_conditions_map_rev = {v: k for k, v in weather_conditions_map.items()} \n",
    "weather_event_map_rev = {v: k for k, v in weather_event_map.items()} "
   ]
  },
  {
   "cell_type": "code",
   "execution_count": 44,
   "id": "5e59d488",
   "metadata": {
    "execution": {
     "iopub.execute_input": "2025-03-04T08:46:48.051631Z",
     "iopub.status.busy": "2025-03-04T08:46:48.051323Z",
     "iopub.status.idle": "2025-03-04T08:46:48.055881Z",
     "shell.execute_reply": "2025-03-04T08:46:48.055213Z"
    },
    "papermill": {
     "duration": 0.017259,
     "end_time": "2025-03-04T08:46:48.057213",
     "exception": false,
     "start_time": "2025-03-04T08:46:48.039954",
     "status": "completed"
    },
    "tags": []
   },
   "outputs": [],
   "source": [
    "def generate_explanation(features, delay_pred, congestion_pred):\n",
    "    weather_condition = weather_conditions_map_rev.get(features[\"Weather_Conditions\"], \"Unknown\")\n",
    "    weather_event = weather_event_map_rev.get(features[\"Weather_Event\"], \"Unknown\")\n",
    "\n",
    "    prompt = f\"\"\"\n",
    "    Given the following traffic data:\n",
    "    - Weather Conditions: {weather_condition} (Event: {weather_event})\n",
    "    - Temperature: {features['Temperature(F)']}°F\n",
    "    - Wind Speed: {features['WindSpeed(mph)']} mph\n",
    "    - Wind Direction: {features['WindDir']}\n",
    "    - Visibility: {features['Visibility(mi)']} miles\n",
    "    - Precipitation: {features['Precipitation(in)']} inches\n",
    "\n",
    "    The model has predicted:\n",
    "    - Delay: {delay_pred:.2f} minutes\n",
    "    - Congestion Level: {\"Fast\" if congestion_pred == 0 else \"Moderate\" if congestion_pred == 1 else \"Slow\"}\n",
    "    \n",
    "    Explain why the delay and congestion level might be as predicted. Keep the explanation concise and suitable for traffic management personnel. Suggest measures to handle the predicted situation.\n",
    "    \"\"\"\n",
    "\n",
    "    response = llm_pipeline(prompt, max_new_tokens=200, return_full_text=False)[0][\"generated_text\"]\n",
    "    return response"
   ]
  },
  {
   "cell_type": "code",
   "execution_count": 45,
   "id": "2b78df47",
   "metadata": {
    "execution": {
     "iopub.execute_input": "2025-03-04T08:46:48.079902Z",
     "iopub.status.busy": "2025-03-04T08:46:48.079658Z",
     "iopub.status.idle": "2025-03-04T08:46:48.085813Z",
     "shell.execute_reply": "2025-03-04T08:46:48.085089Z"
    },
    "papermill": {
     "duration": 0.019339,
     "end_time": "2025-03-04T08:46:48.087044",
     "exception": false,
     "start_time": "2025-03-04T08:46:48.067705",
     "status": "completed"
    },
    "tags": []
   },
   "outputs": [],
   "source": [
    "sample_idx = 18\n",
    "sample_features = df.iloc[sample_idx].to_dict()\n",
    "sample_delay_pred = y_reg_pred[sample_idx]\n",
    "sample_congestion_pred = y_cls_pred[sample_idx]"
   ]
  },
  {
   "cell_type": "code",
   "execution_count": 46,
   "id": "e50a1df9",
   "metadata": {
    "execution": {
     "iopub.execute_input": "2025-03-04T08:46:48.109518Z",
     "iopub.status.busy": "2025-03-04T08:46:48.109254Z",
     "iopub.status.idle": "2025-03-04T08:47:12.788512Z",
     "shell.execute_reply": "2025-03-04T08:47:12.787536Z"
    },
    "papermill": {
     "duration": 24.691667,
     "end_time": "2025-03-04T08:47:12.789779",
     "exception": false,
     "start_time": "2025-03-04T08:46:48.098112",
     "status": "completed"
    },
    "tags": []
   },
   "outputs": [
    {
     "name": "stderr",
     "output_type": "stream",
     "text": [
      "Setting `pad_token_id` to `eos_token_id`:2 for open-end generation.\n"
     ]
    },
    {
     "name": "stdout",
     "output_type": "stream",
     "text": [
      "\n",
      "    The delay and congestion level might be as predicted due to the combination of snow and fog conditions, which can reduce visibility and make it difficult for drivers to see the road ahead. Additionally, the low temperature and wind speed can also contribute to the delay and congestion.\n",
      "    \n",
      "    To handle the predicted situation, traffic management personnel can consider implementing measures such as reducing speed limits, increasing signage and warning systems, and deploying additional traffic control personnel to manage the flow of traffic. Additionally, they can also consider closing certain roads or lanes to reduce congestion and improve safety.\n"
     ]
    }
   ],
   "source": [
    "explanation = generate_explanation(sample_features, sample_delay_pred, sample_congestion_pred)\n",
    "print(explanation)"
   ]
  }
 ],
 "metadata": {
  "kaggle": {
   "accelerator": "nvidiaTeslaT4",
   "dataSources": [
    {
     "datasetId": 6746109,
     "sourceId": 10859913,
     "sourceType": "datasetVersion"
    }
   ],
   "dockerImageVersionId": 30919,
   "isGpuEnabled": true,
   "isInternetEnabled": true,
   "language": "python",
   "sourceType": "notebook"
  },
  "kernelspec": {
   "display_name": "Python 3",
   "language": "python",
   "name": "python3"
  },
  "language_info": {
   "codemirror_mode": {
    "name": "ipython",
    "version": 3
   },
   "file_extension": ".py",
   "mimetype": "text/x-python",
   "name": "python",
   "nbconvert_exporter": "python",
   "pygments_lexer": "ipython3",
   "version": "3.10.12"
  },
  "papermill": {
   "default_parameters": {},
   "duration": 957.509681,
   "end_time": "2025-03-04T08:47:16.089938",
   "environment_variables": {},
   "exception": null,
   "input_path": "__notebook__.ipynb",
   "output_path": "__notebook__.ipynb",
   "parameters": {},
   "start_time": "2025-03-04T08:31:18.580257",
   "version": "2.6.0"
  },
  "widgets": {
   "application/vnd.jupyter.widget-state+json": {
    "state": {
     "02a6aa6189e941d89bf8c65c31f85a8f": {
      "model_module": "@jupyter-widgets/controls",
      "model_module_version": "2.0.0",
      "model_name": "HTMLStyleModel",
      "state": {
       "_model_module": "@jupyter-widgets/controls",
       "_model_module_version": "2.0.0",
       "_model_name": "HTMLStyleModel",
       "_view_count": null,
       "_view_module": "@jupyter-widgets/base",
       "_view_module_version": "2.0.0",
       "_view_name": "StyleView",
       "background": null,
       "description_width": "",
       "font_size": null,
       "text_color": null
      }
     },
     "02bed5fcab0f4f618a1e6752159d9e92": {
      "model_module": "@jupyter-widgets/base",
      "model_module_version": "2.0.0",
      "model_name": "LayoutModel",
      "state": {
       "_model_module": "@jupyter-widgets/base",
       "_model_module_version": "2.0.0",
       "_model_name": "LayoutModel",
       "_view_count": null,
       "_view_module": "@jupyter-widgets/base",
       "_view_module_version": "2.0.0",
       "_view_name": "LayoutView",
       "align_content": null,
       "align_items": null,
       "align_self": null,
       "border_bottom": null,
       "border_left": null,
       "border_right": null,
       "border_top": null,
       "bottom": null,
       "display": null,
       "flex": null,
       "flex_flow": null,
       "grid_area": null,
       "grid_auto_columns": null,
       "grid_auto_flow": null,
       "grid_auto_rows": null,
       "grid_column": null,
       "grid_gap": null,
       "grid_row": null,
       "grid_template_areas": null,
       "grid_template_columns": null,
       "grid_template_rows": null,
       "height": null,
       "justify_content": null,
       "justify_items": null,
       "left": null,
       "margin": null,
       "max_height": null,
       "max_width": null,
       "min_height": null,
       "min_width": null,
       "object_fit": null,
       "object_position": null,
       "order": null,
       "overflow": null,
       "padding": null,
       "right": null,
       "top": null,
       "visibility": null,
       "width": null
      }
     },
     "052afffae5504dcfb15e5a92ecbbf7d5": {
      "model_module": "@jupyter-widgets/controls",
      "model_module_version": "2.0.0",
      "model_name": "HTMLModel",
      "state": {
       "_dom_classes": [],
       "_model_module": "@jupyter-widgets/controls",
       "_model_module_version": "2.0.0",
       "_model_name": "HTMLModel",
       "_view_count": null,
       "_view_module": "@jupyter-widgets/controls",
       "_view_module_version": "2.0.0",
       "_view_name": "HTMLView",
       "description": "",
       "description_allow_html": false,
       "layout": "IPY_MODEL_5d8dc1b1779843cb982c2731a4a65271",
       "placeholder": "​",
       "style": "IPY_MODEL_a3833f3bb0c444a08e27a1cca2928b97",
       "tabbable": null,
       "tooltip": null,
       "value": "tokenizer.model: 100%"
      }
     },
     "05ad085fa580451f88e2caa73f2f1497": {
      "model_module": "@jupyter-widgets/base",
      "model_module_version": "2.0.0",
      "model_name": "LayoutModel",
      "state": {
       "_model_module": "@jupyter-widgets/base",
       "_model_module_version": "2.0.0",
       "_model_name": "LayoutModel",
       "_view_count": null,
       "_view_module": "@jupyter-widgets/base",
       "_view_module_version": "2.0.0",
       "_view_name": "LayoutView",
       "align_content": null,
       "align_items": null,
       "align_self": null,
       "border_bottom": null,
       "border_left": null,
       "border_right": null,
       "border_top": null,
       "bottom": null,
       "display": null,
       "flex": null,
       "flex_flow": null,
       "grid_area": null,
       "grid_auto_columns": null,
       "grid_auto_flow": null,
       "grid_auto_rows": null,
       "grid_column": null,
       "grid_gap": null,
       "grid_row": null,
       "grid_template_areas": null,
       "grid_template_columns": null,
       "grid_template_rows": null,
       "height": null,
       "justify_content": null,
       "justify_items": null,
       "left": null,
       "margin": null,
       "max_height": null,
       "max_width": null,
       "min_height": null,
       "min_width": null,
       "object_fit": null,
       "object_position": null,
       "order": null,
       "overflow": null,
       "padding": null,
       "right": null,
       "top": null,
       "visibility": null,
       "width": null
      }
     },
     "0b1a54cd141e4b66931ef1530530b8f9": {
      "model_module": "@jupyter-widgets/controls",
      "model_module_version": "2.0.0",
      "model_name": "HTMLStyleModel",
      "state": {
       "_model_module": "@jupyter-widgets/controls",
       "_model_module_version": "2.0.0",
       "_model_name": "HTMLStyleModel",
       "_view_count": null,
       "_view_module": "@jupyter-widgets/base",
       "_view_module_version": "2.0.0",
       "_view_name": "StyleView",
       "background": null,
       "description_width": "",
       "font_size": null,
       "text_color": null
      }
     },
     "0c5bc8dcfabc42a49d7a25f5f37174b7": {
      "model_module": "@jupyter-widgets/base",
      "model_module_version": "2.0.0",
      "model_name": "LayoutModel",
      "state": {
       "_model_module": "@jupyter-widgets/base",
       "_model_module_version": "2.0.0",
       "_model_name": "LayoutModel",
       "_view_count": null,
       "_view_module": "@jupyter-widgets/base",
       "_view_module_version": "2.0.0",
       "_view_name": "LayoutView",
       "align_content": null,
       "align_items": null,
       "align_self": null,
       "border_bottom": null,
       "border_left": null,
       "border_right": null,
       "border_top": null,
       "bottom": null,
       "display": null,
       "flex": null,
       "flex_flow": null,
       "grid_area": null,
       "grid_auto_columns": null,
       "grid_auto_flow": null,
       "grid_auto_rows": null,
       "grid_column": null,
       "grid_gap": null,
       "grid_row": null,
       "grid_template_areas": null,
       "grid_template_columns": null,
       "grid_template_rows": null,
       "height": null,
       "justify_content": null,
       "justify_items": null,
       "left": null,
       "margin": null,
       "max_height": null,
       "max_width": null,
       "min_height": null,
       "min_width": null,
       "object_fit": null,
       "object_position": null,
       "order": null,
       "overflow": null,
       "padding": null,
       "right": null,
       "top": null,
       "visibility": null,
       "width": null
      }
     },
     "0d6a89f89e804ff69a8ae13acbfa08a9": {
      "model_module": "@jupyter-widgets/base",
      "model_module_version": "2.0.0",
      "model_name": "LayoutModel",
      "state": {
       "_model_module": "@jupyter-widgets/base",
       "_model_module_version": "2.0.0",
       "_model_name": "LayoutModel",
       "_view_count": null,
       "_view_module": "@jupyter-widgets/base",
       "_view_module_version": "2.0.0",
       "_view_name": "LayoutView",
       "align_content": null,
       "align_items": null,
       "align_self": null,
       "border_bottom": null,
       "border_left": null,
       "border_right": null,
       "border_top": null,
       "bottom": null,
       "display": null,
       "flex": null,
       "flex_flow": null,
       "grid_area": null,
       "grid_auto_columns": null,
       "grid_auto_flow": null,
       "grid_auto_rows": null,
       "grid_column": null,
       "grid_gap": null,
       "grid_row": null,
       "grid_template_areas": null,
       "grid_template_columns": null,
       "grid_template_rows": null,
       "height": null,
       "justify_content": null,
       "justify_items": null,
       "left": null,
       "margin": null,
       "max_height": null,
       "max_width": null,
       "min_height": null,
       "min_width": null,
       "object_fit": null,
       "object_position": null,
       "order": null,
       "overflow": null,
       "padding": null,
       "right": null,
       "top": null,
       "visibility": null,
       "width": null
      }
     },
     "158adb20189943f88737801c424637c9": {
      "model_module": "@jupyter-widgets/controls",
      "model_module_version": "2.0.0",
      "model_name": "HTMLModel",
      "state": {
       "_dom_classes": [],
       "_model_module": "@jupyter-widgets/controls",
       "_model_module_version": "2.0.0",
       "_model_name": "HTMLModel",
       "_view_count": null,
       "_view_module": "@jupyter-widgets/controls",
       "_view_module_version": "2.0.0",
       "_view_name": "HTMLView",
       "description": "",
       "description_allow_html": false,
       "layout": "IPY_MODEL_a957a58c752040a4894da5beb1702863",
       "placeholder": "​",
       "style": "IPY_MODEL_2cddf02f35d04652855eee1cdfa9fbd7",
       "tabbable": null,
       "tooltip": null,
       "value": "model.safetensors.index.json: 100%"
      }
     },
     "18952e9038ae4e88af6e418bc62d4772": {
      "model_module": "@jupyter-widgets/base",
      "model_module_version": "2.0.0",
      "model_name": "LayoutModel",
      "state": {
       "_model_module": "@jupyter-widgets/base",
       "_model_module_version": "2.0.0",
       "_model_name": "LayoutModel",
       "_view_count": null,
       "_view_module": "@jupyter-widgets/base",
       "_view_module_version": "2.0.0",
       "_view_name": "LayoutView",
       "align_content": null,
       "align_items": null,
       "align_self": null,
       "border_bottom": null,
       "border_left": null,
       "border_right": null,
       "border_top": null,
       "bottom": null,
       "display": null,
       "flex": null,
       "flex_flow": null,
       "grid_area": null,
       "grid_auto_columns": null,
       "grid_auto_flow": null,
       "grid_auto_rows": null,
       "grid_column": null,
       "grid_gap": null,
       "grid_row": null,
       "grid_template_areas": null,
       "grid_template_columns": null,
       "grid_template_rows": null,
       "height": null,
       "justify_content": null,
       "justify_items": null,
       "left": null,
       "margin": null,
       "max_height": null,
       "max_width": null,
       "min_height": null,
       "min_width": null,
       "object_fit": null,
       "object_position": null,
       "order": null,
       "overflow": null,
       "padding": null,
       "right": null,
       "top": null,
       "visibility": null,
       "width": null
      }
     },
     "1928e8336c3f4caeabbeebd0d9e458c5": {
      "model_module": "@jupyter-widgets/controls",
      "model_module_version": "2.0.0",
      "model_name": "HTMLStyleModel",
      "state": {
       "_model_module": "@jupyter-widgets/controls",
       "_model_module_version": "2.0.0",
       "_model_name": "HTMLStyleModel",
       "_view_count": null,
       "_view_module": "@jupyter-widgets/base",
       "_view_module_version": "2.0.0",
       "_view_name": "StyleView",
       "background": null,
       "description_width": "",
       "font_size": null,
       "text_color": null
      }
     },
     "1c5ebc36227c4716bcb54411bfcf3f4f": {
      "model_module": "@jupyter-widgets/controls",
      "model_module_version": "2.0.0",
      "model_name": "ProgressStyleModel",
      "state": {
       "_model_module": "@jupyter-widgets/controls",
       "_model_module_version": "2.0.0",
       "_model_name": "ProgressStyleModel",
       "_view_count": null,
       "_view_module": "@jupyter-widgets/base",
       "_view_module_version": "2.0.0",
       "_view_name": "StyleView",
       "bar_color": null,
       "description_width": ""
      }
     },
     "1c94b6b5e26343abb4d1fa08bdedc3bb": {
      "model_module": "@jupyter-widgets/controls",
      "model_module_version": "2.0.0",
      "model_name": "ProgressStyleModel",
      "state": {
       "_model_module": "@jupyter-widgets/controls",
       "_model_module_version": "2.0.0",
       "_model_name": "ProgressStyleModel",
       "_view_count": null,
       "_view_module": "@jupyter-widgets/base",
       "_view_module_version": "2.0.0",
       "_view_name": "StyleView",
       "bar_color": null,
       "description_width": ""
      }
     },
     "1dca33eb84b442d79e961f3f11eb02d7": {
      "model_module": "@jupyter-widgets/controls",
      "model_module_version": "2.0.0",
      "model_name": "HTMLModel",
      "state": {
       "_dom_classes": [],
       "_model_module": "@jupyter-widgets/controls",
       "_model_module_version": "2.0.0",
       "_model_name": "HTMLModel",
       "_view_count": null,
       "_view_module": "@jupyter-widgets/controls",
       "_view_module_version": "2.0.0",
       "_view_name": "HTMLView",
       "description": "",
       "description_allow_html": false,
       "layout": "IPY_MODEL_f213f589b510413fa06fad081cd5880a",
       "placeholder": "​",
       "style": "IPY_MODEL_4b010c98e1cb4909b53a2716aed2836a",
       "tabbable": null,
       "tooltip": null,
       "value": "special_tokens_map.json: 100%"
      }
     },
     "1fd085adb0e34875a3e010525be30a43": {
      "model_module": "@jupyter-widgets/controls",
      "model_module_version": "2.0.0",
      "model_name": "FloatProgressModel",
      "state": {
       "_dom_classes": [],
       "_model_module": "@jupyter-widgets/controls",
       "_model_module_version": "2.0.0",
       "_model_name": "FloatProgressModel",
       "_view_count": null,
       "_view_module": "@jupyter-widgets/controls",
       "_view_module_version": "2.0.0",
       "_view_name": "ProgressView",
       "bar_style": "success",
       "description": "",
       "description_allow_html": false,
       "layout": "IPY_MODEL_8aa2d05969fe4fc2aec5528592616cce",
       "max": 1795188.0,
       "min": 0.0,
       "orientation": "horizontal",
       "style": "IPY_MODEL_1c5ebc36227c4716bcb54411bfcf3f4f",
       "tabbable": null,
       "tooltip": null,
       "value": 1795188.0
      }
     },
     "2041639a0c73473ba443502da744b465": {
      "model_module": "@jupyter-widgets/controls",
      "model_module_version": "2.0.0",
      "model_name": "FloatProgressModel",
      "state": {
       "_dom_classes": [],
       "_model_module": "@jupyter-widgets/controls",
       "_model_module_version": "2.0.0",
       "_model_name": "FloatProgressModel",
       "_view_count": null,
       "_view_module": "@jupyter-widgets/controls",
       "_view_module_version": "2.0.0",
       "_view_name": "ProgressView",
       "bar_style": "success",
       "description": "",
       "description_allow_html": false,
       "layout": "IPY_MODEL_18952e9038ae4e88af6e418bc62d4772",
       "max": 2.0,
       "min": 0.0,
       "orientation": "horizontal",
       "style": "IPY_MODEL_7ded1437bae34bc4a22683de7f824ac3",
       "tabbable": null,
       "tooltip": null,
       "value": 2.0
      }
     },
     "23381d216faf47a284a5a92e7dd88fe8": {
      "model_module": "@jupyter-widgets/controls",
      "model_module_version": "2.0.0",
      "model_name": "HTMLModel",
      "state": {
       "_dom_classes": [],
       "_model_module": "@jupyter-widgets/controls",
       "_model_module_version": "2.0.0",
       "_model_name": "HTMLModel",
       "_view_count": null,
       "_view_module": "@jupyter-widgets/controls",
       "_view_module_version": "2.0.0",
       "_view_name": "HTMLView",
       "description": "",
       "description_allow_html": false,
       "layout": "IPY_MODEL_05ad085fa580451f88e2caa73f2f1497",
       "placeholder": "​",
       "style": "IPY_MODEL_9746fd723cec4df58ca797a3a9b08e8f",
       "tabbable": null,
       "tooltip": null,
       "value": "tokenizer_config.json: 100%"
      }
     },
     "24abbd5e3c3b45b9bc30230c253cfdec": {
      "model_module": "@jupyter-widgets/controls",
      "model_module_version": "2.0.0",
      "model_name": "HTMLModel",
      "state": {
       "_dom_classes": [],
       "_model_module": "@jupyter-widgets/controls",
       "_model_module_version": "2.0.0",
       "_model_name": "HTMLModel",
       "_view_count": null,
       "_view_module": "@jupyter-widgets/controls",
       "_view_module_version": "2.0.0",
       "_view_name": "HTMLView",
       "description": "",
       "description_allow_html": false,
       "layout": "IPY_MODEL_2b7fde1aa9f44b679abdf7216d10dcbc",
       "placeholder": "​",
       "style": "IPY_MODEL_3b2e7bd47bc3474784af20c47c2354ae",
       "tabbable": null,
       "tooltip": null,
       "value": " 4.54G/4.54G [00:24&lt;00:00, 239MB/s]"
      }
     },
     "24f6b4b67c204a47a052b1ffc146c7b1": {
      "model_module": "@jupyter-widgets/controls",
      "model_module_version": "2.0.0",
      "model_name": "HTMLModel",
      "state": {
       "_dom_classes": [],
       "_model_module": "@jupyter-widgets/controls",
       "_model_module_version": "2.0.0",
       "_model_name": "HTMLModel",
       "_view_count": null,
       "_view_module": "@jupyter-widgets/controls",
       "_view_module_version": "2.0.0",
       "_view_name": "HTMLView",
       "description": "",
       "description_allow_html": false,
       "layout": "IPY_MODEL_fc2fb7ce2eb5404b956e7591d9095f9e",
       "placeholder": "​",
       "style": "IPY_MODEL_2f6957c522fa4952baffbbcb15a1f4e6",
       "tabbable": null,
       "tooltip": null,
       "value": "config.json: 100%"
      }
     },
     "277b3b9928b844b084127e983430f814": {
      "model_module": "@jupyter-widgets/controls",
      "model_module_version": "2.0.0",
      "model_name": "FloatProgressModel",
      "state": {
       "_dom_classes": [],
       "_model_module": "@jupyter-widgets/controls",
       "_model_module_version": "2.0.0",
       "_model_name": "FloatProgressModel",
       "_view_count": null,
       "_view_module": "@jupyter-widgets/controls",
       "_view_module_version": "2.0.0",
       "_view_name": "ProgressView",
       "bar_style": "success",
       "description": "",
       "description_allow_html": false,
       "layout": "IPY_MODEL_279999ed19d2465f826f1e88d50b8160",
       "max": 2.0,
       "min": 0.0,
       "orientation": "horizontal",
       "style": "IPY_MODEL_75bf47e919004038855a0f32ee1861b6",
       "tabbable": null,
       "tooltip": null,
       "value": 2.0
      }
     },
     "279999ed19d2465f826f1e88d50b8160": {
      "model_module": "@jupyter-widgets/base",
      "model_module_version": "2.0.0",
      "model_name": "LayoutModel",
      "state": {
       "_model_module": "@jupyter-widgets/base",
       "_model_module_version": "2.0.0",
       "_model_name": "LayoutModel",
       "_view_count": null,
       "_view_module": "@jupyter-widgets/base",
       "_view_module_version": "2.0.0",
       "_view_name": "LayoutView",
       "align_content": null,
       "align_items": null,
       "align_self": null,
       "border_bottom": null,
       "border_left": null,
       "border_right": null,
       "border_top": null,
       "bottom": null,
       "display": null,
       "flex": null,
       "flex_flow": null,
       "grid_area": null,
       "grid_auto_columns": null,
       "grid_auto_flow": null,
       "grid_auto_rows": null,
       "grid_column": null,
       "grid_gap": null,
       "grid_row": null,
       "grid_template_areas": null,
       "grid_template_columns": null,
       "grid_template_rows": null,
       "height": null,
       "justify_content": null,
       "justify_items": null,
       "left": null,
       "margin": null,
       "max_height": null,
       "max_width": null,
       "min_height": null,
       "min_width": null,
       "object_fit": null,
       "object_position": null,
       "order": null,
       "overflow": null,
       "padding": null,
       "right": null,
       "top": null,
       "visibility": null,
       "width": null
      }
     },
     "29aa4f20d10941ae8350ed0dd402cff5": {
      "model_module": "@jupyter-widgets/base",
      "model_module_version": "2.0.0",
      "model_name": "LayoutModel",
      "state": {
       "_model_module": "@jupyter-widgets/base",
       "_model_module_version": "2.0.0",
       "_model_name": "LayoutModel",
       "_view_count": null,
       "_view_module": "@jupyter-widgets/base",
       "_view_module_version": "2.0.0",
       "_view_name": "LayoutView",
       "align_content": null,
       "align_items": null,
       "align_self": null,
       "border_bottom": null,
       "border_left": null,
       "border_right": null,
       "border_top": null,
       "bottom": null,
       "display": null,
       "flex": null,
       "flex_flow": null,
       "grid_area": null,
       "grid_auto_columns": null,
       "grid_auto_flow": null,
       "grid_auto_rows": null,
       "grid_column": null,
       "grid_gap": null,
       "grid_row": null,
       "grid_template_areas": null,
       "grid_template_columns": null,
       "grid_template_rows": null,
       "height": null,
       "justify_content": null,
       "justify_items": null,
       "left": null,
       "margin": null,
       "max_height": null,
       "max_width": null,
       "min_height": null,
       "min_width": null,
       "object_fit": null,
       "object_position": null,
       "order": null,
       "overflow": null,
       "padding": null,
       "right": null,
       "top": null,
       "visibility": null,
       "width": null
      }
     },
     "2af805424f1c4365a86ffef5c6cb853e": {
      "model_module": "@jupyter-widgets/controls",
      "model_module_version": "2.0.0",
      "model_name": "HTMLModel",
      "state": {
       "_dom_classes": [],
       "_model_module": "@jupyter-widgets/controls",
       "_model_module_version": "2.0.0",
       "_model_name": "HTMLModel",
       "_view_count": null,
       "_view_module": "@jupyter-widgets/controls",
       "_view_module_version": "2.0.0",
       "_view_name": "HTMLView",
       "description": "",
       "description_allow_html": false,
       "layout": "IPY_MODEL_3d3dfa72a9aa4b10a2b8588ee976e32b",
       "placeholder": "​",
       "style": "IPY_MODEL_5a6fe16f521c4e1ca196b534d61cef4d",
       "tabbable": null,
       "tooltip": null,
       "value": "tokenizer.json: 100%"
      }
     },
     "2b7fde1aa9f44b679abdf7216d10dcbc": {
      "model_module": "@jupyter-widgets/base",
      "model_module_version": "2.0.0",
      "model_name": "LayoutModel",
      "state": {
       "_model_module": "@jupyter-widgets/base",
       "_model_module_version": "2.0.0",
       "_model_name": "LayoutModel",
       "_view_count": null,
       "_view_module": "@jupyter-widgets/base",
       "_view_module_version": "2.0.0",
       "_view_name": "LayoutView",
       "align_content": null,
       "align_items": null,
       "align_self": null,
       "border_bottom": null,
       "border_left": null,
       "border_right": null,
       "border_top": null,
       "bottom": null,
       "display": null,
       "flex": null,
       "flex_flow": null,
       "grid_area": null,
       "grid_auto_columns": null,
       "grid_auto_flow": null,
       "grid_auto_rows": null,
       "grid_column": null,
       "grid_gap": null,
       "grid_row": null,
       "grid_template_areas": null,
       "grid_template_columns": null,
       "grid_template_rows": null,
       "height": null,
       "justify_content": null,
       "justify_items": null,
       "left": null,
       "margin": null,
       "max_height": null,
       "max_width": null,
       "min_height": null,
       "min_width": null,
       "object_fit": null,
       "object_position": null,
       "order": null,
       "overflow": null,
       "padding": null,
       "right": null,
       "top": null,
       "visibility": null,
       "width": null
      }
     },
     "2cb48a28ac2c4f1e9e666f1dd08f5da2": {
      "model_module": "@jupyter-widgets/controls",
      "model_module_version": "2.0.0",
      "model_name": "HBoxModel",
      "state": {
       "_dom_classes": [],
       "_model_module": "@jupyter-widgets/controls",
       "_model_module_version": "2.0.0",
       "_model_name": "HBoxModel",
       "_view_count": null,
       "_view_module": "@jupyter-widgets/controls",
       "_view_module_version": "2.0.0",
       "_view_name": "HBoxView",
       "box_style": "",
       "children": [
        "IPY_MODEL_b44f7a35c2e846258c3b9bdfeeae6fe8",
        "IPY_MODEL_63273a262a5f4da4a383fd61be9a1827",
        "IPY_MODEL_6192743274644a8083bfad3af31b8133"
       ],
       "layout": "IPY_MODEL_db5e8735f2ea4ef6b1e3d8b338e52b27",
       "tabbable": null,
       "tooltip": null
      }
     },
     "2cddf02f35d04652855eee1cdfa9fbd7": {
      "model_module": "@jupyter-widgets/controls",
      "model_module_version": "2.0.0",
      "model_name": "HTMLStyleModel",
      "state": {
       "_model_module": "@jupyter-widgets/controls",
       "_model_module_version": "2.0.0",
       "_model_name": "HTMLStyleModel",
       "_view_count": null,
       "_view_module": "@jupyter-widgets/base",
       "_view_module_version": "2.0.0",
       "_view_name": "StyleView",
       "background": null,
       "description_width": "",
       "font_size": null,
       "text_color": null
      }
     },
     "2f6957c522fa4952baffbbcb15a1f4e6": {
      "model_module": "@jupyter-widgets/controls",
      "model_module_version": "2.0.0",
      "model_name": "HTMLStyleModel",
      "state": {
       "_model_module": "@jupyter-widgets/controls",
       "_model_module_version": "2.0.0",
       "_model_name": "HTMLStyleModel",
       "_view_count": null,
       "_view_module": "@jupyter-widgets/base",
       "_view_module_version": "2.0.0",
       "_view_name": "StyleView",
       "background": null,
       "description_width": "",
       "font_size": null,
       "text_color": null
      }
     },
     "323218e91aec40a28669fe3d5d6fe780": {
      "model_module": "@jupyter-widgets/base",
      "model_module_version": "2.0.0",
      "model_name": "LayoutModel",
      "state": {
       "_model_module": "@jupyter-widgets/base",
       "_model_module_version": "2.0.0",
       "_model_name": "LayoutModel",
       "_view_count": null,
       "_view_module": "@jupyter-widgets/base",
       "_view_module_version": "2.0.0",
       "_view_name": "LayoutView",
       "align_content": null,
       "align_items": null,
       "align_self": null,
       "border_bottom": null,
       "border_left": null,
       "border_right": null,
       "border_top": null,
       "bottom": null,
       "display": null,
       "flex": null,
       "flex_flow": null,
       "grid_area": null,
       "grid_auto_columns": null,
       "grid_auto_flow": null,
       "grid_auto_rows": null,
       "grid_column": null,
       "grid_gap": null,
       "grid_row": null,
       "grid_template_areas": null,
       "grid_template_columns": null,
       "grid_template_rows": null,
       "height": null,
       "justify_content": null,
       "justify_items": null,
       "left": null,
       "margin": null,
       "max_height": null,
       "max_width": null,
       "min_height": null,
       "min_width": null,
       "object_fit": null,
       "object_position": null,
       "order": null,
       "overflow": null,
       "padding": null,
       "right": null,
       "top": null,
       "visibility": null,
       "width": null
      }
     },
     "33938d588acd480594562e9a4dbf8bc2": {
      "model_module": "@jupyter-widgets/base",
      "model_module_version": "2.0.0",
      "model_name": "LayoutModel",
      "state": {
       "_model_module": "@jupyter-widgets/base",
       "_model_module_version": "2.0.0",
       "_model_name": "LayoutModel",
       "_view_count": null,
       "_view_module": "@jupyter-widgets/base",
       "_view_module_version": "2.0.0",
       "_view_name": "LayoutView",
       "align_content": null,
       "align_items": null,
       "align_self": null,
       "border_bottom": null,
       "border_left": null,
       "border_right": null,
       "border_top": null,
       "bottom": null,
       "display": null,
       "flex": null,
       "flex_flow": null,
       "grid_area": null,
       "grid_auto_columns": null,
       "grid_auto_flow": null,
       "grid_auto_rows": null,
       "grid_column": null,
       "grid_gap": null,
       "grid_row": null,
       "grid_template_areas": null,
       "grid_template_columns": null,
       "grid_template_rows": null,
       "height": null,
       "justify_content": null,
       "justify_items": null,
       "left": null,
       "margin": null,
       "max_height": null,
       "max_width": null,
       "min_height": null,
       "min_width": null,
       "object_fit": null,
       "object_position": null,
       "order": null,
       "overflow": null,
       "padding": null,
       "right": null,
       "top": null,
       "visibility": null,
       "width": null
      }
     },
     "33bf5541b94d4d1ea4b405f4b38279be": {
      "model_module": "@jupyter-widgets/controls",
      "model_module_version": "2.0.0",
      "model_name": "HTMLStyleModel",
      "state": {
       "_model_module": "@jupyter-widgets/controls",
       "_model_module_version": "2.0.0",
       "_model_name": "HTMLStyleModel",
       "_view_count": null,
       "_view_module": "@jupyter-widgets/base",
       "_view_module_version": "2.0.0",
       "_view_name": "StyleView",
       "background": null,
       "description_width": "",
       "font_size": null,
       "text_color": null
      }
     },
     "38fdb29d793e4293930fd548d3763a20": {
      "model_module": "@jupyter-widgets/controls",
      "model_module_version": "2.0.0",
      "model_name": "HBoxModel",
      "state": {
       "_dom_classes": [],
       "_model_module": "@jupyter-widgets/controls",
       "_model_module_version": "2.0.0",
       "_model_name": "HBoxModel",
       "_view_count": null,
       "_view_module": "@jupyter-widgets/controls",
       "_view_module_version": "2.0.0",
       "_view_name": "HBoxView",
       "box_style": "",
       "children": [
        "IPY_MODEL_7ac006005eeb4e07b7366d1fe79ece5d",
        "IPY_MODEL_8b6aa0c321f042aba8fce05a16af2798",
        "IPY_MODEL_24abbd5e3c3b45b9bc30230c253cfdec"
       ],
       "layout": "IPY_MODEL_d5d7fc4358bc413e80a6582ff36a55da",
       "tabbable": null,
       "tooltip": null
      }
     },
     "3b2e7bd47bc3474784af20c47c2354ae": {
      "model_module": "@jupyter-widgets/controls",
      "model_module_version": "2.0.0",
      "model_name": "HTMLStyleModel",
      "state": {
       "_model_module": "@jupyter-widgets/controls",
       "_model_module_version": "2.0.0",
       "_model_name": "HTMLStyleModel",
       "_view_count": null,
       "_view_module": "@jupyter-widgets/base",
       "_view_module_version": "2.0.0",
       "_view_name": "StyleView",
       "background": null,
       "description_width": "",
       "font_size": null,
       "text_color": null
      }
     },
     "3d3dfa72a9aa4b10a2b8588ee976e32b": {
      "model_module": "@jupyter-widgets/base",
      "model_module_version": "2.0.0",
      "model_name": "LayoutModel",
      "state": {
       "_model_module": "@jupyter-widgets/base",
       "_model_module_version": "2.0.0",
       "_model_name": "LayoutModel",
       "_view_count": null,
       "_view_module": "@jupyter-widgets/base",
       "_view_module_version": "2.0.0",
       "_view_name": "LayoutView",
       "align_content": null,
       "align_items": null,
       "align_self": null,
       "border_bottom": null,
       "border_left": null,
       "border_right": null,
       "border_top": null,
       "bottom": null,
       "display": null,
       "flex": null,
       "flex_flow": null,
       "grid_area": null,
       "grid_auto_columns": null,
       "grid_auto_flow": null,
       "grid_auto_rows": null,
       "grid_column": null,
       "grid_gap": null,
       "grid_row": null,
       "grid_template_areas": null,
       "grid_template_columns": null,
       "grid_template_rows": null,
       "height": null,
       "justify_content": null,
       "justify_items": null,
       "left": null,
       "margin": null,
       "max_height": null,
       "max_width": null,
       "min_height": null,
       "min_width": null,
       "object_fit": null,
       "object_position": null,
       "order": null,
       "overflow": null,
       "padding": null,
       "right": null,
       "top": null,
       "visibility": null,
       "width": null
      }
     },
     "470a945131954b2eae2d1c563b7fbcd3": {
      "model_module": "@jupyter-widgets/controls",
      "model_module_version": "2.0.0",
      "model_name": "ProgressStyleModel",
      "state": {
       "_model_module": "@jupyter-widgets/controls",
       "_model_module_version": "2.0.0",
       "_model_name": "ProgressStyleModel",
       "_view_count": null,
       "_view_module": "@jupyter-widgets/base",
       "_view_module_version": "2.0.0",
       "_view_name": "StyleView",
       "bar_color": null,
       "description_width": ""
      }
     },
     "495b42e286d44a5698c4a3c3a2651f5d": {
      "model_module": "@jupyter-widgets/controls",
      "model_module_version": "2.0.0",
      "model_name": "HTMLModel",
      "state": {
       "_dom_classes": [],
       "_model_module": "@jupyter-widgets/controls",
       "_model_module_version": "2.0.0",
       "_model_name": "HTMLModel",
       "_view_count": null,
       "_view_module": "@jupyter-widgets/controls",
       "_view_module_version": "2.0.0",
       "_view_name": "HTMLView",
       "description": "",
       "description_allow_html": false,
       "layout": "IPY_MODEL_02bed5fcab0f4f618a1e6752159d9e92",
       "placeholder": "​",
       "style": "IPY_MODEL_e444d0eaa6e8450db4cc13b1a1922d03",
       "tabbable": null,
       "tooltip": null,
       "value": " 571/571 [00:00&lt;00:00, 53.0kB/s]"
      }
     },
     "4ab09a2c97214aadb49402818bfe4fab": {
      "model_module": "@jupyter-widgets/base",
      "model_module_version": "2.0.0",
      "model_name": "LayoutModel",
      "state": {
       "_model_module": "@jupyter-widgets/base",
       "_model_module_version": "2.0.0",
       "_model_name": "LayoutModel",
       "_view_count": null,
       "_view_module": "@jupyter-widgets/base",
       "_view_module_version": "2.0.0",
       "_view_name": "LayoutView",
       "align_content": null,
       "align_items": null,
       "align_self": null,
       "border_bottom": null,
       "border_left": null,
       "border_right": null,
       "border_top": null,
       "bottom": null,
       "display": null,
       "flex": null,
       "flex_flow": null,
       "grid_area": null,
       "grid_auto_columns": null,
       "grid_auto_flow": null,
       "grid_auto_rows": null,
       "grid_column": null,
       "grid_gap": null,
       "grid_row": null,
       "grid_template_areas": null,
       "grid_template_columns": null,
       "grid_template_rows": null,
       "height": null,
       "justify_content": null,
       "justify_items": null,
       "left": null,
       "margin": null,
       "max_height": null,
       "max_width": null,
       "min_height": null,
       "min_width": null,
       "object_fit": null,
       "object_position": null,
       "order": null,
       "overflow": null,
       "padding": null,
       "right": null,
       "top": null,
       "visibility": null,
       "width": null
      }
     },
     "4b010c98e1cb4909b53a2716aed2836a": {
      "model_module": "@jupyter-widgets/controls",
      "model_module_version": "2.0.0",
      "model_name": "HTMLStyleModel",
      "state": {
       "_model_module": "@jupyter-widgets/controls",
       "_model_module_version": "2.0.0",
       "_model_name": "HTMLStyleModel",
       "_view_count": null,
       "_view_module": "@jupyter-widgets/base",
       "_view_module_version": "2.0.0",
       "_view_name": "StyleView",
       "background": null,
       "description_width": "",
       "font_size": null,
       "text_color": null
      }
     },
     "54e9663913f748f9be6a83bc2a75e813": {
      "model_module": "@jupyter-widgets/controls",
      "model_module_version": "2.0.0",
      "model_name": "ProgressStyleModel",
      "state": {
       "_model_module": "@jupyter-widgets/controls",
       "_model_module_version": "2.0.0",
       "_model_name": "ProgressStyleModel",
       "_view_count": null,
       "_view_module": "@jupyter-widgets/base",
       "_view_module_version": "2.0.0",
       "_view_name": "StyleView",
       "bar_color": null,
       "description_width": ""
      }
     },
     "5579b624029c49ed8a03cdfaea10dcb1": {
      "model_module": "@jupyter-widgets/base",
      "model_module_version": "2.0.0",
      "model_name": "LayoutModel",
      "state": {
       "_model_module": "@jupyter-widgets/base",
       "_model_module_version": "2.0.0",
       "_model_name": "LayoutModel",
       "_view_count": null,
       "_view_module": "@jupyter-widgets/base",
       "_view_module_version": "2.0.0",
       "_view_name": "LayoutView",
       "align_content": null,
       "align_items": null,
       "align_self": null,
       "border_bottom": null,
       "border_left": null,
       "border_right": null,
       "border_top": null,
       "bottom": null,
       "display": null,
       "flex": null,
       "flex_flow": null,
       "grid_area": null,
       "grid_auto_columns": null,
       "grid_auto_flow": null,
       "grid_auto_rows": null,
       "grid_column": null,
       "grid_gap": null,
       "grid_row": null,
       "grid_template_areas": null,
       "grid_template_columns": null,
       "grid_template_rows": null,
       "height": null,
       "justify_content": null,
       "justify_items": null,
       "left": null,
       "margin": null,
       "max_height": null,
       "max_width": null,
       "min_height": null,
       "min_width": null,
       "object_fit": null,
       "object_position": null,
       "order": null,
       "overflow": null,
       "padding": null,
       "right": null,
       "top": null,
       "visibility": null,
       "width": null
      }
     },
     "5947b280b56c4591a1f29495fd6b4bdd": {
      "model_module": "@jupyter-widgets/controls",
      "model_module_version": "2.0.0",
      "model_name": "HTMLStyleModel",
      "state": {
       "_model_module": "@jupyter-widgets/controls",
       "_model_module_version": "2.0.0",
       "_model_name": "HTMLStyleModel",
       "_view_count": null,
       "_view_module": "@jupyter-widgets/base",
       "_view_module_version": "2.0.0",
       "_view_name": "StyleView",
       "background": null,
       "description_width": "",
       "font_size": null,
       "text_color": null
      }
     },
     "5a6fe16f521c4e1ca196b534d61cef4d": {
      "model_module": "@jupyter-widgets/controls",
      "model_module_version": "2.0.0",
      "model_name": "HTMLStyleModel",
      "state": {
       "_model_module": "@jupyter-widgets/controls",
       "_model_module_version": "2.0.0",
       "_model_name": "HTMLStyleModel",
       "_view_count": null,
       "_view_module": "@jupyter-widgets/base",
       "_view_module_version": "2.0.0",
       "_view_name": "StyleView",
       "background": null,
       "description_width": "",
       "font_size": null,
       "text_color": null
      }
     },
     "5bcebbb2436f4b0b9d6ca2ae33bcba44": {
      "model_module": "@jupyter-widgets/controls",
      "model_module_version": "2.0.0",
      "model_name": "HBoxModel",
      "state": {
       "_dom_classes": [],
       "_model_module": "@jupyter-widgets/controls",
       "_model_module_version": "2.0.0",
       "_model_name": "HBoxModel",
       "_view_count": null,
       "_view_module": "@jupyter-widgets/controls",
       "_view_module_version": "2.0.0",
       "_view_name": "HBoxView",
       "box_style": "",
       "children": [
        "IPY_MODEL_1dca33eb84b442d79e961f3f11eb02d7",
        "IPY_MODEL_b0044537e0a5492ca20c99242662efc4",
        "IPY_MODEL_ec6b1135e1b94fce8348b159c141c557"
       ],
       "layout": "IPY_MODEL_df3670afc77f44cc8383456727becec7",
       "tabbable": null,
       "tooltip": null
      }
     },
     "5d2cdbad99994379b8ce26b49553e2fe": {
      "model_module": "@jupyter-widgets/controls",
      "model_module_version": "2.0.0",
      "model_name": "HTMLModel",
      "state": {
       "_dom_classes": [],
       "_model_module": "@jupyter-widgets/controls",
       "_model_module_version": "2.0.0",
       "_model_name": "HTMLModel",
       "_view_count": null,
       "_view_module": "@jupyter-widgets/controls",
       "_view_module_version": "2.0.0",
       "_view_name": "HTMLView",
       "description": "",
       "description_allow_html": false,
       "layout": "IPY_MODEL_81854e42f7d745ddac9272ef59bcc273",
       "placeholder": "​",
       "style": "IPY_MODEL_f7921fbaf6224d36b83d8702daa9fd09",
       "tabbable": null,
       "tooltip": null,
       "value": " 2/2 [01:17&lt;00:00, 36.33s/it]"
      }
     },
     "5d8dc1b1779843cb982c2731a4a65271": {
      "model_module": "@jupyter-widgets/base",
      "model_module_version": "2.0.0",
      "model_name": "LayoutModel",
      "state": {
       "_model_module": "@jupyter-widgets/base",
       "_model_module_version": "2.0.0",
       "_model_name": "LayoutModel",
       "_view_count": null,
       "_view_module": "@jupyter-widgets/base",
       "_view_module_version": "2.0.0",
       "_view_name": "LayoutView",
       "align_content": null,
       "align_items": null,
       "align_self": null,
       "border_bottom": null,
       "border_left": null,
       "border_right": null,
       "border_top": null,
       "bottom": null,
       "display": null,
       "flex": null,
       "flex_flow": null,
       "grid_area": null,
       "grid_auto_columns": null,
       "grid_auto_flow": null,
       "grid_auto_rows": null,
       "grid_column": null,
       "grid_gap": null,
       "grid_row": null,
       "grid_template_areas": null,
       "grid_template_columns": null,
       "grid_template_rows": null,
       "height": null,
       "justify_content": null,
       "justify_items": null,
       "left": null,
       "margin": null,
       "max_height": null,
       "max_width": null,
       "min_height": null,
       "min_width": null,
       "object_fit": null,
       "object_position": null,
       "order": null,
       "overflow": null,
       "padding": null,
       "right": null,
       "top": null,
       "visibility": null,
       "width": null
      }
     },
     "6192743274644a8083bfad3af31b8133": {
      "model_module": "@jupyter-widgets/controls",
      "model_module_version": "2.0.0",
      "model_name": "HTMLModel",
      "state": {
       "_dom_classes": [],
       "_model_module": "@jupyter-widgets/controls",
       "_model_module_version": "2.0.0",
       "_model_name": "HTMLModel",
       "_view_count": null,
       "_view_module": "@jupyter-widgets/controls",
       "_view_module_version": "2.0.0",
       "_view_name": "HTMLView",
       "description": "",
       "description_allow_html": false,
       "layout": "IPY_MODEL_9c1026d6d2674249822db0e65b518ced",
       "placeholder": "​",
       "style": "IPY_MODEL_ddd6ec1d785e46008d9ebd375ccd24b6",
       "tabbable": null,
       "tooltip": null,
       "value": " 9.94G/9.94G [00:53&lt;00:00, 62.9MB/s]"
      }
     },
     "6258a9f81d6644f0a929379410b3a0b6": {
      "model_module": "@jupyter-widgets/base",
      "model_module_version": "2.0.0",
      "model_name": "LayoutModel",
      "state": {
       "_model_module": "@jupyter-widgets/base",
       "_model_module_version": "2.0.0",
       "_model_name": "LayoutModel",
       "_view_count": null,
       "_view_module": "@jupyter-widgets/base",
       "_view_module_version": "2.0.0",
       "_view_name": "LayoutView",
       "align_content": null,
       "align_items": null,
       "align_self": null,
       "border_bottom": null,
       "border_left": null,
       "border_right": null,
       "border_top": null,
       "bottom": null,
       "display": null,
       "flex": null,
       "flex_flow": null,
       "grid_area": null,
       "grid_auto_columns": null,
       "grid_auto_flow": null,
       "grid_auto_rows": null,
       "grid_column": null,
       "grid_gap": null,
       "grid_row": null,
       "grid_template_areas": null,
       "grid_template_columns": null,
       "grid_template_rows": null,
       "height": null,
       "justify_content": null,
       "justify_items": null,
       "left": null,
       "margin": null,
       "max_height": null,
       "max_width": null,
       "min_height": null,
       "min_width": null,
       "object_fit": null,
       "object_position": null,
       "order": null,
       "overflow": null,
       "padding": null,
       "right": null,
       "top": null,
       "visibility": null,
       "width": null
      }
     },
     "63273a262a5f4da4a383fd61be9a1827": {
      "model_module": "@jupyter-widgets/controls",
      "model_module_version": "2.0.0",
      "model_name": "FloatProgressModel",
      "state": {
       "_dom_classes": [],
       "_model_module": "@jupyter-widgets/controls",
       "_model_module_version": "2.0.0",
       "_model_name": "FloatProgressModel",
       "_view_count": null,
       "_view_module": "@jupyter-widgets/controls",
       "_view_module_version": "2.0.0",
       "_view_name": "ProgressView",
       "bar_style": "success",
       "description": "",
       "description_allow_html": false,
       "layout": "IPY_MODEL_0c5bc8dcfabc42a49d7a25f5f37174b7",
       "max": 9942981696.0,
       "min": 0.0,
       "orientation": "horizontal",
       "style": "IPY_MODEL_fa563ab4fef941b59733f2e37441ac4f",
       "tabbable": null,
       "tooltip": null,
       "value": 9942981696.0
      }
     },
     "6420eec1f1dd4798b4e8d8f8a8bba113": {
      "model_module": "@jupyter-widgets/base",
      "model_module_version": "2.0.0",
      "model_name": "LayoutModel",
      "state": {
       "_model_module": "@jupyter-widgets/base",
       "_model_module_version": "2.0.0",
       "_model_name": "LayoutModel",
       "_view_count": null,
       "_view_module": "@jupyter-widgets/base",
       "_view_module_version": "2.0.0",
       "_view_name": "LayoutView",
       "align_content": null,
       "align_items": null,
       "align_self": null,
       "border_bottom": null,
       "border_left": null,
       "border_right": null,
       "border_top": null,
       "bottom": null,
       "display": null,
       "flex": null,
       "flex_flow": null,
       "grid_area": null,
       "grid_auto_columns": null,
       "grid_auto_flow": null,
       "grid_auto_rows": null,
       "grid_column": null,
       "grid_gap": null,
       "grid_row": null,
       "grid_template_areas": null,
       "grid_template_columns": null,
       "grid_template_rows": null,
       "height": null,
       "justify_content": null,
       "justify_items": null,
       "left": null,
       "margin": null,
       "max_height": null,
       "max_width": null,
       "min_height": null,
       "min_width": null,
       "object_fit": null,
       "object_position": null,
       "order": null,
       "overflow": null,
       "padding": null,
       "right": null,
       "top": null,
       "visibility": null,
       "width": null
      }
     },
     "6674ff89639545ce9b8dcc8a84de8a5a": {
      "model_module": "@jupyter-widgets/controls",
      "model_module_version": "2.0.0",
      "model_name": "HTMLStyleModel",
      "state": {
       "_model_module": "@jupyter-widgets/controls",
       "_model_module_version": "2.0.0",
       "_model_name": "HTMLStyleModel",
       "_view_count": null,
       "_view_module": "@jupyter-widgets/base",
       "_view_module_version": "2.0.0",
       "_view_name": "StyleView",
       "background": null,
       "description_width": "",
       "font_size": null,
       "text_color": null
      }
     },
     "75bf47e919004038855a0f32ee1861b6": {
      "model_module": "@jupyter-widgets/controls",
      "model_module_version": "2.0.0",
      "model_name": "ProgressStyleModel",
      "state": {
       "_model_module": "@jupyter-widgets/controls",
       "_model_module_version": "2.0.0",
       "_model_name": "ProgressStyleModel",
       "_view_count": null,
       "_view_module": "@jupyter-widgets/base",
       "_view_module_version": "2.0.0",
       "_view_name": "StyleView",
       "bar_color": null,
       "description_width": ""
      }
     },
     "76989ff1b31a419f8090dc40d3b01578": {
      "model_module": "@jupyter-widgets/base",
      "model_module_version": "2.0.0",
      "model_name": "LayoutModel",
      "state": {
       "_model_module": "@jupyter-widgets/base",
       "_model_module_version": "2.0.0",
       "_model_name": "LayoutModel",
       "_view_count": null,
       "_view_module": "@jupyter-widgets/base",
       "_view_module_version": "2.0.0",
       "_view_name": "LayoutView",
       "align_content": null,
       "align_items": null,
       "align_self": null,
       "border_bottom": null,
       "border_left": null,
       "border_right": null,
       "border_top": null,
       "bottom": null,
       "display": null,
       "flex": null,
       "flex_flow": null,
       "grid_area": null,
       "grid_auto_columns": null,
       "grid_auto_flow": null,
       "grid_auto_rows": null,
       "grid_column": null,
       "grid_gap": null,
       "grid_row": null,
       "grid_template_areas": null,
       "grid_template_columns": null,
       "grid_template_rows": null,
       "height": null,
       "justify_content": null,
       "justify_items": null,
       "left": null,
       "margin": null,
       "max_height": null,
       "max_width": null,
       "min_height": null,
       "min_width": null,
       "object_fit": null,
       "object_position": null,
       "order": null,
       "overflow": null,
       "padding": null,
       "right": null,
       "top": null,
       "visibility": null,
       "width": null
      }
     },
     "78d6565879384a179e2d165fe1646dc3": {
      "model_module": "@jupyter-widgets/controls",
      "model_module_version": "2.0.0",
      "model_name": "HTMLModel",
      "state": {
       "_dom_classes": [],
       "_model_module": "@jupyter-widgets/controls",
       "_model_module_version": "2.0.0",
       "_model_name": "HTMLModel",
       "_view_count": null,
       "_view_module": "@jupyter-widgets/controls",
       "_view_module_version": "2.0.0",
       "_view_name": "HTMLView",
       "description": "",
       "description_allow_html": false,
       "layout": "IPY_MODEL_9de6d88074024921b04dd0c15085e64f",
       "placeholder": "​",
       "style": "IPY_MODEL_1928e8336c3f4caeabbeebd0d9e458c5",
       "tabbable": null,
       "tooltip": null,
       "value": " 493k/493k [00:00&lt;00:00, 9.86MB/s]"
      }
     },
     "7ac006005eeb4e07b7366d1fe79ece5d": {
      "model_module": "@jupyter-widgets/controls",
      "model_module_version": "2.0.0",
      "model_name": "HTMLModel",
      "state": {
       "_dom_classes": [],
       "_model_module": "@jupyter-widgets/controls",
       "_model_module_version": "2.0.0",
       "_model_name": "HTMLModel",
       "_view_count": null,
       "_view_module": "@jupyter-widgets/controls",
       "_view_module_version": "2.0.0",
       "_view_name": "HTMLView",
       "description": "",
       "description_allow_html": false,
       "layout": "IPY_MODEL_4ab09a2c97214aadb49402818bfe4fab",
       "placeholder": "​",
       "style": "IPY_MODEL_0b1a54cd141e4b66931ef1530530b8f9",
       "tabbable": null,
       "tooltip": null,
       "value": "model-00002-of-00002.safetensors: 100%"
      }
     },
     "7b7b7961279e495b82ce3756a3b75731": {
      "model_module": "@jupyter-widgets/controls",
      "model_module_version": "2.0.0",
      "model_name": "HBoxModel",
      "state": {
       "_dom_classes": [],
       "_model_module": "@jupyter-widgets/controls",
       "_model_module_version": "2.0.0",
       "_model_name": "HBoxModel",
       "_view_count": null,
       "_view_module": "@jupyter-widgets/controls",
       "_view_module_version": "2.0.0",
       "_view_name": "HBoxView",
       "box_style": "",
       "children": [
        "IPY_MODEL_052afffae5504dcfb15e5a92ecbbf7d5",
        "IPY_MODEL_9cb153670e444aa4b92b7e60c5aa4d4b",
        "IPY_MODEL_78d6565879384a179e2d165fe1646dc3"
       ],
       "layout": "IPY_MODEL_29aa4f20d10941ae8350ed0dd402cff5",
       "tabbable": null,
       "tooltip": null
      }
     },
     "7ccc20d8d39d478f9893423bd37f573d": {
      "model_module": "@jupyter-widgets/controls",
      "model_module_version": "2.0.0",
      "model_name": "HTMLModel",
      "state": {
       "_dom_classes": [],
       "_model_module": "@jupyter-widgets/controls",
       "_model_module_version": "2.0.0",
       "_model_name": "HTMLModel",
       "_view_count": null,
       "_view_module": "@jupyter-widgets/controls",
       "_view_module_version": "2.0.0",
       "_view_name": "HTMLView",
       "description": "",
       "description_allow_html": false,
       "layout": "IPY_MODEL_b0c0de49dde84609976caab66a421c18",
       "placeholder": "​",
       "style": "IPY_MODEL_6674ff89639545ce9b8dcc8a84de8a5a",
       "tabbable": null,
       "tooltip": null,
       "value": " 25.1k/25.1k [00:00&lt;00:00, 2.28MB/s]"
      }
     },
     "7ded1437bae34bc4a22683de7f824ac3": {
      "model_module": "@jupyter-widgets/controls",
      "model_module_version": "2.0.0",
      "model_name": "ProgressStyleModel",
      "state": {
       "_model_module": "@jupyter-widgets/controls",
       "_model_module_version": "2.0.0",
       "_model_name": "ProgressStyleModel",
       "_view_count": null,
       "_view_module": "@jupyter-widgets/base",
       "_view_module_version": "2.0.0",
       "_view_name": "StyleView",
       "bar_color": null,
       "description_width": ""
      }
     },
     "81854e42f7d745ddac9272ef59bcc273": {
      "model_module": "@jupyter-widgets/base",
      "model_module_version": "2.0.0",
      "model_name": "LayoutModel",
      "state": {
       "_model_module": "@jupyter-widgets/base",
       "_model_module_version": "2.0.0",
       "_model_name": "LayoutModel",
       "_view_count": null,
       "_view_module": "@jupyter-widgets/base",
       "_view_module_version": "2.0.0",
       "_view_name": "LayoutView",
       "align_content": null,
       "align_items": null,
       "align_self": null,
       "border_bottom": null,
       "border_left": null,
       "border_right": null,
       "border_top": null,
       "bottom": null,
       "display": null,
       "flex": null,
       "flex_flow": null,
       "grid_area": null,
       "grid_auto_columns": null,
       "grid_auto_flow": null,
       "grid_auto_rows": null,
       "grid_column": null,
       "grid_gap": null,
       "grid_row": null,
       "grid_template_areas": null,
       "grid_template_columns": null,
       "grid_template_rows": null,
       "height": null,
       "justify_content": null,
       "justify_items": null,
       "left": null,
       "margin": null,
       "max_height": null,
       "max_width": null,
       "min_height": null,
       "min_width": null,
       "object_fit": null,
       "object_position": null,
       "order": null,
       "overflow": null,
       "padding": null,
       "right": null,
       "top": null,
       "visibility": null,
       "width": null
      }
     },
     "85c0d57715514732a7e2544a5f8b1fdf": {
      "model_module": "@jupyter-widgets/base",
      "model_module_version": "2.0.0",
      "model_name": "LayoutModel",
      "state": {
       "_model_module": "@jupyter-widgets/base",
       "_model_module_version": "2.0.0",
       "_model_name": "LayoutModel",
       "_view_count": null,
       "_view_module": "@jupyter-widgets/base",
       "_view_module_version": "2.0.0",
       "_view_name": "LayoutView",
       "align_content": null,
       "align_items": null,
       "align_self": null,
       "border_bottom": null,
       "border_left": null,
       "border_right": null,
       "border_top": null,
       "bottom": null,
       "display": null,
       "flex": null,
       "flex_flow": null,
       "grid_area": null,
       "grid_auto_columns": null,
       "grid_auto_flow": null,
       "grid_auto_rows": null,
       "grid_column": null,
       "grid_gap": null,
       "grid_row": null,
       "grid_template_areas": null,
       "grid_template_columns": null,
       "grid_template_rows": null,
       "height": null,
       "justify_content": null,
       "justify_items": null,
       "left": null,
       "margin": null,
       "max_height": null,
       "max_width": null,
       "min_height": null,
       "min_width": null,
       "object_fit": null,
       "object_position": null,
       "order": null,
       "overflow": null,
       "padding": null,
       "right": null,
       "top": null,
       "visibility": null,
       "width": null
      }
     },
     "8953f644942f4fcca008d29d81e28430": {
      "model_module": "@jupyter-widgets/base",
      "model_module_version": "2.0.0",
      "model_name": "LayoutModel",
      "state": {
       "_model_module": "@jupyter-widgets/base",
       "_model_module_version": "2.0.0",
       "_model_name": "LayoutModel",
       "_view_count": null,
       "_view_module": "@jupyter-widgets/base",
       "_view_module_version": "2.0.0",
       "_view_name": "LayoutView",
       "align_content": null,
       "align_items": null,
       "align_self": null,
       "border_bottom": null,
       "border_left": null,
       "border_right": null,
       "border_top": null,
       "bottom": null,
       "display": null,
       "flex": null,
       "flex_flow": null,
       "grid_area": null,
       "grid_auto_columns": null,
       "grid_auto_flow": null,
       "grid_auto_rows": null,
       "grid_column": null,
       "grid_gap": null,
       "grid_row": null,
       "grid_template_areas": null,
       "grid_template_columns": null,
       "grid_template_rows": null,
       "height": null,
       "justify_content": null,
       "justify_items": null,
       "left": null,
       "margin": null,
       "max_height": null,
       "max_width": null,
       "min_height": null,
       "min_width": null,
       "object_fit": null,
       "object_position": null,
       "order": null,
       "overflow": null,
       "padding": null,
       "right": null,
       "top": null,
       "visibility": null,
       "width": null
      }
     },
     "8aa2d05969fe4fc2aec5528592616cce": {
      "model_module": "@jupyter-widgets/base",
      "model_module_version": "2.0.0",
      "model_name": "LayoutModel",
      "state": {
       "_model_module": "@jupyter-widgets/base",
       "_model_module_version": "2.0.0",
       "_model_name": "LayoutModel",
       "_view_count": null,
       "_view_module": "@jupyter-widgets/base",
       "_view_module_version": "2.0.0",
       "_view_name": "LayoutView",
       "align_content": null,
       "align_items": null,
       "align_self": null,
       "border_bottom": null,
       "border_left": null,
       "border_right": null,
       "border_top": null,
       "bottom": null,
       "display": null,
       "flex": null,
       "flex_flow": null,
       "grid_area": null,
       "grid_auto_columns": null,
       "grid_auto_flow": null,
       "grid_auto_rows": null,
       "grid_column": null,
       "grid_gap": null,
       "grid_row": null,
       "grid_template_areas": null,
       "grid_template_columns": null,
       "grid_template_rows": null,
       "height": null,
       "justify_content": null,
       "justify_items": null,
       "left": null,
       "margin": null,
       "max_height": null,
       "max_width": null,
       "min_height": null,
       "min_width": null,
       "object_fit": null,
       "object_position": null,
       "order": null,
       "overflow": null,
       "padding": null,
       "right": null,
       "top": null,
       "visibility": null,
       "width": null
      }
     },
     "8b6aa0c321f042aba8fce05a16af2798": {
      "model_module": "@jupyter-widgets/controls",
      "model_module_version": "2.0.0",
      "model_name": "FloatProgressModel",
      "state": {
       "_dom_classes": [],
       "_model_module": "@jupyter-widgets/controls",
       "_model_module_version": "2.0.0",
       "_model_name": "FloatProgressModel",
       "_view_count": null,
       "_view_module": "@jupyter-widgets/controls",
       "_view_module_version": "2.0.0",
       "_view_name": "ProgressView",
       "bar_style": "success",
       "description": "",
       "description_allow_html": false,
       "layout": "IPY_MODEL_a8168f1bdb1447bda1b83c359321d054",
       "max": 4540516344.0,
       "min": 0.0,
       "orientation": "horizontal",
       "style": "IPY_MODEL_f75e6e1e4be544bb925fc9c946294ea7",
       "tabbable": null,
       "tooltip": null,
       "value": 4540516344.0
      }
     },
     "8faa5441363e430394ddc7aee382674b": {
      "model_module": "@jupyter-widgets/controls",
      "model_module_version": "2.0.0",
      "model_name": "FloatProgressModel",
      "state": {
       "_dom_classes": [],
       "_model_module": "@jupyter-widgets/controls",
       "_model_module_version": "2.0.0",
       "_model_name": "FloatProgressModel",
       "_view_count": null,
       "_view_module": "@jupyter-widgets/controls",
       "_view_module_version": "2.0.0",
       "_view_name": "ProgressView",
       "bar_style": "success",
       "description": "",
       "description_allow_html": false,
       "layout": "IPY_MODEL_9bd98a24df11434b9f46b3a245e5e93c",
       "max": 25125.0,
       "min": 0.0,
       "orientation": "horizontal",
       "style": "IPY_MODEL_54e9663913f748f9be6a83bc2a75e813",
       "tabbable": null,
       "tooltip": null,
       "value": 25125.0
      }
     },
     "948c3464f3e544e0a173aeb0117ec94a": {
      "model_module": "@jupyter-widgets/controls",
      "model_module_version": "2.0.0",
      "model_name": "HTMLStyleModel",
      "state": {
       "_model_module": "@jupyter-widgets/controls",
       "_model_module_version": "2.0.0",
       "_model_name": "HTMLStyleModel",
       "_view_count": null,
       "_view_module": "@jupyter-widgets/base",
       "_view_module_version": "2.0.0",
       "_view_name": "StyleView",
       "background": null,
       "description_width": "",
       "font_size": null,
       "text_color": null
      }
     },
     "9746fd723cec4df58ca797a3a9b08e8f": {
      "model_module": "@jupyter-widgets/controls",
      "model_module_version": "2.0.0",
      "model_name": "HTMLStyleModel",
      "state": {
       "_model_module": "@jupyter-widgets/controls",
       "_model_module_version": "2.0.0",
       "_model_name": "HTMLStyleModel",
       "_view_count": null,
       "_view_module": "@jupyter-widgets/base",
       "_view_module_version": "2.0.0",
       "_view_name": "StyleView",
       "background": null,
       "description_width": "",
       "font_size": null,
       "text_color": null
      }
     },
     "9bd98a24df11434b9f46b3a245e5e93c": {
      "model_module": "@jupyter-widgets/base",
      "model_module_version": "2.0.0",
      "model_name": "LayoutModel",
      "state": {
       "_model_module": "@jupyter-widgets/base",
       "_model_module_version": "2.0.0",
       "_model_name": "LayoutModel",
       "_view_count": null,
       "_view_module": "@jupyter-widgets/base",
       "_view_module_version": "2.0.0",
       "_view_name": "LayoutView",
       "align_content": null,
       "align_items": null,
       "align_self": null,
       "border_bottom": null,
       "border_left": null,
       "border_right": null,
       "border_top": null,
       "bottom": null,
       "display": null,
       "flex": null,
       "flex_flow": null,
       "grid_area": null,
       "grid_auto_columns": null,
       "grid_auto_flow": null,
       "grid_auto_rows": null,
       "grid_column": null,
       "grid_gap": null,
       "grid_row": null,
       "grid_template_areas": null,
       "grid_template_columns": null,
       "grid_template_rows": null,
       "height": null,
       "justify_content": null,
       "justify_items": null,
       "left": null,
       "margin": null,
       "max_height": null,
       "max_width": null,
       "min_height": null,
       "min_width": null,
       "object_fit": null,
       "object_position": null,
       "order": null,
       "overflow": null,
       "padding": null,
       "right": null,
       "top": null,
       "visibility": null,
       "width": null
      }
     },
     "9c1026d6d2674249822db0e65b518ced": {
      "model_module": "@jupyter-widgets/base",
      "model_module_version": "2.0.0",
      "model_name": "LayoutModel",
      "state": {
       "_model_module": "@jupyter-widgets/base",
       "_model_module_version": "2.0.0",
       "_model_name": "LayoutModel",
       "_view_count": null,
       "_view_module": "@jupyter-widgets/base",
       "_view_module_version": "2.0.0",
       "_view_name": "LayoutView",
       "align_content": null,
       "align_items": null,
       "align_self": null,
       "border_bottom": null,
       "border_left": null,
       "border_right": null,
       "border_top": null,
       "bottom": null,
       "display": null,
       "flex": null,
       "flex_flow": null,
       "grid_area": null,
       "grid_auto_columns": null,
       "grid_auto_flow": null,
       "grid_auto_rows": null,
       "grid_column": null,
       "grid_gap": null,
       "grid_row": null,
       "grid_template_areas": null,
       "grid_template_columns": null,
       "grid_template_rows": null,
       "height": null,
       "justify_content": null,
       "justify_items": null,
       "left": null,
       "margin": null,
       "max_height": null,
       "max_width": null,
       "min_height": null,
       "min_width": null,
       "object_fit": null,
       "object_position": null,
       "order": null,
       "overflow": null,
       "padding": null,
       "right": null,
       "top": null,
       "visibility": null,
       "width": null
      }
     },
     "9cb153670e444aa4b92b7e60c5aa4d4b": {
      "model_module": "@jupyter-widgets/controls",
      "model_module_version": "2.0.0",
      "model_name": "FloatProgressModel",
      "state": {
       "_dom_classes": [],
       "_model_module": "@jupyter-widgets/controls",
       "_model_module_version": "2.0.0",
       "_model_name": "FloatProgressModel",
       "_view_count": null,
       "_view_module": "@jupyter-widgets/controls",
       "_view_module_version": "2.0.0",
       "_view_name": "ProgressView",
       "bar_style": "success",
       "description": "",
       "description_allow_html": false,
       "layout": "IPY_MODEL_ab51430208c243cf9ee0c2b2f69083ae",
       "max": 493443.0,
       "min": 0.0,
       "orientation": "horizontal",
       "style": "IPY_MODEL_afb5800993c14720812606e4919e5f17",
       "tabbable": null,
       "tooltip": null,
       "value": 493443.0
      }
     },
     "9de6d88074024921b04dd0c15085e64f": {
      "model_module": "@jupyter-widgets/base",
      "model_module_version": "2.0.0",
      "model_name": "LayoutModel",
      "state": {
       "_model_module": "@jupyter-widgets/base",
       "_model_module_version": "2.0.0",
       "_model_name": "LayoutModel",
       "_view_count": null,
       "_view_module": "@jupyter-widgets/base",
       "_view_module_version": "2.0.0",
       "_view_name": "LayoutView",
       "align_content": null,
       "align_items": null,
       "align_self": null,
       "border_bottom": null,
       "border_left": null,
       "border_right": null,
       "border_top": null,
       "bottom": null,
       "display": null,
       "flex": null,
       "flex_flow": null,
       "grid_area": null,
       "grid_auto_columns": null,
       "grid_auto_flow": null,
       "grid_auto_rows": null,
       "grid_column": null,
       "grid_gap": null,
       "grid_row": null,
       "grid_template_areas": null,
       "grid_template_columns": null,
       "grid_template_rows": null,
       "height": null,
       "justify_content": null,
       "justify_items": null,
       "left": null,
       "margin": null,
       "max_height": null,
       "max_width": null,
       "min_height": null,
       "min_width": null,
       "object_fit": null,
       "object_position": null,
       "order": null,
       "overflow": null,
       "padding": null,
       "right": null,
       "top": null,
       "visibility": null,
       "width": null
      }
     },
     "9e8ec23d4fdb46a09322f29e69584363": {
      "model_module": "@jupyter-widgets/controls",
      "model_module_version": "2.0.0",
      "model_name": "HBoxModel",
      "state": {
       "_dom_classes": [],
       "_model_module": "@jupyter-widgets/controls",
       "_model_module_version": "2.0.0",
       "_model_name": "HBoxModel",
       "_view_count": null,
       "_view_module": "@jupyter-widgets/controls",
       "_view_module_version": "2.0.0",
       "_view_name": "HBoxView",
       "box_style": "",
       "children": [
        "IPY_MODEL_158adb20189943f88737801c424637c9",
        "IPY_MODEL_8faa5441363e430394ddc7aee382674b",
        "IPY_MODEL_7ccc20d8d39d478f9893423bd37f573d"
       ],
       "layout": "IPY_MODEL_be6c9cf25ab04c6c879531905495dc6b",
       "tabbable": null,
       "tooltip": null
      }
     },
     "a3833f3bb0c444a08e27a1cca2928b97": {
      "model_module": "@jupyter-widgets/controls",
      "model_module_version": "2.0.0",
      "model_name": "HTMLStyleModel",
      "state": {
       "_model_module": "@jupyter-widgets/controls",
       "_model_module_version": "2.0.0",
       "_model_name": "HTMLStyleModel",
       "_view_count": null,
       "_view_module": "@jupyter-widgets/base",
       "_view_module_version": "2.0.0",
       "_view_name": "StyleView",
       "background": null,
       "description_width": "",
       "font_size": null,
       "text_color": null
      }
     },
     "a8168f1bdb1447bda1b83c359321d054": {
      "model_module": "@jupyter-widgets/base",
      "model_module_version": "2.0.0",
      "model_name": "LayoutModel",
      "state": {
       "_model_module": "@jupyter-widgets/base",
       "_model_module_version": "2.0.0",
       "_model_name": "LayoutModel",
       "_view_count": null,
       "_view_module": "@jupyter-widgets/base",
       "_view_module_version": "2.0.0",
       "_view_name": "LayoutView",
       "align_content": null,
       "align_items": null,
       "align_self": null,
       "border_bottom": null,
       "border_left": null,
       "border_right": null,
       "border_top": null,
       "bottom": null,
       "display": null,
       "flex": null,
       "flex_flow": null,
       "grid_area": null,
       "grid_auto_columns": null,
       "grid_auto_flow": null,
       "grid_auto_rows": null,
       "grid_column": null,
       "grid_gap": null,
       "grid_row": null,
       "grid_template_areas": null,
       "grid_template_columns": null,
       "grid_template_rows": null,
       "height": null,
       "justify_content": null,
       "justify_items": null,
       "left": null,
       "margin": null,
       "max_height": null,
       "max_width": null,
       "min_height": null,
       "min_width": null,
       "object_fit": null,
       "object_position": null,
       "order": null,
       "overflow": null,
       "padding": null,
       "right": null,
       "top": null,
       "visibility": null,
       "width": null
      }
     },
     "a957a58c752040a4894da5beb1702863": {
      "model_module": "@jupyter-widgets/base",
      "model_module_version": "2.0.0",
      "model_name": "LayoutModel",
      "state": {
       "_model_module": "@jupyter-widgets/base",
       "_model_module_version": "2.0.0",
       "_model_name": "LayoutModel",
       "_view_count": null,
       "_view_module": "@jupyter-widgets/base",
       "_view_module_version": "2.0.0",
       "_view_name": "LayoutView",
       "align_content": null,
       "align_items": null,
       "align_self": null,
       "border_bottom": null,
       "border_left": null,
       "border_right": null,
       "border_top": null,
       "bottom": null,
       "display": null,
       "flex": null,
       "flex_flow": null,
       "grid_area": null,
       "grid_auto_columns": null,
       "grid_auto_flow": null,
       "grid_auto_rows": null,
       "grid_column": null,
       "grid_gap": null,
       "grid_row": null,
       "grid_template_areas": null,
       "grid_template_columns": null,
       "grid_template_rows": null,
       "height": null,
       "justify_content": null,
       "justify_items": null,
       "left": null,
       "margin": null,
       "max_height": null,
       "max_width": null,
       "min_height": null,
       "min_width": null,
       "object_fit": null,
       "object_position": null,
       "order": null,
       "overflow": null,
       "padding": null,
       "right": null,
       "top": null,
       "visibility": null,
       "width": null
      }
     },
     "a9b87bd39b374a57bc4a75b44e677a6d": {
      "model_module": "@jupyter-widgets/controls",
      "model_module_version": "2.0.0",
      "model_name": "HTMLStyleModel",
      "state": {
       "_model_module": "@jupyter-widgets/controls",
       "_model_module_version": "2.0.0",
       "_model_name": "HTMLStyleModel",
       "_view_count": null,
       "_view_module": "@jupyter-widgets/base",
       "_view_module_version": "2.0.0",
       "_view_name": "StyleView",
       "background": null,
       "description_width": "",
       "font_size": null,
       "text_color": null
      }
     },
     "aa389a644f014850a68c90f0dcdc8e1c": {
      "model_module": "@jupyter-widgets/controls",
      "model_module_version": "2.0.0",
      "model_name": "HBoxModel",
      "state": {
       "_dom_classes": [],
       "_model_module": "@jupyter-widgets/controls",
       "_model_module_version": "2.0.0",
       "_model_name": "HBoxModel",
       "_view_count": null,
       "_view_module": "@jupyter-widgets/controls",
       "_view_module_version": "2.0.0",
       "_view_name": "HBoxView",
       "box_style": "",
       "children": [
        "IPY_MODEL_2af805424f1c4365a86ffef5c6cb853e",
        "IPY_MODEL_1fd085adb0e34875a3e010525be30a43",
        "IPY_MODEL_d25a33f18d38464aacafb311784afe75"
       ],
       "layout": "IPY_MODEL_b892e2842cda4f109d88b52135f62d5e",
       "tabbable": null,
       "tooltip": null
      }
     },
     "ab51430208c243cf9ee0c2b2f69083ae": {
      "model_module": "@jupyter-widgets/base",
      "model_module_version": "2.0.0",
      "model_name": "LayoutModel",
      "state": {
       "_model_module": "@jupyter-widgets/base",
       "_model_module_version": "2.0.0",
       "_model_name": "LayoutModel",
       "_view_count": null,
       "_view_module": "@jupyter-widgets/base",
       "_view_module_version": "2.0.0",
       "_view_name": "LayoutView",
       "align_content": null,
       "align_items": null,
       "align_self": null,
       "border_bottom": null,
       "border_left": null,
       "border_right": null,
       "border_top": null,
       "bottom": null,
       "display": null,
       "flex": null,
       "flex_flow": null,
       "grid_area": null,
       "grid_auto_columns": null,
       "grid_auto_flow": null,
       "grid_auto_rows": null,
       "grid_column": null,
       "grid_gap": null,
       "grid_row": null,
       "grid_template_areas": null,
       "grid_template_columns": null,
       "grid_template_rows": null,
       "height": null,
       "justify_content": null,
       "justify_items": null,
       "left": null,
       "margin": null,
       "max_height": null,
       "max_width": null,
       "min_height": null,
       "min_width": null,
       "object_fit": null,
       "object_position": null,
       "order": null,
       "overflow": null,
       "padding": null,
       "right": null,
       "top": null,
       "visibility": null,
       "width": null
      }
     },
     "abed7752771845dea538334db066a239": {
      "model_module": "@jupyter-widgets/controls",
      "model_module_version": "2.0.0",
      "model_name": "FloatProgressModel",
      "state": {
       "_dom_classes": [],
       "_model_module": "@jupyter-widgets/controls",
       "_model_module_version": "2.0.0",
       "_model_name": "FloatProgressModel",
       "_view_count": null,
       "_view_module": "@jupyter-widgets/controls",
       "_view_module_version": "2.0.0",
       "_view_name": "ProgressView",
       "bar_style": "success",
       "description": "",
       "description_allow_html": false,
       "layout": "IPY_MODEL_323218e91aec40a28669fe3d5d6fe780",
       "max": 116.0,
       "min": 0.0,
       "orientation": "horizontal",
       "style": "IPY_MODEL_1c94b6b5e26343abb4d1fa08bdedc3bb",
       "tabbable": null,
       "tooltip": null,
       "value": 116.0
      }
     },
     "ad017fc3efe44fd9869e5620c1dc2e94": {
      "model_module": "@jupyter-widgets/controls",
      "model_module_version": "2.0.0",
      "model_name": "HBoxModel",
      "state": {
       "_dom_classes": [],
       "_model_module": "@jupyter-widgets/controls",
       "_model_module_version": "2.0.0",
       "_model_name": "HBoxModel",
       "_view_count": null,
       "_view_module": "@jupyter-widgets/controls",
       "_view_module_version": "2.0.0",
       "_view_name": "HBoxView",
       "box_style": "",
       "children": [
        "IPY_MODEL_b0f4854f1b5e41609b639fc3ea5962b2",
        "IPY_MODEL_abed7752771845dea538334db066a239",
        "IPY_MODEL_e9e40faea8c246deaf08da8166520b93"
       ],
       "layout": "IPY_MODEL_8953f644942f4fcca008d29d81e28430",
       "tabbable": null,
       "tooltip": null
      }
     },
     "af0c406868bb4b23a5931b8229fa0dad": {
      "model_module": "@jupyter-widgets/controls",
      "model_module_version": "2.0.0",
      "model_name": "HTMLModel",
      "state": {
       "_dom_classes": [],
       "_model_module": "@jupyter-widgets/controls",
       "_model_module_version": "2.0.0",
       "_model_name": "HTMLModel",
       "_view_count": null,
       "_view_module": "@jupyter-widgets/controls",
       "_view_module_version": "2.0.0",
       "_view_name": "HTMLView",
       "description": "",
       "description_allow_html": false,
       "layout": "IPY_MODEL_e6dcff49c92f442c80442b3bb78c52aa",
       "placeholder": "​",
       "style": "IPY_MODEL_5947b280b56c4591a1f29495fd6b4bdd",
       "tabbable": null,
       "tooltip": null,
       "value": " 2/2 [00:42&lt;00:00, 18.79s/it]"
      }
     },
     "af2cb1d4806d443aa258cf3806edc452": {
      "model_module": "@jupyter-widgets/base",
      "model_module_version": "2.0.0",
      "model_name": "LayoutModel",
      "state": {
       "_model_module": "@jupyter-widgets/base",
       "_model_module_version": "2.0.0",
       "_model_name": "LayoutModel",
       "_view_count": null,
       "_view_module": "@jupyter-widgets/base",
       "_view_module_version": "2.0.0",
       "_view_name": "LayoutView",
       "align_content": null,
       "align_items": null,
       "align_self": null,
       "border_bottom": null,
       "border_left": null,
       "border_right": null,
       "border_top": null,
       "bottom": null,
       "display": null,
       "flex": null,
       "flex_flow": null,
       "grid_area": null,
       "grid_auto_columns": null,
       "grid_auto_flow": null,
       "grid_auto_rows": null,
       "grid_column": null,
       "grid_gap": null,
       "grid_row": null,
       "grid_template_areas": null,
       "grid_template_columns": null,
       "grid_template_rows": null,
       "height": null,
       "justify_content": null,
       "justify_items": null,
       "left": null,
       "margin": null,
       "max_height": null,
       "max_width": null,
       "min_height": null,
       "min_width": null,
       "object_fit": null,
       "object_position": null,
       "order": null,
       "overflow": null,
       "padding": null,
       "right": null,
       "top": null,
       "visibility": null,
       "width": null
      }
     },
     "af97fb771f564e4e8a087b4de87d9c0f": {
      "model_module": "@jupyter-widgets/controls",
      "model_module_version": "2.0.0",
      "model_name": "HTMLModel",
      "state": {
       "_dom_classes": [],
       "_model_module": "@jupyter-widgets/controls",
       "_model_module_version": "2.0.0",
       "_model_name": "HTMLModel",
       "_view_count": null,
       "_view_module": "@jupyter-widgets/controls",
       "_view_module_version": "2.0.0",
       "_view_name": "HTMLView",
       "description": "",
       "description_allow_html": false,
       "layout": "IPY_MODEL_6420eec1f1dd4798b4e8d8f8a8bba113",
       "placeholder": "​",
       "style": "IPY_MODEL_948c3464f3e544e0a173aeb0117ec94a",
       "tabbable": null,
       "tooltip": null,
       "value": " 2.10k/2.10k [00:00&lt;00:00, 210kB/s]"
      }
     },
     "afb5800993c14720812606e4919e5f17": {
      "model_module": "@jupyter-widgets/controls",
      "model_module_version": "2.0.0",
      "model_name": "ProgressStyleModel",
      "state": {
       "_model_module": "@jupyter-widgets/controls",
       "_model_module_version": "2.0.0",
       "_model_name": "ProgressStyleModel",
       "_view_count": null,
       "_view_module": "@jupyter-widgets/base",
       "_view_module_version": "2.0.0",
       "_view_name": "StyleView",
       "bar_color": null,
       "description_width": ""
      }
     },
     "b0044537e0a5492ca20c99242662efc4": {
      "model_module": "@jupyter-widgets/controls",
      "model_module_version": "2.0.0",
      "model_name": "FloatProgressModel",
      "state": {
       "_dom_classes": [],
       "_model_module": "@jupyter-widgets/controls",
       "_model_module_version": "2.0.0",
       "_model_name": "FloatProgressModel",
       "_view_count": null,
       "_view_module": "@jupyter-widgets/controls",
       "_view_module_version": "2.0.0",
       "_view_name": "ProgressView",
       "bar_style": "success",
       "description": "",
       "description_allow_html": false,
       "layout": "IPY_MODEL_b6c6ed38289b49c780d5e467208f6bea",
       "max": 414.0,
       "min": 0.0,
       "orientation": "horizontal",
       "style": "IPY_MODEL_b2ddf52acf2b407c95069520185c6845",
       "tabbable": null,
       "tooltip": null,
       "value": 414.0
      }
     },
     "b0c0de49dde84609976caab66a421c18": {
      "model_module": "@jupyter-widgets/base",
      "model_module_version": "2.0.0",
      "model_name": "LayoutModel",
      "state": {
       "_model_module": "@jupyter-widgets/base",
       "_model_module_version": "2.0.0",
       "_model_name": "LayoutModel",
       "_view_count": null,
       "_view_module": "@jupyter-widgets/base",
       "_view_module_version": "2.0.0",
       "_view_name": "LayoutView",
       "align_content": null,
       "align_items": null,
       "align_self": null,
       "border_bottom": null,
       "border_left": null,
       "border_right": null,
       "border_top": null,
       "bottom": null,
       "display": null,
       "flex": null,
       "flex_flow": null,
       "grid_area": null,
       "grid_auto_columns": null,
       "grid_auto_flow": null,
       "grid_auto_rows": null,
       "grid_column": null,
       "grid_gap": null,
       "grid_row": null,
       "grid_template_areas": null,
       "grid_template_columns": null,
       "grid_template_rows": null,
       "height": null,
       "justify_content": null,
       "justify_items": null,
       "left": null,
       "margin": null,
       "max_height": null,
       "max_width": null,
       "min_height": null,
       "min_width": null,
       "object_fit": null,
       "object_position": null,
       "order": null,
       "overflow": null,
       "padding": null,
       "right": null,
       "top": null,
       "visibility": null,
       "width": null
      }
     },
     "b0f4854f1b5e41609b639fc3ea5962b2": {
      "model_module": "@jupyter-widgets/controls",
      "model_module_version": "2.0.0",
      "model_name": "HTMLModel",
      "state": {
       "_dom_classes": [],
       "_model_module": "@jupyter-widgets/controls",
       "_model_module_version": "2.0.0",
       "_model_name": "HTMLModel",
       "_view_count": null,
       "_view_module": "@jupyter-widgets/controls",
       "_view_module_version": "2.0.0",
       "_view_name": "HTMLView",
       "description": "",
       "description_allow_html": false,
       "layout": "IPY_MODEL_b53be07b953d4ae0bcadc650eb41c162",
       "placeholder": "​",
       "style": "IPY_MODEL_df504a6f356d4a9d99c6c3043d03cea4",
       "tabbable": null,
       "tooltip": null,
       "value": "generation_config.json: 100%"
      }
     },
     "b1acfabc0796409a8d52fdbd551f964b": {
      "model_module": "@jupyter-widgets/base",
      "model_module_version": "2.0.0",
      "model_name": "LayoutModel",
      "state": {
       "_model_module": "@jupyter-widgets/base",
       "_model_module_version": "2.0.0",
       "_model_name": "LayoutModel",
       "_view_count": null,
       "_view_module": "@jupyter-widgets/base",
       "_view_module_version": "2.0.0",
       "_view_name": "LayoutView",
       "align_content": null,
       "align_items": null,
       "align_self": null,
       "border_bottom": null,
       "border_left": null,
       "border_right": null,
       "border_top": null,
       "bottom": null,
       "display": null,
       "flex": null,
       "flex_flow": null,
       "grid_area": null,
       "grid_auto_columns": null,
       "grid_auto_flow": null,
       "grid_auto_rows": null,
       "grid_column": null,
       "grid_gap": null,
       "grid_row": null,
       "grid_template_areas": null,
       "grid_template_columns": null,
       "grid_template_rows": null,
       "height": null,
       "justify_content": null,
       "justify_items": null,
       "left": null,
       "margin": null,
       "max_height": null,
       "max_width": null,
       "min_height": null,
       "min_width": null,
       "object_fit": null,
       "object_position": null,
       "order": null,
       "overflow": null,
       "padding": null,
       "right": null,
       "top": null,
       "visibility": null,
       "width": null
      }
     },
     "b21702e419bc4d4c91559c1ab856e02e": {
      "model_module": "@jupyter-widgets/controls",
      "model_module_version": "2.0.0",
      "model_name": "HTMLStyleModel",
      "state": {
       "_model_module": "@jupyter-widgets/controls",
       "_model_module_version": "2.0.0",
       "_model_name": "HTMLStyleModel",
       "_view_count": null,
       "_view_module": "@jupyter-widgets/base",
       "_view_module_version": "2.0.0",
       "_view_name": "StyleView",
       "background": null,
       "description_width": "",
       "font_size": null,
       "text_color": null
      }
     },
     "b2ddf52acf2b407c95069520185c6845": {
      "model_module": "@jupyter-widgets/controls",
      "model_module_version": "2.0.0",
      "model_name": "ProgressStyleModel",
      "state": {
       "_model_module": "@jupyter-widgets/controls",
       "_model_module_version": "2.0.0",
       "_model_name": "ProgressStyleModel",
       "_view_count": null,
       "_view_module": "@jupyter-widgets/base",
       "_view_module_version": "2.0.0",
       "_view_name": "StyleView",
       "bar_color": null,
       "description_width": ""
      }
     },
     "b44f7a35c2e846258c3b9bdfeeae6fe8": {
      "model_module": "@jupyter-widgets/controls",
      "model_module_version": "2.0.0",
      "model_name": "HTMLModel",
      "state": {
       "_dom_classes": [],
       "_model_module": "@jupyter-widgets/controls",
       "_model_module_version": "2.0.0",
       "_model_name": "HTMLModel",
       "_view_count": null,
       "_view_module": "@jupyter-widgets/controls",
       "_view_module_version": "2.0.0",
       "_view_name": "HTMLView",
       "description": "",
       "description_allow_html": false,
       "layout": "IPY_MODEL_85c0d57715514732a7e2544a5f8b1fdf",
       "placeholder": "​",
       "style": "IPY_MODEL_a9b87bd39b374a57bc4a75b44e677a6d",
       "tabbable": null,
       "tooltip": null,
       "value": "model-00001-of-00002.safetensors: 100%"
      }
     },
     "b53be07b953d4ae0bcadc650eb41c162": {
      "model_module": "@jupyter-widgets/base",
      "model_module_version": "2.0.0",
      "model_name": "LayoutModel",
      "state": {
       "_model_module": "@jupyter-widgets/base",
       "_model_module_version": "2.0.0",
       "_model_name": "LayoutModel",
       "_view_count": null,
       "_view_module": "@jupyter-widgets/base",
       "_view_module_version": "2.0.0",
       "_view_name": "LayoutView",
       "align_content": null,
       "align_items": null,
       "align_self": null,
       "border_bottom": null,
       "border_left": null,
       "border_right": null,
       "border_top": null,
       "bottom": null,
       "display": null,
       "flex": null,
       "flex_flow": null,
       "grid_area": null,
       "grid_auto_columns": null,
       "grid_auto_flow": null,
       "grid_auto_rows": null,
       "grid_column": null,
       "grid_gap": null,
       "grid_row": null,
       "grid_template_areas": null,
       "grid_template_columns": null,
       "grid_template_rows": null,
       "height": null,
       "justify_content": null,
       "justify_items": null,
       "left": null,
       "margin": null,
       "max_height": null,
       "max_width": null,
       "min_height": null,
       "min_width": null,
       "object_fit": null,
       "object_position": null,
       "order": null,
       "overflow": null,
       "padding": null,
       "right": null,
       "top": null,
       "visibility": null,
       "width": null
      }
     },
     "b6c6ed38289b49c780d5e467208f6bea": {
      "model_module": "@jupyter-widgets/base",
      "model_module_version": "2.0.0",
      "model_name": "LayoutModel",
      "state": {
       "_model_module": "@jupyter-widgets/base",
       "_model_module_version": "2.0.0",
       "_model_name": "LayoutModel",
       "_view_count": null,
       "_view_module": "@jupyter-widgets/base",
       "_view_module_version": "2.0.0",
       "_view_name": "LayoutView",
       "align_content": null,
       "align_items": null,
       "align_self": null,
       "border_bottom": null,
       "border_left": null,
       "border_right": null,
       "border_top": null,
       "bottom": null,
       "display": null,
       "flex": null,
       "flex_flow": null,
       "grid_area": null,
       "grid_auto_columns": null,
       "grid_auto_flow": null,
       "grid_auto_rows": null,
       "grid_column": null,
       "grid_gap": null,
       "grid_row": null,
       "grid_template_areas": null,
       "grid_template_columns": null,
       "grid_template_rows": null,
       "height": null,
       "justify_content": null,
       "justify_items": null,
       "left": null,
       "margin": null,
       "max_height": null,
       "max_width": null,
       "min_height": null,
       "min_width": null,
       "object_fit": null,
       "object_position": null,
       "order": null,
       "overflow": null,
       "padding": null,
       "right": null,
       "top": null,
       "visibility": null,
       "width": null
      }
     },
     "b73af68369fa499a98a12af0929ec013": {
      "model_module": "@jupyter-widgets/controls",
      "model_module_version": "2.0.0",
      "model_name": "HTMLModel",
      "state": {
       "_dom_classes": [],
       "_model_module": "@jupyter-widgets/controls",
       "_model_module_version": "2.0.0",
       "_model_name": "HTMLModel",
       "_view_count": null,
       "_view_module": "@jupyter-widgets/controls",
       "_view_module_version": "2.0.0",
       "_view_name": "HTMLView",
       "description": "",
       "description_allow_html": false,
       "layout": "IPY_MODEL_33938d588acd480594562e9a4dbf8bc2",
       "placeholder": "​",
       "style": "IPY_MODEL_33bf5541b94d4d1ea4b405f4b38279be",
       "tabbable": null,
       "tooltip": null,
       "value": "Downloading shards: 100%"
      }
     },
     "b892e2842cda4f109d88b52135f62d5e": {
      "model_module": "@jupyter-widgets/base",
      "model_module_version": "2.0.0",
      "model_name": "LayoutModel",
      "state": {
       "_model_module": "@jupyter-widgets/base",
       "_model_module_version": "2.0.0",
       "_model_name": "LayoutModel",
       "_view_count": null,
       "_view_module": "@jupyter-widgets/base",
       "_view_module_version": "2.0.0",
       "_view_name": "LayoutView",
       "align_content": null,
       "align_items": null,
       "align_self": null,
       "border_bottom": null,
       "border_left": null,
       "border_right": null,
       "border_top": null,
       "bottom": null,
       "display": null,
       "flex": null,
       "flex_flow": null,
       "grid_area": null,
       "grid_auto_columns": null,
       "grid_auto_flow": null,
       "grid_auto_rows": null,
       "grid_column": null,
       "grid_gap": null,
       "grid_row": null,
       "grid_template_areas": null,
       "grid_template_columns": null,
       "grid_template_rows": null,
       "height": null,
       "justify_content": null,
       "justify_items": null,
       "left": null,
       "margin": null,
       "max_height": null,
       "max_width": null,
       "min_height": null,
       "min_width": null,
       "object_fit": null,
       "object_position": null,
       "order": null,
       "overflow": null,
       "padding": null,
       "right": null,
       "top": null,
       "visibility": null,
       "width": null
      }
     },
     "b948b7f6006641f5ad7f923697fa71a1": {
      "model_module": "@jupyter-widgets/controls",
      "model_module_version": "2.0.0",
      "model_name": "FloatProgressModel",
      "state": {
       "_dom_classes": [],
       "_model_module": "@jupyter-widgets/controls",
       "_model_module_version": "2.0.0",
       "_model_name": "FloatProgressModel",
       "_view_count": null,
       "_view_module": "@jupyter-widgets/controls",
       "_view_module_version": "2.0.0",
       "_view_name": "ProgressView",
       "bar_style": "success",
       "description": "",
       "description_allow_html": false,
       "layout": "IPY_MODEL_b1acfabc0796409a8d52fdbd551f964b",
       "max": 571.0,
       "min": 0.0,
       "orientation": "horizontal",
       "style": "IPY_MODEL_470a945131954b2eae2d1c563b7fbcd3",
       "tabbable": null,
       "tooltip": null,
       "value": 571.0
      }
     },
     "be6c9cf25ab04c6c879531905495dc6b": {
      "model_module": "@jupyter-widgets/base",
      "model_module_version": "2.0.0",
      "model_name": "LayoutModel",
      "state": {
       "_model_module": "@jupyter-widgets/base",
       "_model_module_version": "2.0.0",
       "_model_name": "LayoutModel",
       "_view_count": null,
       "_view_module": "@jupyter-widgets/base",
       "_view_module_version": "2.0.0",
       "_view_name": "LayoutView",
       "align_content": null,
       "align_items": null,
       "align_self": null,
       "border_bottom": null,
       "border_left": null,
       "border_right": null,
       "border_top": null,
       "bottom": null,
       "display": null,
       "flex": null,
       "flex_flow": null,
       "grid_area": null,
       "grid_auto_columns": null,
       "grid_auto_flow": null,
       "grid_auto_rows": null,
       "grid_column": null,
       "grid_gap": null,
       "grid_row": null,
       "grid_template_areas": null,
       "grid_template_columns": null,
       "grid_template_rows": null,
       "height": null,
       "justify_content": null,
       "justify_items": null,
       "left": null,
       "margin": null,
       "max_height": null,
       "max_width": null,
       "min_height": null,
       "min_width": null,
       "object_fit": null,
       "object_position": null,
       "order": null,
       "overflow": null,
       "padding": null,
       "right": null,
       "top": null,
       "visibility": null,
       "width": null
      }
     },
     "bfe53c38f7164f229e617db71bf7f0e7": {
      "model_module": "@jupyter-widgets/controls",
      "model_module_version": "2.0.0",
      "model_name": "HTMLStyleModel",
      "state": {
       "_model_module": "@jupyter-widgets/controls",
       "_model_module_version": "2.0.0",
       "_model_name": "HTMLStyleModel",
       "_view_count": null,
       "_view_module": "@jupyter-widgets/base",
       "_view_module_version": "2.0.0",
       "_view_name": "StyleView",
       "background": null,
       "description_width": "",
       "font_size": null,
       "text_color": null
      }
     },
     "c0c58d8e165b439ebdeff0756780bc15": {
      "model_module": "@jupyter-widgets/controls",
      "model_module_version": "2.0.0",
      "model_name": "HBoxModel",
      "state": {
       "_dom_classes": [],
       "_model_module": "@jupyter-widgets/controls",
       "_model_module_version": "2.0.0",
       "_model_name": "HBoxModel",
       "_view_count": null,
       "_view_module": "@jupyter-widgets/controls",
       "_view_module_version": "2.0.0",
       "_view_name": "HBoxView",
       "box_style": "",
       "children": [
        "IPY_MODEL_24f6b4b67c204a47a052b1ffc146c7b1",
        "IPY_MODEL_b948b7f6006641f5ad7f923697fa71a1",
        "IPY_MODEL_495b42e286d44a5698c4a3c3a2651f5d"
       ],
       "layout": "IPY_MODEL_eee410bbae454afb9ca3a7525497c7ae",
       "tabbable": null,
       "tooltip": null
      }
     },
     "c43db904e0194ddd992e36d968b7360f": {
      "model_module": "@jupyter-widgets/base",
      "model_module_version": "2.0.0",
      "model_name": "LayoutModel",
      "state": {
       "_model_module": "@jupyter-widgets/base",
       "_model_module_version": "2.0.0",
       "_model_name": "LayoutModel",
       "_view_count": null,
       "_view_module": "@jupyter-widgets/base",
       "_view_module_version": "2.0.0",
       "_view_name": "LayoutView",
       "align_content": null,
       "align_items": null,
       "align_self": null,
       "border_bottom": null,
       "border_left": null,
       "border_right": null,
       "border_top": null,
       "bottom": null,
       "display": null,
       "flex": null,
       "flex_flow": null,
       "grid_area": null,
       "grid_auto_columns": null,
       "grid_auto_flow": null,
       "grid_auto_rows": null,
       "grid_column": null,
       "grid_gap": null,
       "grid_row": null,
       "grid_template_areas": null,
       "grid_template_columns": null,
       "grid_template_rows": null,
       "height": null,
       "justify_content": null,
       "justify_items": null,
       "left": null,
       "margin": null,
       "max_height": null,
       "max_width": null,
       "min_height": null,
       "min_width": null,
       "object_fit": null,
       "object_position": null,
       "order": null,
       "overflow": null,
       "padding": null,
       "right": null,
       "top": null,
       "visibility": null,
       "width": null
      }
     },
     "ca3bfcdd40a24ffb8ae72994853cc203": {
      "model_module": "@jupyter-widgets/base",
      "model_module_version": "2.0.0",
      "model_name": "LayoutModel",
      "state": {
       "_model_module": "@jupyter-widgets/base",
       "_model_module_version": "2.0.0",
       "_model_name": "LayoutModel",
       "_view_count": null,
       "_view_module": "@jupyter-widgets/base",
       "_view_module_version": "2.0.0",
       "_view_name": "LayoutView",
       "align_content": null,
       "align_items": null,
       "align_self": null,
       "border_bottom": null,
       "border_left": null,
       "border_right": null,
       "border_top": null,
       "bottom": null,
       "display": null,
       "flex": null,
       "flex_flow": null,
       "grid_area": null,
       "grid_auto_columns": null,
       "grid_auto_flow": null,
       "grid_auto_rows": null,
       "grid_column": null,
       "grid_gap": null,
       "grid_row": null,
       "grid_template_areas": null,
       "grid_template_columns": null,
       "grid_template_rows": null,
       "height": null,
       "justify_content": null,
       "justify_items": null,
       "left": null,
       "margin": null,
       "max_height": null,
       "max_width": null,
       "min_height": null,
       "min_width": null,
       "object_fit": null,
       "object_position": null,
       "order": null,
       "overflow": null,
       "padding": null,
       "right": null,
       "top": null,
       "visibility": null,
       "width": null
      }
     },
     "cd11a846b3494633b60593026a426805": {
      "model_module": "@jupyter-widgets/controls",
      "model_module_version": "2.0.0",
      "model_name": "HBoxModel",
      "state": {
       "_dom_classes": [],
       "_model_module": "@jupyter-widgets/controls",
       "_model_module_version": "2.0.0",
       "_model_name": "HBoxModel",
       "_view_count": null,
       "_view_module": "@jupyter-widgets/controls",
       "_view_module_version": "2.0.0",
       "_view_name": "HBoxView",
       "box_style": "",
       "children": [
        "IPY_MODEL_b73af68369fa499a98a12af0929ec013",
        "IPY_MODEL_2041639a0c73473ba443502da744b465",
        "IPY_MODEL_5d2cdbad99994379b8ce26b49553e2fe"
       ],
       "layout": "IPY_MODEL_0d6a89f89e804ff69a8ae13acbfa08a9",
       "tabbable": null,
       "tooltip": null
      }
     },
     "d25a33f18d38464aacafb311784afe75": {
      "model_module": "@jupyter-widgets/controls",
      "model_module_version": "2.0.0",
      "model_name": "HTMLModel",
      "state": {
       "_dom_classes": [],
       "_model_module": "@jupyter-widgets/controls",
       "_model_module_version": "2.0.0",
       "_model_name": "HTMLModel",
       "_view_count": null,
       "_view_module": "@jupyter-widgets/controls",
       "_view_module_version": "2.0.0",
       "_view_name": "HTMLView",
       "description": "",
       "description_allow_html": false,
       "layout": "IPY_MODEL_c43db904e0194ddd992e36d968b7360f",
       "placeholder": "​",
       "style": "IPY_MODEL_bfe53c38f7164f229e617db71bf7f0e7",
       "tabbable": null,
       "tooltip": null,
       "value": " 1.80M/1.80M [00:00&lt;00:00, 22.7MB/s]"
      }
     },
     "d5d7fc4358bc413e80a6582ff36a55da": {
      "model_module": "@jupyter-widgets/base",
      "model_module_version": "2.0.0",
      "model_name": "LayoutModel",
      "state": {
       "_model_module": "@jupyter-widgets/base",
       "_model_module_version": "2.0.0",
       "_model_name": "LayoutModel",
       "_view_count": null,
       "_view_module": "@jupyter-widgets/base",
       "_view_module_version": "2.0.0",
       "_view_name": "LayoutView",
       "align_content": null,
       "align_items": null,
       "align_self": null,
       "border_bottom": null,
       "border_left": null,
       "border_right": null,
       "border_top": null,
       "bottom": null,
       "display": null,
       "flex": null,
       "flex_flow": null,
       "grid_area": null,
       "grid_auto_columns": null,
       "grid_auto_flow": null,
       "grid_auto_rows": null,
       "grid_column": null,
       "grid_gap": null,
       "grid_row": null,
       "grid_template_areas": null,
       "grid_template_columns": null,
       "grid_template_rows": null,
       "height": null,
       "justify_content": null,
       "justify_items": null,
       "left": null,
       "margin": null,
       "max_height": null,
       "max_width": null,
       "min_height": null,
       "min_width": null,
       "object_fit": null,
       "object_position": null,
       "order": null,
       "overflow": null,
       "padding": null,
       "right": null,
       "top": null,
       "visibility": null,
       "width": null
      }
     },
     "db5e8735f2ea4ef6b1e3d8b338e52b27": {
      "model_module": "@jupyter-widgets/base",
      "model_module_version": "2.0.0",
      "model_name": "LayoutModel",
      "state": {
       "_model_module": "@jupyter-widgets/base",
       "_model_module_version": "2.0.0",
       "_model_name": "LayoutModel",
       "_view_count": null,
       "_view_module": "@jupyter-widgets/base",
       "_view_module_version": "2.0.0",
       "_view_name": "LayoutView",
       "align_content": null,
       "align_items": null,
       "align_self": null,
       "border_bottom": null,
       "border_left": null,
       "border_right": null,
       "border_top": null,
       "bottom": null,
       "display": null,
       "flex": null,
       "flex_flow": null,
       "grid_area": null,
       "grid_auto_columns": null,
       "grid_auto_flow": null,
       "grid_auto_rows": null,
       "grid_column": null,
       "grid_gap": null,
       "grid_row": null,
       "grid_template_areas": null,
       "grid_template_columns": null,
       "grid_template_rows": null,
       "height": null,
       "justify_content": null,
       "justify_items": null,
       "left": null,
       "margin": null,
       "max_height": null,
       "max_width": null,
       "min_height": null,
       "min_width": null,
       "object_fit": null,
       "object_position": null,
       "order": null,
       "overflow": null,
       "padding": null,
       "right": null,
       "top": null,
       "visibility": null,
       "width": null
      }
     },
     "dcbf6ef78b0f4dbd9d25f23ecdb87d31": {
      "model_module": "@jupyter-widgets/controls",
      "model_module_version": "2.0.0",
      "model_name": "ProgressStyleModel",
      "state": {
       "_model_module": "@jupyter-widgets/controls",
       "_model_module_version": "2.0.0",
       "_model_name": "ProgressStyleModel",
       "_view_count": null,
       "_view_module": "@jupyter-widgets/base",
       "_view_module_version": "2.0.0",
       "_view_name": "StyleView",
       "bar_color": null,
       "description_width": ""
      }
     },
     "dcc48febd6a24795a529e8669d292a0f": {
      "model_module": "@jupyter-widgets/base",
      "model_module_version": "2.0.0",
      "model_name": "LayoutModel",
      "state": {
       "_model_module": "@jupyter-widgets/base",
       "_model_module_version": "2.0.0",
       "_model_name": "LayoutModel",
       "_view_count": null,
       "_view_module": "@jupyter-widgets/base",
       "_view_module_version": "2.0.0",
       "_view_name": "LayoutView",
       "align_content": null,
       "align_items": null,
       "align_self": null,
       "border_bottom": null,
       "border_left": null,
       "border_right": null,
       "border_top": null,
       "bottom": null,
       "display": null,
       "flex": null,
       "flex_flow": null,
       "grid_area": null,
       "grid_auto_columns": null,
       "grid_auto_flow": null,
       "grid_auto_rows": null,
       "grid_column": null,
       "grid_gap": null,
       "grid_row": null,
       "grid_template_areas": null,
       "grid_template_columns": null,
       "grid_template_rows": null,
       "height": null,
       "justify_content": null,
       "justify_items": null,
       "left": null,
       "margin": null,
       "max_height": null,
       "max_width": null,
       "min_height": null,
       "min_width": null,
       "object_fit": null,
       "object_position": null,
       "order": null,
       "overflow": null,
       "padding": null,
       "right": null,
       "top": null,
       "visibility": null,
       "width": null
      }
     },
     "ddd6ec1d785e46008d9ebd375ccd24b6": {
      "model_module": "@jupyter-widgets/controls",
      "model_module_version": "2.0.0",
      "model_name": "HTMLStyleModel",
      "state": {
       "_model_module": "@jupyter-widgets/controls",
       "_model_module_version": "2.0.0",
       "_model_name": "HTMLStyleModel",
       "_view_count": null,
       "_view_module": "@jupyter-widgets/base",
       "_view_module_version": "2.0.0",
       "_view_name": "StyleView",
       "background": null,
       "description_width": "",
       "font_size": null,
       "text_color": null
      }
     },
     "df3670afc77f44cc8383456727becec7": {
      "model_module": "@jupyter-widgets/base",
      "model_module_version": "2.0.0",
      "model_name": "LayoutModel",
      "state": {
       "_model_module": "@jupyter-widgets/base",
       "_model_module_version": "2.0.0",
       "_model_name": "LayoutModel",
       "_view_count": null,
       "_view_module": "@jupyter-widgets/base",
       "_view_module_version": "2.0.0",
       "_view_name": "LayoutView",
       "align_content": null,
       "align_items": null,
       "align_self": null,
       "border_bottom": null,
       "border_left": null,
       "border_right": null,
       "border_top": null,
       "bottom": null,
       "display": null,
       "flex": null,
       "flex_flow": null,
       "grid_area": null,
       "grid_auto_columns": null,
       "grid_auto_flow": null,
       "grid_auto_rows": null,
       "grid_column": null,
       "grid_gap": null,
       "grid_row": null,
       "grid_template_areas": null,
       "grid_template_columns": null,
       "grid_template_rows": null,
       "height": null,
       "justify_content": null,
       "justify_items": null,
       "left": null,
       "margin": null,
       "max_height": null,
       "max_width": null,
       "min_height": null,
       "min_width": null,
       "object_fit": null,
       "object_position": null,
       "order": null,
       "overflow": null,
       "padding": null,
       "right": null,
       "top": null,
       "visibility": null,
       "width": null
      }
     },
     "df504a6f356d4a9d99c6c3043d03cea4": {
      "model_module": "@jupyter-widgets/controls",
      "model_module_version": "2.0.0",
      "model_name": "HTMLStyleModel",
      "state": {
       "_model_module": "@jupyter-widgets/controls",
       "_model_module_version": "2.0.0",
       "_model_name": "HTMLStyleModel",
       "_view_count": null,
       "_view_module": "@jupyter-widgets/base",
       "_view_module_version": "2.0.0",
       "_view_name": "StyleView",
       "background": null,
       "description_width": "",
       "font_size": null,
       "text_color": null
      }
     },
     "e04b5e8bd9d6422ea3d57a9390e64c56": {
      "model_module": "@jupyter-widgets/controls",
      "model_module_version": "2.0.0",
      "model_name": "FloatProgressModel",
      "state": {
       "_dom_classes": [],
       "_model_module": "@jupyter-widgets/controls",
       "_model_module_version": "2.0.0",
       "_model_name": "FloatProgressModel",
       "_view_count": null,
       "_view_module": "@jupyter-widgets/controls",
       "_view_module_version": "2.0.0",
       "_view_name": "ProgressView",
       "bar_style": "success",
       "description": "",
       "description_allow_html": false,
       "layout": "IPY_MODEL_af2cb1d4806d443aa258cf3806edc452",
       "max": 2103.0,
       "min": 0.0,
       "orientation": "horizontal",
       "style": "IPY_MODEL_dcbf6ef78b0f4dbd9d25f23ecdb87d31",
       "tabbable": null,
       "tooltip": null,
       "value": 2103.0
      }
     },
     "e2f2c64b4f2e4b71bf7e5ff392c0b253": {
      "model_module": "@jupyter-widgets/controls",
      "model_module_version": "2.0.0",
      "model_name": "HBoxModel",
      "state": {
       "_dom_classes": [],
       "_model_module": "@jupyter-widgets/controls",
       "_model_module_version": "2.0.0",
       "_model_name": "HBoxModel",
       "_view_count": null,
       "_view_module": "@jupyter-widgets/controls",
       "_view_module_version": "2.0.0",
       "_view_name": "HBoxView",
       "box_style": "",
       "children": [
        "IPY_MODEL_23381d216faf47a284a5a92e7dd88fe8",
        "IPY_MODEL_e04b5e8bd9d6422ea3d57a9390e64c56",
        "IPY_MODEL_af97fb771f564e4e8a087b4de87d9c0f"
       ],
       "layout": "IPY_MODEL_5579b624029c49ed8a03cdfaea10dcb1",
       "tabbable": null,
       "tooltip": null
      }
     },
     "e444d0eaa6e8450db4cc13b1a1922d03": {
      "model_module": "@jupyter-widgets/controls",
      "model_module_version": "2.0.0",
      "model_name": "HTMLStyleModel",
      "state": {
       "_model_module": "@jupyter-widgets/controls",
       "_model_module_version": "2.0.0",
       "_model_name": "HTMLStyleModel",
       "_view_count": null,
       "_view_module": "@jupyter-widgets/base",
       "_view_module_version": "2.0.0",
       "_view_name": "StyleView",
       "background": null,
       "description_width": "",
       "font_size": null,
       "text_color": null
      }
     },
     "e6dcff49c92f442c80442b3bb78c52aa": {
      "model_module": "@jupyter-widgets/base",
      "model_module_version": "2.0.0",
      "model_name": "LayoutModel",
      "state": {
       "_model_module": "@jupyter-widgets/base",
       "_model_module_version": "2.0.0",
       "_model_name": "LayoutModel",
       "_view_count": null,
       "_view_module": "@jupyter-widgets/base",
       "_view_module_version": "2.0.0",
       "_view_name": "LayoutView",
       "align_content": null,
       "align_items": null,
       "align_self": null,
       "border_bottom": null,
       "border_left": null,
       "border_right": null,
       "border_top": null,
       "bottom": null,
       "display": null,
       "flex": null,
       "flex_flow": null,
       "grid_area": null,
       "grid_auto_columns": null,
       "grid_auto_flow": null,
       "grid_auto_rows": null,
       "grid_column": null,
       "grid_gap": null,
       "grid_row": null,
       "grid_template_areas": null,
       "grid_template_columns": null,
       "grid_template_rows": null,
       "height": null,
       "justify_content": null,
       "justify_items": null,
       "left": null,
       "margin": null,
       "max_height": null,
       "max_width": null,
       "min_height": null,
       "min_width": null,
       "object_fit": null,
       "object_position": null,
       "order": null,
       "overflow": null,
       "padding": null,
       "right": null,
       "top": null,
       "visibility": null,
       "width": null
      }
     },
     "e9e40faea8c246deaf08da8166520b93": {
      "model_module": "@jupyter-widgets/controls",
      "model_module_version": "2.0.0",
      "model_name": "HTMLModel",
      "state": {
       "_dom_classes": [],
       "_model_module": "@jupyter-widgets/controls",
       "_model_module_version": "2.0.0",
       "_model_name": "HTMLModel",
       "_view_count": null,
       "_view_module": "@jupyter-widgets/controls",
       "_view_module_version": "2.0.0",
       "_view_name": "HTMLView",
       "description": "",
       "description_allow_html": false,
       "layout": "IPY_MODEL_6258a9f81d6644f0a929379410b3a0b6",
       "placeholder": "​",
       "style": "IPY_MODEL_b21702e419bc4d4c91559c1ab856e02e",
       "tabbable": null,
       "tooltip": null,
       "value": " 116/116 [00:00&lt;00:00, 12.8kB/s]"
      }
     },
     "ea0485d3aadb4f31a2f4d14ce89bb169": {
      "model_module": "@jupyter-widgets/controls",
      "model_module_version": "2.0.0",
      "model_name": "HTMLModel",
      "state": {
       "_dom_classes": [],
       "_model_module": "@jupyter-widgets/controls",
       "_model_module_version": "2.0.0",
       "_model_name": "HTMLModel",
       "_view_count": null,
       "_view_module": "@jupyter-widgets/controls",
       "_view_module_version": "2.0.0",
       "_view_name": "HTMLView",
       "description": "",
       "description_allow_html": false,
       "layout": "IPY_MODEL_76989ff1b31a419f8090dc40d3b01578",
       "placeholder": "​",
       "style": "IPY_MODEL_02a6aa6189e941d89bf8c65c31f85a8f",
       "tabbable": null,
       "tooltip": null,
       "value": "Loading checkpoint shards: 100%"
      }
     },
     "ec6b1135e1b94fce8348b159c141c557": {
      "model_module": "@jupyter-widgets/controls",
      "model_module_version": "2.0.0",
      "model_name": "HTMLModel",
      "state": {
       "_dom_classes": [],
       "_model_module": "@jupyter-widgets/controls",
       "_model_module_version": "2.0.0",
       "_model_name": "HTMLModel",
       "_view_count": null,
       "_view_module": "@jupyter-widgets/controls",
       "_view_module_version": "2.0.0",
       "_view_name": "HTMLView",
       "description": "",
       "description_allow_html": false,
       "layout": "IPY_MODEL_dcc48febd6a24795a529e8669d292a0f",
       "placeholder": "​",
       "style": "IPY_MODEL_ee6cb8bf0ee444e08d303dd77e7d5d10",
       "tabbable": null,
       "tooltip": null,
       "value": " 414/414 [00:00&lt;00:00, 40.9kB/s]"
      }
     },
     "ee6cb8bf0ee444e08d303dd77e7d5d10": {
      "model_module": "@jupyter-widgets/controls",
      "model_module_version": "2.0.0",
      "model_name": "HTMLStyleModel",
      "state": {
       "_model_module": "@jupyter-widgets/controls",
       "_model_module_version": "2.0.0",
       "_model_name": "HTMLStyleModel",
       "_view_count": null,
       "_view_module": "@jupyter-widgets/base",
       "_view_module_version": "2.0.0",
       "_view_name": "StyleView",
       "background": null,
       "description_width": "",
       "font_size": null,
       "text_color": null
      }
     },
     "eee410bbae454afb9ca3a7525497c7ae": {
      "model_module": "@jupyter-widgets/base",
      "model_module_version": "2.0.0",
      "model_name": "LayoutModel",
      "state": {
       "_model_module": "@jupyter-widgets/base",
       "_model_module_version": "2.0.0",
       "_model_name": "LayoutModel",
       "_view_count": null,
       "_view_module": "@jupyter-widgets/base",
       "_view_module_version": "2.0.0",
       "_view_name": "LayoutView",
       "align_content": null,
       "align_items": null,
       "align_self": null,
       "border_bottom": null,
       "border_left": null,
       "border_right": null,
       "border_top": null,
       "bottom": null,
       "display": null,
       "flex": null,
       "flex_flow": null,
       "grid_area": null,
       "grid_auto_columns": null,
       "grid_auto_flow": null,
       "grid_auto_rows": null,
       "grid_column": null,
       "grid_gap": null,
       "grid_row": null,
       "grid_template_areas": null,
       "grid_template_columns": null,
       "grid_template_rows": null,
       "height": null,
       "justify_content": null,
       "justify_items": null,
       "left": null,
       "margin": null,
       "max_height": null,
       "max_width": null,
       "min_height": null,
       "min_width": null,
       "object_fit": null,
       "object_position": null,
       "order": null,
       "overflow": null,
       "padding": null,
       "right": null,
       "top": null,
       "visibility": null,
       "width": null
      }
     },
     "f213f589b510413fa06fad081cd5880a": {
      "model_module": "@jupyter-widgets/base",
      "model_module_version": "2.0.0",
      "model_name": "LayoutModel",
      "state": {
       "_model_module": "@jupyter-widgets/base",
       "_model_module_version": "2.0.0",
       "_model_name": "LayoutModel",
       "_view_count": null,
       "_view_module": "@jupyter-widgets/base",
       "_view_module_version": "2.0.0",
       "_view_name": "LayoutView",
       "align_content": null,
       "align_items": null,
       "align_self": null,
       "border_bottom": null,
       "border_left": null,
       "border_right": null,
       "border_top": null,
       "bottom": null,
       "display": null,
       "flex": null,
       "flex_flow": null,
       "grid_area": null,
       "grid_auto_columns": null,
       "grid_auto_flow": null,
       "grid_auto_rows": null,
       "grid_column": null,
       "grid_gap": null,
       "grid_row": null,
       "grid_template_areas": null,
       "grid_template_columns": null,
       "grid_template_rows": null,
       "height": null,
       "justify_content": null,
       "justify_items": null,
       "left": null,
       "margin": null,
       "max_height": null,
       "max_width": null,
       "min_height": null,
       "min_width": null,
       "object_fit": null,
       "object_position": null,
       "order": null,
       "overflow": null,
       "padding": null,
       "right": null,
       "top": null,
       "visibility": null,
       "width": null
      }
     },
     "f75e6e1e4be544bb925fc9c946294ea7": {
      "model_module": "@jupyter-widgets/controls",
      "model_module_version": "2.0.0",
      "model_name": "ProgressStyleModel",
      "state": {
       "_model_module": "@jupyter-widgets/controls",
       "_model_module_version": "2.0.0",
       "_model_name": "ProgressStyleModel",
       "_view_count": null,
       "_view_module": "@jupyter-widgets/base",
       "_view_module_version": "2.0.0",
       "_view_name": "StyleView",
       "bar_color": null,
       "description_width": ""
      }
     },
     "f7921fbaf6224d36b83d8702daa9fd09": {
      "model_module": "@jupyter-widgets/controls",
      "model_module_version": "2.0.0",
      "model_name": "HTMLStyleModel",
      "state": {
       "_model_module": "@jupyter-widgets/controls",
       "_model_module_version": "2.0.0",
       "_model_name": "HTMLStyleModel",
       "_view_count": null,
       "_view_module": "@jupyter-widgets/base",
       "_view_module_version": "2.0.0",
       "_view_name": "StyleView",
       "background": null,
       "description_width": "",
       "font_size": null,
       "text_color": null
      }
     },
     "fa563ab4fef941b59733f2e37441ac4f": {
      "model_module": "@jupyter-widgets/controls",
      "model_module_version": "2.0.0",
      "model_name": "ProgressStyleModel",
      "state": {
       "_model_module": "@jupyter-widgets/controls",
       "_model_module_version": "2.0.0",
       "_model_name": "ProgressStyleModel",
       "_view_count": null,
       "_view_module": "@jupyter-widgets/base",
       "_view_module_version": "2.0.0",
       "_view_name": "StyleView",
       "bar_color": null,
       "description_width": ""
      }
     },
     "fc2fb7ce2eb5404b956e7591d9095f9e": {
      "model_module": "@jupyter-widgets/base",
      "model_module_version": "2.0.0",
      "model_name": "LayoutModel",
      "state": {
       "_model_module": "@jupyter-widgets/base",
       "_model_module_version": "2.0.0",
       "_model_name": "LayoutModel",
       "_view_count": null,
       "_view_module": "@jupyter-widgets/base",
       "_view_module_version": "2.0.0",
       "_view_name": "LayoutView",
       "align_content": null,
       "align_items": null,
       "align_self": null,
       "border_bottom": null,
       "border_left": null,
       "border_right": null,
       "border_top": null,
       "bottom": null,
       "display": null,
       "flex": null,
       "flex_flow": null,
       "grid_area": null,
       "grid_auto_columns": null,
       "grid_auto_flow": null,
       "grid_auto_rows": null,
       "grid_column": null,
       "grid_gap": null,
       "grid_row": null,
       "grid_template_areas": null,
       "grid_template_columns": null,
       "grid_template_rows": null,
       "height": null,
       "justify_content": null,
       "justify_items": null,
       "left": null,
       "margin": null,
       "max_height": null,
       "max_width": null,
       "min_height": null,
       "min_width": null,
       "object_fit": null,
       "object_position": null,
       "order": null,
       "overflow": null,
       "padding": null,
       "right": null,
       "top": null,
       "visibility": null,
       "width": null
      }
     },
     "fe4a2e54fcea451e910a7b271f54e7b9": {
      "model_module": "@jupyter-widgets/controls",
      "model_module_version": "2.0.0",
      "model_name": "HBoxModel",
      "state": {
       "_dom_classes": [],
       "_model_module": "@jupyter-widgets/controls",
       "_model_module_version": "2.0.0",
       "_model_name": "HBoxModel",
       "_view_count": null,
       "_view_module": "@jupyter-widgets/controls",
       "_view_module_version": "2.0.0",
       "_view_name": "HBoxView",
       "box_style": "",
       "children": [
        "IPY_MODEL_ea0485d3aadb4f31a2f4d14ce89bb169",
        "IPY_MODEL_277b3b9928b844b084127e983430f814",
        "IPY_MODEL_af0c406868bb4b23a5931b8229fa0dad"
       ],
       "layout": "IPY_MODEL_ca3bfcdd40a24ffb8ae72994853cc203",
       "tabbable": null,
       "tooltip": null
      }
     }
    },
    "version_major": 2,
    "version_minor": 0
   }
  }
 },
 "nbformat": 4,
 "nbformat_minor": 5
}
